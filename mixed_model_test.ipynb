{
 "cells": [
  {
   "cell_type": "code",
   "execution_count": 48,
   "metadata": {},
   "outputs": [
    {
     "name": "stdout",
     "output_type": "stream",
     "text": [
      "Samples:\n",
      "['F326', 'F327', 'F329', 'F330', 'F331', 'F332', 'F333', 'F334', 'F335', 'F336', 'F337', 'F338', 'F339', 'F340', 'F341', 'F342', 'F343', 'F344', 'F345', 'F346', 'F347', 'F348', 'F349', 'F350', 'F351', 'F352', 'F353', 'F354', 'F355', 'F356', 'F357', 'F358', 'F359', 'F360', 'F361', 'F362', 'F363', 'F364', 'F365', 'F366', 'F367', 'F368', 'F369', 'F371', 'F372', 'F373', 'F374', 'F375', 'F376', 'F377', 'F378', 'F379', 'F380', 'F381', 'F382', 'F383', 'F384', 'F385', 'F386', 'F387', 'F388', 'F389', 'F390', 'F391', 'F392', 'F393', 'F394', 'F395', 'F396', 'F397', 'F398', 'F399', 'F400', 'F401', 'F402', 'F403', 'F405', 'F406', 'F407', 'F408', 'F410', 'F411', 'F412', 'F413', 'F414', 'F415', 'F416', 'F417', 'F418', 'F419', 'F420', 'F421', 'F422', 'F423', 'F424', 'F425', 'M326', 'M327', 'M328', 'M329', 'M330', 'M331', 'M332', 'M333', 'M334', 'M335', 'M336', 'M337', 'M339', 'M340', 'M341', 'M342', 'M343', 'M344', 'M345', 'M347', 'M348', 'M349', 'M350', 'M351', 'M352', 'M353', 'M354', 'M355', 'M356', 'M357', 'M358', 'M359', 'M360', 'M361', 'M362', 'M363', 'M364', 'M365', 'M366', 'M367', 'M368', 'M369', 'M370', 'M371', 'M372', 'M373', 'M374', 'M375', 'M376', 'M378', 'M379', 'M380', 'M381', 'M382', 'M383', 'M384', 'M385', 'M386', 'M387', 'M388', 'M389', 'M390', 'M391', 'M392', 'M393', 'M394', 'M395', 'M396', 'M397', 'M398', 'M399', 'M400', 'M402', 'M403', 'M405', 'M406', 'M407', 'M408', 'M409', 'M410', 'M411', 'M415', 'M416', 'M417', 'M418', 'M419', 'M420', 'M421', 'M422', 'M423', 'M424']\n"
     ]
    },
    {
     "name": "stderr",
     "output_type": "stream",
     "text": [
      "/Users/harryyang/Documents/Research/Class/CS229/cm-229/data_import.py:73: RuntimeWarning: Mean of empty slice\n",
      "  np.nanmean(geno_df_select_transpose, axis=0))/np.nanstd(geno_df_select_transpose, axis=0)\n",
      "/Users/harryyang/anaconda3/lib/python3.6/site-packages/numpy/lib/nanfunctions.py:1628: RuntimeWarning: Degrees of freedom <= 0 for slice.\n",
      "  keepdims=keepdims)\n"
     ]
    }
   ],
   "source": [
    "import os\n",
    "import sys\n",
    "import pandas as pd \n",
    "import numpy as np\n",
    "from data_import import *\n",
    "from phenotype_correlation import *\n",
    "from genotype_correlation import *\n",
    "from baseline_mixed_model import *\n",
    "import statsmodels.api as sm\n",
    "\n",
    "# import data\n",
    "geno_df, pheno_df = import_data_svenson()"
   ]
  },
  {
   "cell_type": "code",
   "execution_count": 49,
   "metadata": {
    "collapsed": true
   },
   "outputs": [],
   "source": [
    "# testing with ghrelin and leptin \n",
    "phenotype_1 = \"weight1\"\n",
    "phenotype_2 = \"length1\"\n",
    "phenotype_3 = \"fat_mri\"\n",
    "missing_rate = 0.1\n",
    "verbose = True\n",
    "sample_list = list()"
   ]
  },
  {
   "cell_type": "code",
   "execution_count": 93,
   "metadata": {},
   "outputs": [
    {
     "name": "stdout",
     "output_type": "stream",
     "text": [
      "The correlation between weight1 and length1 is 0.819920\n",
      "These samples are missing phenotypes:\n",
      "[]\n",
      "(72903, 187)\n",
      "(4887, 187)\n",
      "(187, 2)\n"
     ]
    }
   ],
   "source": [
    "corr_mat = calculate_highly_correlated_phenotypes(pheno_df)\n",
    "\n",
    "print(\"The correlation between %s and %s is %f\" % (phenotype_1, phenotype_2, corr_mat[phenotype_1][phenotype_2]))\n",
    "\n",
    "# bind phenotype into list to extract\n",
    "phenotype_list = [phenotype_1, phenotype_2]\n",
    "\n",
    "# extract the phenotypes \n",
    "geno_select, pheno_select = select_phenotype_multiple_phenotypes(geno_df, pheno_df, phenotype_list = phenotype_list, verbose = verbose)\n",
    "\n",
    "# separate training and test dataset \n",
    "geno_tr, pheno_tr, geno_test, pheno_test, test_sample_list = separate_training_test(geno_select, pheno_select, missing_rate = missing_rate, sample_list_select = sample_list)"
   ]
  },
  {
   "cell_type": "code",
   "execution_count": 94,
   "metadata": {},
   "outputs": [
    {
     "name": "stdout",
     "output_type": "stream",
     "text": [
      "UNC010515443          0.595000\n",
      "UNC16386              1.534974\n",
      "UNC34218              0.911665\n",
      "UNC49759             -0.235371\n",
      "UNC010005983          0.219446\n",
      "JAX00241357          -0.117977\n",
      "UNC70761             -0.301386\n",
      "backupJAX00000484    -0.255459\n",
      "UNC90639              0.064624\n",
      "JAX00241997           0.568197\n",
      "UNC130697             0.227215\n",
      "JAX00242455           0.405715\n",
      "UNC159456             0.926010\n",
      "UNC159803            -0.225193\n",
      "UNC162008            -0.249763\n",
      "UNC177767             0.297114\n",
      "UNC179038            -0.067679\n",
      "UNC187637             0.696899\n",
      "UNC189115             0.158569\n",
      "UNC228500            -0.298160\n",
      "UNC243187             0.310750\n",
      "UNC244201            -0.064721\n",
      "backupUNC010527629    0.246150\n",
      "UNC249229            -0.118094\n",
      "UNC251384            -0.299205\n",
      "JAX00244193           0.024580\n",
      "UNC271472             0.274370\n",
      "UNC273653            -0.275397\n",
      "UNC278071             0.151494\n",
      "UNC282212            -0.535411\n",
      "                        ...   \n",
      "UNC31001485          -0.329309\n",
      "JAX00714466          -0.276886\n",
      "JAX00181485          -0.144051\n",
      "JAX00181755           0.469328\n",
      "UNC31101177           0.270271\n",
      "UNC31111216           0.236557\n",
      "UNC31127108          -0.215991\n",
      "UNC31136405          -0.068758\n",
      "UNC31156076          -0.250632\n",
      "UNC31181244          -0.432446\n",
      "JAX00183170          -0.010377\n",
      "JAX00184060          -0.062692\n",
      "UNC31315830           0.389860\n",
      "UNC31319750           0.060289\n",
      "UNC31343817           0.175381\n",
      "UNC31343850          -0.275243\n",
      "UNC31367691          -0.061915\n",
      "UNC31387173          -0.033762\n",
      "UNC31393552          -0.378043\n",
      "UNC31406574          -0.092251\n",
      "backupUNC200204428   -0.337271\n",
      "UNC31463752          -0.079521\n",
      "UNC31464091           0.135930\n",
      "UNC31512943          -0.166712\n",
      "UNC31514370          -0.131871\n",
      "UNC31534437           0.371659\n",
      "UNC31544061           0.155442\n",
      "UNC31594892          -0.524118\n",
      "Mit007               -0.151271\n",
      "SAbGeoEUCOMM001       0.142381\n",
      "Length: 4887, dtype: float64\n"
     ]
    }
   ],
   "source": [
    "# perform simple ridge to identify the top SNPs \n",
    "lm_re = sm.OLS(endog = pheno_tr[phenotype_2], exog = geno_tr.transpose()).fit_regularized(L1_wt = 1.0)\n",
    "\n",
    "if verbose: \n",
    "    print(lm_re.params)"
   ]
  },
  {
   "cell_type": "code",
   "execution_count": 95,
   "metadata": {},
   "outputs": [
    {
     "data": {
      "text/plain": [
       "Index(['JAX00508001', 'UNC12275646', 'JAX00497684', 'UNC34218', 'UNC159456',\n",
       "       'UNC8554223', 'UNC6698408', 'UNC10494469', 'UNC8513612', 'UNC16386'],\n",
       "      dtype='object', name='marker')"
      ]
     },
     "execution_count": 95,
     "metadata": {},
     "output_type": "execute_result"
    }
   ],
   "source": [
    "# select those genotypes only for select run\n",
    "top_N = 10\n",
    "top_N_idx = np.argsort(abs(lm_re.params))[-top_N:]\n",
    "\n",
    "top_N_values = [lm_re.params[i] for i in top_N_idx]\n",
    "\n",
    "top_N_snps = geno_tr.iloc[top_N_idx].index\n",
    "top_N_snps"
   ]
  },
  {
   "cell_type": "code",
   "execution_count": 96,
   "metadata": {},
   "outputs": [
    {
     "name": "stdout",
     "output_type": "stream",
     "text": [
      "The linear model summary for predicting phenotype 'length1' based on phenotype 'weight1'\n",
      "                            OLS Regression Results                            \n",
      "==============================================================================\n",
      "Dep. Variable:                length1   R-squared:                       0.972\n",
      "Model:                            OLS   Adj. R-squared:                  0.972\n",
      "Method:                 Least Squares   F-statistic:                     5944.\n",
      "Date:                Thu, 13 Jun 2019   Prob (F-statistic):          3.49e-134\n",
      "Time:                        11:12:24   Log-Likelihood:                -309.01\n",
      "No. Observations:                 171   AIC:                             620.0\n",
      "Df Residuals:                     170   BIC:                             623.2\n",
      "Df Model:                           1                                         \n",
      "Covariance Type:            nonrobust                                         \n",
      "==============================================================================\n",
      "                 coef    std err          t      P>|t|      [0.025      0.975]\n",
      "------------------------------------------------------------------------------\n",
      "weight1        0.2869      0.004     77.097      0.000       0.280       0.294\n",
      "==============================================================================\n",
      "Omnibus:                        5.924   Durbin-Watson:                   1.138\n",
      "Prob(Omnibus):                  0.052   Jarque-Bera (JB):                6.047\n",
      "Skew:                          -0.436   Prob(JB):                       0.0486\n",
      "Kurtosis:                       2.703   Cond. No.                         1.00\n",
      "==============================================================================\n",
      "\n",
      "Warnings:\n",
      "[1] Standard Errors assume that the covariance matrix of the errors is correctly specified.\n",
      "weight1    0.286921\n",
      "dtype: float64\n"
     ]
    }
   ],
   "source": [
    "# perform OLS \n",
    "lm = sm.OLS(endog = pheno_tr[phenotype_2], exog = pheno_tr[phenotype_1]).fit()\n",
    "\n",
    "if verbose:\t\n",
    "    print(\"The linear model summary for predicting phenotype %a based on phenotype %a\" % (phenotype_2, phenotype_1))\n",
    "    print(lm.summary())\t\n",
    "    print(lm.params)\t\n",
    "\n",
    "# prediction for fixed effect\n",
    "predictions_fe = lm.predict(pheno_test[phenotype_1])"
   ]
  },
  {
   "cell_type": "code",
   "execution_count": 92,
   "metadata": {},
   "outputs": [
    {
     "name": "stdout",
     "output_type": "stream",
     "text": [
      "UNC11734899    0.065062\n",
      "UNC13856737    0.290376\n",
      "UNC13760792   -0.036665\n",
      "UNC29627248    0.125451\n",
      "UNC16274148   -0.277348\n",
      "UNC6772490     0.111500\n",
      "JAX00065782   -0.408705\n",
      "JAX00548019   -0.164901\n",
      "UNC31514370   -0.200480\n",
      "UNC31156076   -0.116193\n",
      "dtype: float64\n"
     ]
    },
    {
     "data": {
      "text/plain": [
       "3.1615950499824326"
      ]
     },
     "execution_count": 92,
     "metadata": {},
     "output_type": "execute_result"
    }
   ],
   "source": [
    "# perform ridge regression on the residual (random effect part)\n",
    "residuals = pheno_tr[phenotype_2] - lm.predict(pheno_tr[phenotype_1])\n",
    "\n",
    "lm_re = sm.OLS(endog = residuals, exog = geno_tr.loc[top_N_snps].transpose()).fit_regularized(L1_wt = 1.0)\n",
    "\n",
    "if verbose: \n",
    "    print(lm_re.params)\n",
    "\n",
    "predictions_re = lm_re.predict(geno_test.loc[top_N_snps].transpose())\n",
    "\n",
    "# combine the result from both\n",
    "total_prediction = predictions_fe + predictions_re\n",
    "\n",
    "mse = calculate_MSE(total_prediction, pheno_test[phenotype_2])\n",
    "mse\n",
    "#return(mse, test_sample_list)"
   ]
  },
  {
   "cell_type": "code",
   "execution_count": 87,
   "metadata": {},
   "outputs": [
    {
     "name": "stdout",
     "output_type": "stream",
     "text": [
      "[ 0.00400049  0.00822862 -0.00702599 ... -0.01295389  0.00247644\n",
      " -0.01272774]\n"
     ]
    }
   ],
   "source": [
    "# perform ridge regression on the residual (random effect part)\n",
    "residuals = pheno_tr[phenotype_2] - lm.predict(pheno_tr[phenotype_1])\n",
    "\n",
    "lm_re = sm.OLS(endog = residuals, exog = geno_tr.transpose()).fit_regularized(L1_wt = 0.0)\n",
    "\n",
    "if verbose: \n",
    "    print(lm_re.params)\n",
    "\n",
    "predictions_re = lm_re.predict(geno_test.transpose())\n"
   ]
  },
  {
   "cell_type": "code",
   "execution_count": 88,
   "metadata": {},
   "outputs": [],
   "source": [
    "# combine the result from both\n",
    "total_prediction = predictions_fe + predictions_re\n",
    "\n",
    "mse = calculate_MSE(total_prediction, pheno_test[phenotype_2])\n",
    "\n",
    "#return(mse, test_sample_list)"
   ]
  },
  {
   "cell_type": "markdown",
   "metadata": {},
   "source": []
  },
  {
   "cell_type": "code",
   "execution_count": 89,
   "metadata": {},
   "outputs": [
    {
     "data": {
      "text/plain": [
       "14.165291908852646"
      ]
     },
     "execution_count": 89,
     "metadata": {},
     "output_type": "execute_result"
    }
   ],
   "source": [
    "mse"
   ]
  },
  {
   "cell_type": "code",
   "execution_count": null,
   "metadata": {
    "collapsed": true
   },
   "outputs": [],
   "source": []
  }
 ],
 "metadata": {
  "kernelspec": {
   "display_name": "Python 3",
   "language": "python",
   "name": "python3"
  },
  "language_info": {
   "codemirror_mode": {
    "name": "ipython",
    "version": 3
   },
   "file_extension": ".py",
   "mimetype": "text/x-python",
   "name": "python",
   "nbconvert_exporter": "python",
   "pygments_lexer": "ipython3",
   "version": "3.6.4"
  }
 },
 "nbformat": 4,
 "nbformat_minor": 2
}
