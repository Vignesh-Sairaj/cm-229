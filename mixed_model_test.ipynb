{
 "cells": [
  {
   "cell_type": "code",
   "execution_count": 75,
   "metadata": {},
   "outputs": [
    {
     "name": "stdout",
     "output_type": "stream",
     "text": [
      "Samples:\n",
      "['F326', 'F327', 'F329', 'F330', 'F331', 'F332', 'F333', 'F334', 'F335', 'F336', 'F337', 'F338', 'F339', 'F340', 'F341', 'F342', 'F343', 'F344', 'F345', 'F346', 'F347', 'F348', 'F349', 'F350', 'F351', 'F352', 'F353', 'F354', 'F355', 'F356', 'F357', 'F358', 'F359', 'F360', 'F361', 'F362', 'F363', 'F364', 'F365', 'F366', 'F367', 'F368', 'F369', 'F371', 'F372', 'F373', 'F374', 'F375', 'F376', 'F377', 'F378', 'F379', 'F380', 'F381', 'F382', 'F383', 'F384', 'F385', 'F386', 'F387', 'F388', 'F389', 'F390', 'F391', 'F392', 'F393', 'F394', 'F395', 'F396', 'F397', 'F398', 'F399', 'F400', 'F401', 'F402', 'F403', 'F405', 'F406', 'F407', 'F408', 'F410', 'F411', 'F412', 'F413', 'F414', 'F415', 'F416', 'F417', 'F418', 'F419', 'F420', 'F421', 'F422', 'F423', 'F424', 'F425', 'M326', 'M327', 'M328', 'M329', 'M330', 'M331', 'M332', 'M333', 'M334', 'M335', 'M336', 'M337', 'M339', 'M340', 'M341', 'M342', 'M343', 'M344', 'M345', 'M347', 'M348', 'M349', 'M350', 'M351', 'M352', 'M353', 'M354', 'M355', 'M356', 'M357', 'M358', 'M359', 'M360', 'M361', 'M362', 'M363', 'M364', 'M365', 'M366', 'M367', 'M368', 'M369', 'M370', 'M371', 'M372', 'M373', 'M374', 'M375', 'M376', 'M378', 'M379', 'M380', 'M381', 'M382', 'M383', 'M384', 'M385', 'M386', 'M387', 'M388', 'M389', 'M390', 'M391', 'M392', 'M393', 'M394', 'M395', 'M396', 'M397', 'M398', 'M399', 'M400', 'M402', 'M403', 'M405', 'M406', 'M407', 'M408', 'M409', 'M410', 'M411', 'M415', 'M416', 'M417', 'M418', 'M419', 'M420', 'M421', 'M422', 'M423', 'M424']\n",
      "Standardizing genotype\n"
     ]
    },
    {
     "name": "stderr",
     "output_type": "stream",
     "text": [
      "/Users/harryyang/Documents/Research/Class/CS229/cm-229/data_import.py:75: RuntimeWarning: Mean of empty slice\n",
      "  np.nanmean(geno_df_select_transpose, axis=0))/np.nanstd(geno_df_select_transpose, axis=0)\n",
      "/Users/harryyang/anaconda3/lib/python3.6/site-packages/numpy/lib/nanfunctions.py:1628: RuntimeWarning: Degrees of freedom <= 0 for slice.\n",
      "  keepdims=keepdims)\n"
     ]
    }
   ],
   "source": [
    "import os\n",
    "import sys\n",
    "import pandas as pd \n",
    "import numpy as np\n",
    "from data_import import *\n",
    "from phenotype_correlation import *\n",
    "from genotype_correlation import *\n",
    "from baseline_mixed_model import *\n",
    "import statsmodels.api as sm\n",
    "\n",
    "# import data\n",
    "geno_df, pheno_df = import_data_svenson()"
   ]
  },
  {
   "cell_type": "code",
   "execution_count": 76,
   "metadata": {
    "collapsed": true
   },
   "outputs": [],
   "source": [
    "# testing with ghrelin and leptin \n",
    "phenotype_1 = \"weight1\"\n",
    "phenotype_2 = \"length1\"\n",
    "phenotype_3 = \"fat_mri\"\n",
    "missing_rate = 0.5\n",
    "verbose = False\n",
    "sample_list = list()"
   ]
  },
  {
   "cell_type": "code",
   "execution_count": 77,
   "metadata": {},
   "outputs": [
    {
     "name": "stdout",
     "output_type": "stream",
     "text": [
      "The correlation between weight1 and length1 is 0.819920\n"
     ]
    }
   ],
   "source": [
    "corr_mat = calculate_highly_correlated_phenotypes(pheno_df)\n",
    "\n",
    "print(\"The correlation between %s and %s is %f\" % (phenotype_1, phenotype_2, corr_mat[phenotype_1][phenotype_2]))\n",
    "\n",
    "# bind phenotype into list to extract\n",
    "phenotype_list = [phenotype_1, phenotype_2]\n",
    "\n",
    "# extract the phenotypes \n",
    "geno_select, pheno_select = select_phenotype_multiple_phenotypes(geno_df, pheno_df, phenotype_list = phenotype_list, verbose = verbose)"
   ]
  },
  {
   "cell_type": "code",
   "execution_count": 78,
   "metadata": {},
   "outputs": [
    {
     "name": "stdout",
     "output_type": "stream",
     "text": [
      "0\n",
      "[0.0030929269467285677, -0.0031068505438668075, -0.003123072968369746, -0.0031531300597164714, -0.0031735125627936414, 0.0032554218998907813, 0.0032708802257754373, 0.0032809937859468326, -0.0033078606241894737, 0.003346251727669997]\n",
      "Index(['UNC19139113', 'UNC19090096', 'UNC24326391', 'JAX00024799', 'UNC243187',\n",
      "       'UNC21755855', 'UNC507751', 'JAX00071349', 'UNC19364388', 'UNC7893371'],\n",
      "      dtype='object', name='marker')\n",
      "2.070269203635779 2.061420258570585\n",
      "1\n",
      "[0.00380039084339062, -0.003893044749145584, 0.003948250543619957, 0.004101427809117771, 0.004182615712105052, 0.0044714399215011556, -0.004522147163314279, 0.004541913225294826, 0.004683499728046399, -0.005286727693305401]\n",
      "Index(['UNC6015848', 'UNC9018866', 'UNC16510466', 'UNC31514370', 'JAX00118940',\n",
      "       'UNC13074942', 'UNC2834974', 'UNC13078311', 'UNC13072314',\n",
      "       'JAX00424241'],\n",
      "      dtype='object', name='marker')\n",
      "2.2819038715333018 2.386396509705147\n",
      "2\n",
      "[0.0035649138127884588, 0.0036786683887063826, 0.0038256729940032816, 0.003976300527483539, -0.003996801621547378, 0.004022206359113581, 0.004077520215389136, -0.004312438331462655, 0.004559528465671969, 0.005208939634561245]\n",
      "Index(['UNC16274148', 'JAX00704614', 'UNC16512715', 'JAX00548019',\n",
      "       'UNC16662328', 'UNC21755855', 'JAX00118940', 'UNC6709591',\n",
      "       'UNC16510466', 'JAX00172988'],\n",
      "      dtype='object', name='marker')\n",
      "1.849240132478401 1.500490644656041\n",
      "3\n",
      "[0.003835118012258166, 0.004037720764321943, 0.004053495563625454, 0.004056616574198773, 0.0041860642266690435, 0.004192925623514316, -0.004235917798105513, 0.0042944926349656465, -0.004348185589189547, 0.004830224858961694]\n",
      "Index(['UNC7262621', 'JAX00548019', 'UNC1960105', 'UNC12291171', 'UNC31514370',\n",
      "       'UNC1974981', 'UNC9018866', 'UNC507751', 'UNC050133153', 'UNC21755855'],\n",
      "      dtype='object', name='marker')\n",
      "2.8264220291824036 2.7004588852359506\n",
      "4\n",
      "[0.0030685091212246662, 0.003081567791683074, -0.0030971761376189116, -0.0031167901125786594, 0.003218135159542391, 0.0032641698943422196, 0.003324588181797602, 0.003324588181797602, 0.0034429193377839627, 0.003635138177749616]\n",
      "Index(['JAX00119036', 'UNC7262621', 'UNC18641848', 'UNC4485278', 'UNC22121309',\n",
      "       'JAX00548019', 'UNC26500513', 'UNC26499935', 'JAX00118940',\n",
      "       'UNC26506160'],\n",
      "      dtype='object', name='marker')\n",
      "2.044521909525729 2.0187239881334245\n",
      "5\n",
      "[0.0037199257292094517, -0.0037629285680164225, -0.003781555196873581, -0.003868575772263026, -0.00391039394872143, 0.003913815040211207, -0.00393818428222866, 0.00415989346223244, 0.004160837497978678, 0.004803917676006396]\n",
      "Index(['UNC4250173', 'JAX00135374', 'UNC10093716', 'UNC30825576',\n",
      "       'UNC20264923', 'UNC21755855', 'JAX00424241', 'UNC7262621',\n",
      "       'JAX00119036', 'JAX00118940'],\n",
      "      dtype='object', name='marker')\n",
      "2.1988901431757846 2.009191566671836\n",
      "6\n",
      "[-0.003458069007320664, -0.003477670247403923, -0.003517508683093417, 0.0035230248734923367, 0.0036035440153586087, 0.003662209052652277, -0.0037377643259584254, -0.003816162679021542, 0.003824491700013587, 0.004881917754172915]\n",
      "Index(['JAX00674114', 'UNC15115446', 'UNC27393051', 'JAX00587024', 'UNC507751',\n",
      "       'UNC1960105', 'UNC19090096', 'UNC19212888', 'JAX00118940',\n",
      "       'UNC20359094'],\n",
      "      dtype='object', name='marker')\n",
      "3.2162558589784163 2.536446605270754\n",
      "7\n",
      "[-0.003362671582158141, -0.003440901047279843, 0.003503877408138868, -0.003566327439443586, 0.003576968718087061, 0.0035834034467298937, 0.0038179618545113782, -0.004294214971031812, -0.004535996554028434, 0.004593890958501095]\n",
      "Index(['UNC228500', 'UNC15161488', 'UNC9256181', 'UNC20264923', 'JAX00172988',\n",
      "       'JAX00625274', 'UNC31514370', 'JAX00384395', 'UNC16522775',\n",
      "       'JAX00548019'],\n",
      "      dtype='object', name='marker')\n",
      "2.217390520596049 1.8654837859301494\n",
      "8\n",
      "[0.00334307357976755, -0.003352047682064577, -0.0034646048902949385, 0.003467716880480147, 0.0034961801130540455, 0.00380786755748741, -0.0038125694555327903, 0.003989017972913413, 0.0041634551766193675, 0.004183314676097536]\n",
      "Index(['UNC16236699', 'JAX00683319', 'UNC4485278', 'JAX00118940',\n",
      "       'JAX00172988', 'UNC4093344', 'UNC20159487', 'UNC16829367',\n",
      "       'UNC21755855', 'UNC7281577'],\n",
      "      dtype='object', name='marker')\n",
      "2.666659790147527 2.024074501500996\n",
      "9\n",
      "[-0.003729726730619923, 0.003922180790057056, 0.003949906889620986, -0.004018701166796979, -0.004204273223149957, -0.004214204685973645, -0.004254574007154645, -0.0044041419797841985, 0.004545783577812683, 0.004669483370392176]\n",
      "Index(['UNC5461330', 'UNC19751074', 'UNC31514370', 'UNC19075205',\n",
      "       'UNC27550289', 'JAX00424241', 'UNC24088405', 'UNC19090096',\n",
      "       'UNC21755855', 'UNC5249903'],\n",
      "      dtype='object', name='marker')\n",
      "2.538492270224756 2.0994687503753515\n"
     ]
    }
   ],
   "source": [
    "for i in range(10):\n",
    "    print(i)\n",
    "    # separate training and test dataset \n",
    "    geno_tr, pheno_tr, geno_test, pheno_test, test_sample_list = separate_training_test(geno_select, pheno_select, missing_rate = missing_rate, sample_list_select = sample_list)\n",
    "\n",
    "    # sklearn test \n",
    "    from sklearn.linear_model import Ridge \n",
    "\n",
    "    clf = Ridge(alpha = 1.0)\n",
    "    a = clf.fit(y = pheno_tr[phenotype_2], X = geno_tr.transpose())\n",
    "\n",
    "    # select top N \n",
    "\n",
    "    # select those genotypes only for select run\n",
    "    top_N = 10\n",
    "    top_N_idx = np.argsort(abs(a.coef_))[-top_N:]\n",
    "\n",
    "    top_N_values = [a.coef_[i] for i in top_N_idx]\n",
    "    \n",
    "\n",
    "    top_N_snps = geno_tr.iloc[top_N_idx].index\n",
    "    \n",
    "    if verbose:\n",
    "        print(top_N_snps)\n",
    "        print (top_N_values)\n",
    "\n",
    "    # perform OLS \n",
    "    lm = sm.OLS(endog = pheno_tr[phenotype_2], exog = pheno_tr[phenotype_1]).fit()\n",
    "\n",
    "    if verbose:\t\n",
    "        print(\"The linear model summary for predicting phenotype %a based on phenotype %a\" % (phenotype_2, phenotype_1))\n",
    "        print(lm.summary())\t\n",
    "        print(lm.params)\t\n",
    "\n",
    "    # prediction for fixed effect\n",
    "    predictions_fe = lm.predict(pheno_test[phenotype_1])\n",
    "\n",
    "    # perform ridge regression on the residual (random effect part)\n",
    "    residuals = pheno_tr[phenotype_2] - lm.predict(pheno_tr[phenotype_1])\n",
    "\n",
    "    # lm_re = sm.OLS(endog = residuals, exog = geno_tr.loc[top_N_snps].transpose()).fit_regularized(L1_wt = 1.0)\n",
    "    clf = Ridge(alpha = 1.0)\n",
    "    a = clf.fit(y = residuals, X = geno_tr.loc[top_N_snps].transpose())\n",
    "\n",
    "    # remove duplciates\n",
    "    geno_test_new = geno_test.loc[:,~geno_test.columns.duplicated()]\n",
    "    geno_test = geno_test_new[pheno_test[phenotype_2].index]\n",
    "\n",
    "    prediction_re = a.predict(geno_test.loc[top_N_snps].transpose())\n",
    "    total_prediction = predictions_fe + prediction_re\n",
    "\n",
    "    new_model_mse = calculate_MSE(total_prediction, pheno_test[phenotype_2])\n",
    "\n",
    "\n",
    "    # perform ridge regression on the residual (random effect part)\n",
    "    residuals = pheno_tr[phenotype_2] - lm.predict(pheno_tr[phenotype_1])\n",
    "\n",
    "    lm_re = sm.OLS(endog = residuals, exog = geno_tr.loc[top_N_snps].transpose()).fit_regularized(L1_wt = 1.0, alpha = 1.0)\n",
    "\n",
    "    if verbose: \n",
    "        print(lm_re.params)\n",
    "\n",
    "    predictions_re = lm_re.predict(geno_test.loc[top_N_snps].transpose())\n",
    "\n",
    "    # combine the result from both\n",
    "    total_prediction = predictions_fe + predictions_re\n",
    "\n",
    "    old_mse = calculate_MSE(total_prediction, pheno_test[phenotype_2])\n",
    "\n",
    "\n",
    "    print(new_model_mse, old_mse)"
   ]
  },
  {
   "cell_type": "markdown",
   "metadata": {},
   "source": [
    "ea"
   ]
  },
  {
   "cell_type": "code",
   "execution_count": null,
   "metadata": {},
   "outputs": [],
   "source": []
  }
 ],
 "metadata": {
  "kernelspec": {
   "display_name": "Python 3",
   "language": "python",
   "name": "python3"
  },
  "language_info": {
   "codemirror_mode": {
    "name": "ipython",
    "version": 3
   },
   "file_extension": ".py",
   "mimetype": "text/x-python",
   "name": "python",
   "nbconvert_exporter": "python",
   "pygments_lexer": "ipython3",
   "version": "3.6.4"
  }
 },
 "nbformat": 4,
 "nbformat_minor": 2
}
