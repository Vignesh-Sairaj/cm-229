{
 "cells": [
  {
   "cell_type": "code",
   "execution_count": 48,
   "metadata": {},
   "outputs": [
    {
     "name": "stdout",
     "output_type": "stream",
     "text": [
      "Samples:\n",
      "['F326', 'F327', 'F329', 'F330', 'F331', 'F332', 'F333', 'F334', 'F335', 'F336', 'F337', 'F338', 'F339', 'F340', 'F341', 'F342', 'F343', 'F344', 'F345', 'F346', 'F347', 'F348', 'F349', 'F350', 'F351', 'F352', 'F353', 'F354', 'F355', 'F356', 'F357', 'F358', 'F359', 'F360', 'F361', 'F362', 'F363', 'F364', 'F365', 'F366', 'F367', 'F368', 'F369', 'F371', 'F372', 'F373', 'F374', 'F375', 'F376', 'F377', 'F378', 'F379', 'F380', 'F381', 'F382', 'F383', 'F384', 'F385', 'F386', 'F387', 'F388', 'F389', 'F390', 'F391', 'F392', 'F393', 'F394', 'F395', 'F396', 'F397', 'F398', 'F399', 'F400', 'F401', 'F402', 'F403', 'F405', 'F406', 'F407', 'F408', 'F410', 'F411', 'F412', 'F413', 'F414', 'F415', 'F416', 'F417', 'F418', 'F419', 'F420', 'F421', 'F422', 'F423', 'F424', 'F425', 'M326', 'M327', 'M328', 'M329', 'M330', 'M331', 'M332', 'M333', 'M334', 'M335', 'M336', 'M337', 'M339', 'M340', 'M341', 'M342', 'M343', 'M344', 'M345', 'M347', 'M348', 'M349', 'M350', 'M351', 'M352', 'M353', 'M354', 'M355', 'M356', 'M357', 'M358', 'M359', 'M360', 'M361', 'M362', 'M363', 'M364', 'M365', 'M366', 'M367', 'M368', 'M369', 'M370', 'M371', 'M372', 'M373', 'M374', 'M375', 'M376', 'M378', 'M379', 'M380', 'M381', 'M382', 'M383', 'M384', 'M385', 'M386', 'M387', 'M388', 'M389', 'M390', 'M391', 'M392', 'M393', 'M394', 'M395', 'M396', 'M397', 'M398', 'M399', 'M400', 'M402', 'M403', 'M405', 'M406', 'M407', 'M408', 'M409', 'M410', 'M411', 'M415', 'M416', 'M417', 'M418', 'M419', 'M420', 'M421', 'M422', 'M423', 'M424']\n"
     ]
    },
    {
     "name": "stderr",
     "output_type": "stream",
     "text": [
      "/Users/harryyang/Documents/Research/Class/CS229/cm-229/data_import.py:73: RuntimeWarning: Mean of empty slice\n",
      "  np.nanmean(geno_df_select_transpose, axis=0))/np.nanstd(geno_df_select_transpose, axis=0)\n",
      "/Users/harryyang/anaconda3/lib/python3.6/site-packages/numpy/lib/nanfunctions.py:1628: RuntimeWarning: Degrees of freedom <= 0 for slice.\n",
      "  keepdims=keepdims)\n"
     ]
    }
   ],
   "source": [
    "import os\n",
    "import sys\n",
    "import pandas as pd \n",
    "import numpy as np\n",
    "from data_import import *\n",
    "from phenotype_correlation import *\n",
    "from genotype_correlation import *\n",
    "from baseline_mixed_model import *\n",
    "import statsmodels.api as sm\n",
    "\n",
    "# import data\n",
    "geno_df, pheno_df = import_data_svenson()"
   ]
  },
  {
   "cell_type": "code",
   "execution_count": 192,
   "metadata": {
    "collapsed": true
   },
   "outputs": [],
   "source": [
    "# testing with ghrelin and leptin \n",
    "phenotype_1 = \"weight1\"\n",
    "phenotype_2 = \"length1\"\n",
    "phenotype_3 = \"fat_mri\"\n",
    "missing_rate = 0.9\n",
    "verbose = True\n",
    "sample_list = list()"
   ]
  },
  {
   "cell_type": "code",
   "execution_count": 193,
   "metadata": {},
   "outputs": [
    {
     "name": "stdout",
     "output_type": "stream",
     "text": [
      "The correlation between weight1 and length1 is 0.819920\n",
      "These samples are missing phenotypes:\n",
      "[]\n",
      "(72903, 187)\n",
      "(4887, 187)\n",
      "(187, 2)\n"
     ]
    }
   ],
   "source": [
    "corr_mat = calculate_highly_correlated_phenotypes(pheno_df)\n",
    "\n",
    "print(\"The correlation between %s and %s is %f\" % (phenotype_1, phenotype_2, corr_mat[phenotype_1][phenotype_2]))\n",
    "\n",
    "# bind phenotype into list to extract\n",
    "phenotype_list = [phenotype_1, phenotype_2]\n",
    "\n",
    "# extract the phenotypes \n",
    "geno_select, pheno_select = select_phenotype_multiple_phenotypes(geno_df, pheno_df, phenotype_list = phenotype_list, verbose = verbose)\n",
    "\n",
    "# separate training and test dataset \n",
    "geno_tr, pheno_tr, geno_test, pheno_test, test_sample_list = separate_training_test(geno_select, pheno_select, missing_rate = missing_rate, sample_list_select = sample_list)"
   ]
  },
  {
   "cell_type": "code",
   "execution_count": 194,
   "metadata": {},
   "outputs": [
    {
     "name": "stdout",
     "output_type": "stream",
     "text": [
      "UNC010515443          0.000000\n",
      "UNC16386              0.000000\n",
      "UNC34218              0.000000\n",
      "UNC49759              0.000000\n",
      "UNC010005983          0.000000\n",
      "JAX00241357           0.000000\n",
      "UNC70761              0.000000\n",
      "backupJAX00000484     0.000000\n",
      "UNC90639              0.000000\n",
      "JAX00241997           0.000000\n",
      "UNC130697             0.000000\n",
      "JAX00242455           0.000000\n",
      "UNC159456             0.000000\n",
      "UNC159803             0.000000\n",
      "UNC162008             0.000000\n",
      "UNC177767             0.000000\n",
      "UNC179038             0.000000\n",
      "UNC187637             0.000000\n",
      "UNC189115             0.000000\n",
      "UNC228500             0.000000\n",
      "UNC243187             0.000000\n",
      "UNC244201             0.000000\n",
      "backupUNC010527629    0.000000\n",
      "UNC249229             0.000000\n",
      "UNC251384             0.000000\n",
      "JAX00244193           0.000000\n",
      "UNC271472             0.000000\n",
      "UNC273653             0.000000\n",
      "UNC278071             0.082153\n",
      "UNC282212             0.000000\n",
      "                        ...   \n",
      "UNC31001485           0.000000\n",
      "JAX00714466           0.000000\n",
      "JAX00181485           0.000000\n",
      "JAX00181755           0.000000\n",
      "UNC31101177           0.000000\n",
      "UNC31111216           0.000000\n",
      "UNC31127108           0.000000\n",
      "UNC31136405           0.000000\n",
      "UNC31156076           0.000000\n",
      "UNC31181244           0.000000\n",
      "JAX00183170           0.000000\n",
      "JAX00184060           0.000000\n",
      "UNC31315830           0.000000\n",
      "UNC31319750           0.000000\n",
      "UNC31343817           0.000000\n",
      "UNC31343850           0.000000\n",
      "UNC31367691           0.000000\n",
      "UNC31387173           0.000000\n",
      "UNC31393552           0.000000\n",
      "UNC31406574           0.000000\n",
      "backupUNC200204428    0.000000\n",
      "UNC31463752           0.000000\n",
      "UNC31464091           0.000000\n",
      "UNC31512943           0.000000\n",
      "UNC31514370           0.000000\n",
      "UNC31534437           0.000000\n",
      "UNC31544061           0.000000\n",
      "UNC31594892           0.000000\n",
      "Mit007                0.000000\n",
      "SAbGeoEUCOMM001       0.000000\n",
      "Length: 4887, dtype: float64\n"
     ]
    }
   ],
   "source": [
    "# perform simple ridge to identify the top SNPs \n",
    "lm_re = sm.OLS(endog = pheno_tr[phenotype_2], exog = geno_tr.transpose()).fit_regularized(L1_wt = 1.0, alpha = 0.5)\n",
    "\n",
    "if verbose: \n",
    "    print(lm_re.params)"
   ]
  },
  {
   "cell_type": "code",
   "execution_count": 195,
   "metadata": {},
   "outputs": [
    {
     "name": "stdout",
     "output_type": "stream",
     "text": [
      "[0.9252926050026538, 0.9345642033041276, -0.9505119180379965, -1.0006597280284113, 1.015284315304251, -1.2750149443055137, 1.3017368472610802, 1.5507885000037662, -1.5943068288165412, 1.629776089310102]\n"
     ]
    },
    {
     "data": {
      "text/plain": [
       "Index(['backupUNC100215111', 'UNC6842771', 'JAX00487140', 'UNC28078710',\n",
       "       'UNC060083393', 'JAX00589644', 'UNC30164867', 'UNC10023957',\n",
       "       'UNC7672252', 'UNC26242994'],\n",
       "      dtype='object', name='marker')"
      ]
     },
     "execution_count": 195,
     "metadata": {},
     "output_type": "execute_result"
    }
   ],
   "source": [
    "# select those genotypes only for select run\n",
    "top_N = 10\n",
    "top_N_idx = np.argsort(abs(lm_re.params))[-top_N:]\n",
    "\n",
    "top_N_values = [lm_re.params[i] for i in top_N_idx]\n",
    "\n",
    "top_N_snps = geno_tr.iloc[top_N_idx].index\n",
    "print(top_N_values)\n",
    "top_N_snps"
   ]
  },
  {
   "cell_type": "code",
   "execution_count": 196,
   "metadata": {},
   "outputs": [
    {
     "name": "stdout",
     "output_type": "stream",
     "text": [
      "(4887, 168) (106, 2)\n",
      "[8.98530916 9.0571869  8.71584052 9.00333637 8.67128681 8.55022985\n",
      " 8.62985362 8.75919264 8.26420929 8.74617565 8.26420929 8.79677724\n",
      " 8.62985362 8.51925055 8.73693308 8.61104091 8.87783182 8.55022985\n",
      " 8.45168543 8.65205733 8.77851908 8.82563456 8.67427961 8.84478411\n",
      " 8.5459194  8.68170799 8.9337631  8.87783182 8.61439428 9.35362813\n",
      " 9.1509763  8.69105929 8.5459194  8.92497333 8.65324674 8.26420929\n",
      " 8.79934887 8.75919264 8.222017   8.92279289 8.45168543 8.59117745\n",
      " 8.55333916 8.90236022 8.85394472 8.65321313 8.74877176 8.91121593\n",
      " 8.76789373 8.48657994 8.82119472 8.78611784 8.59117745 8.76273987\n",
      " 8.68117936 8.40465217 8.94419043 8.9546945  8.81222274 8.65324674\n",
      " 8.62215256 8.79477543 8.71238786 8.75919264 8.67427961 8.80546306\n",
      " 8.8886076  8.64170764 8.56216362 8.222017   8.68408327 9.03724657\n",
      " 9.1509763  8.7247511  8.91121593 8.55987134 8.29888428 8.59117745\n",
      " 8.8420365  9.03373181 8.85394472 8.69924533 9.00333637 8.77307444\n",
      " 8.77307444 8.08351829 8.47924839 8.55987826 8.33131702 8.65388176\n",
      " 8.7711869  8.92344954 8.92443582 8.66177646 9.18859081 8.74617565\n",
      " 8.9337631  8.7417518  8.96880503 8.7247511  9.13367065 9.13367065\n",
      " 8.7978388  8.73704843 8.92497333 8.26420929 8.70694527 8.73693308\n",
      " 8.69924533 8.78611784 8.52396866 8.89193311 8.49115696 8.77851908\n",
      " 8.52396866 9.10214542 8.63059191 8.7501317  9.03724657 8.33131702\n",
      " 8.659255   8.73964785 8.72787703 8.70649921 8.93705886 9.03373181\n",
      " 8.76884394 8.92497333 8.62985362 8.33131702 8.76432056 8.7978388\n",
      " 8.64113051 8.92559185 8.79714251 8.67427961 8.49115696 8.35771222\n",
      " 8.73704843 8.76789373 8.74617565 8.55987826 8.81222274 8.8669152\n",
      " 8.45168543 8.79596895 9.18859081 8.93705886 8.76432056 8.82563456\n",
      " 8.91121593 8.80546306 8.52396866 9.13367065 8.75976267 9.03724657\n",
      " 8.47924839 8.84205648 8.84650398 8.79477543 9.0571869  9.1509763\n",
      " 8.92344954 8.78696231 8.63137643 8.52396866 8.84650398 8.59117745]\n",
      "sample\n",
      "F326    8.2\n",
      "F329    8.5\n",
      "F331    8.5\n",
      "F333    8.9\n",
      "F336    8.4\n",
      "F338    8.9\n",
      "F339    8.8\n",
      "F341    9.0\n",
      "F342    8.2\n",
      "F345    8.5\n",
      "F346    8.2\n",
      "F349    8.9\n",
      "F350    8.5\n",
      "F351    9.0\n",
      "F353    9.1\n",
      "F357    8.2\n",
      "F358    8.2\n",
      "F360    8.0\n",
      "F361    8.8\n",
      "F362    7.8\n",
      "F363    8.8\n",
      "F367    8.5\n",
      "F368    9.1\n",
      "F369    8.4\n",
      "F373    8.8\n",
      "F377    8.4\n",
      "F378    8.9\n",
      "F380    8.2\n",
      "F381    8.5\n",
      "F382    8.5\n",
      "       ... \n",
      "M372    9.5\n",
      "M373    9.2\n",
      "M374    9.5\n",
      "M375    9.4\n",
      "M376    9.1\n",
      "M379    9.2\n",
      "M380    9.1\n",
      "M381    8.7\n",
      "M383    9.0\n",
      "M384    8.5\n",
      "M386    9.3\n",
      "M387    8.7\n",
      "M388    9.1\n",
      "M391    9.0\n",
      "M392    9.0\n",
      "M393    8.6\n",
      "M394    9.3\n",
      "M395    9.0\n",
      "M398    8.9\n",
      "M399    8.2\n",
      "M403    9.2\n",
      "M406    9.5\n",
      "M407    8.1\n",
      "M408    9.1\n",
      "M411    8.7\n",
      "M417    9.2\n",
      "M418    9.1\n",
      "M419    9.3\n",
      "M422    8.3\n",
      "M423    9.2\n",
      "Name: length1, Length: 106, dtype: float64\n",
      "[-1.87659589e-04 -5.82740756e-04 -6.36384958e-04 ...  7.04063466e-04\n",
      " -2.94617785e-04  1.56716418e-30]\n",
      "[4000  272 1601 2144  593 2132 2415 2134 2133 1081]\n",
      "[0.0027272156355023476, 0.002734826785984011, 0.0027353103662759778, 0.0028524342268150624, -0.0028796989864078777, -0.0028911659998847247, 0.0030171998218960403, -0.0030273527640776433, -0.0030682108072754635, 0.0030815184207588046]\n",
      "Index(['UNC150227305', 'UNC2029189', 'UNC10822200', 'backupUNC070455230',\n",
      "       'UNC3735757', 'UNC14027842', 'CEAJAX00685235', 'JAX00658819',\n",
      "       'JAX00158077', 'JAX00118940'],\n",
      "      dtype='object', name='marker')\n"
     ]
    }
   ],
   "source": [
    "# sklearn test \n",
    "from sklearn.linear_model import Ridge \n",
    "\n",
    "clf = Ridge(alpha = 1.0)\n",
    "a = clf.fit(y = pheno_tr[phenotype_2], X = geno_tr.transpose())\n",
    "print(geno_test.shape, pheno_test.shape)\n",
    "print(a.predict(X = geno_test.transpose()))\n",
    "print(pheno_test[phenotype_2])\n",
    "print(a.coef_)\n",
    "\n",
    "# select top N \n",
    "\n",
    "# select those genotypes only for select run\n",
    "top_N = 10\n",
    "top_N_idx = np.argsort(abs(a.coef_))[-top_N:]\n",
    "\n",
    "print (top_N_idx)\n",
    "\n",
    "top_N_values = [a.coef_[i] for i in top_N_idx]\n",
    "print (top_N_values)\n",
    "\n",
    "top_N_snps = geno_tr.iloc[top_N_idx].index\n",
    "print(top_N_snps)\n"
   ]
  },
  {
   "cell_type": "code",
   "execution_count": 197,
   "metadata": {},
   "outputs": [
    {
     "name": "stdout",
     "output_type": "stream",
     "text": [
      "The linear model summary for predicting phenotype 'length1' based on phenotype 'weight1'\n",
      "                            OLS Regression Results                            \n",
      "==============================================================================\n",
      "Dep. Variable:                length1   R-squared:                       0.975\n",
      "Model:                            OLS   Adj. R-squared:                  0.974\n",
      "Method:                 Least Squares   F-statistic:                     3078.\n",
      "Date:                Thu, 13 Jun 2019   Prob (F-statistic):           1.26e-65\n",
      "Time:                        15:51:26   Log-Likelihood:                -142.16\n",
      "No. Observations:                  81   AIC:                             286.3\n",
      "Df Residuals:                      80   BIC:                             288.7\n",
      "Df Model:                           1                                         \n",
      "Covariance Type:            nonrobust                                         \n",
      "==============================================================================\n",
      "                 coef    std err          t      P>|t|      [0.025      0.975]\n",
      "------------------------------------------------------------------------------\n",
      "weight1        0.2959      0.005     55.481      0.000       0.285       0.306\n",
      "==============================================================================\n",
      "Omnibus:                        2.364   Durbin-Watson:                   1.054\n",
      "Prob(Omnibus):                  0.307   Jarque-Bera (JB):                2.341\n",
      "Skew:                          -0.393   Prob(JB):                        0.310\n",
      "Kurtosis:                       2.727   Cond. No.                         1.00\n",
      "==============================================================================\n",
      "\n",
      "Warnings:\n",
      "[1] Standard Errors assume that the covariance matrix of the errors is correctly specified.\n",
      "weight1    0.295865\n",
      "dtype: float64\n"
     ]
    }
   ],
   "source": [
    "# perform OLS \n",
    "lm = sm.OLS(endog = pheno_tr[phenotype_2], exog = pheno_tr[phenotype_1]).fit()\n",
    "\n",
    "if verbose:\t\n",
    "    print(\"The linear model summary for predicting phenotype %a based on phenotype %a\" % (phenotype_2, phenotype_1))\n",
    "    print(lm.summary())\t\n",
    "    print(lm.params)\t\n",
    "\n",
    "# prediction for fixed effect\n",
    "predictions_fe = lm.predict(pheno_test[phenotype_1])"
   ]
  },
  {
   "cell_type": "code",
   "execution_count": 198,
   "metadata": {
    "scrolled": true
   },
   "outputs": [
    {
     "name": "stdout",
     "output_type": "stream",
     "text": [
      "UNC150227305         -0.331995\n",
      "UNC2029189           -0.029344\n",
      "UNC10822200          -0.116164\n",
      "backupUNC070455230   -0.059454\n",
      "UNC3735757            0.078122\n",
      "UNC14027842          -0.700946\n",
      "CEAJAX00685235       -0.201632\n",
      "JAX00658819           0.634133\n",
      "JAX00158077           0.112504\n",
      "JAX00118940           0.053809\n",
      "dtype: float64\n"
     ]
    },
    {
     "data": {
      "text/plain": [
       "2.951916615661678"
      ]
     },
     "execution_count": 198,
     "metadata": {},
     "output_type": "execute_result"
    }
   ],
   "source": [
    "# perform ridge regression on the residual (random effect part)\n",
    "residuals = pheno_tr[phenotype_2] - lm.predict(pheno_tr[phenotype_1])\n",
    "\n",
    "lm_re = sm.OLS(endog = residuals, exog = geno_tr.loc[top_N_snps].transpose()).fit_regularized(L1_wt = 1.0)\n",
    "\n",
    "if verbose: \n",
    "    print(lm_re.params)\n",
    "\n",
    "predictions_re = lm_re.predict(geno_test.loc[top_N_snps].transpose())\n",
    "\n",
    "# combine the result from both\n",
    "total_prediction = predictions_fe + predictions_re\n",
    "\n",
    "new_model_mse = calculate_MSE(total_prediction, pheno_test[phenotype_2])\n",
    "new_model_mse\n",
    "#return(mse, test_sample_list)"
   ]
  },
  {
   "cell_type": "code",
   "execution_count": 199,
   "metadata": {},
   "outputs": [
    {
     "name": "stdout",
     "output_type": "stream",
     "text": [
      "UNC010515443         -0.021992\n",
      "UNC16386              0.066627\n",
      "UNC34218             -0.080098\n",
      "UNC49759              0.144907\n",
      "UNC010005983          0.005722\n",
      "JAX00241357           0.038981\n",
      "UNC70761             -0.101418\n",
      "backupJAX00000484     0.064217\n",
      "UNC90639             -0.000946\n",
      "JAX00241997           0.017944\n",
      "UNC130697             0.158942\n",
      "JAX00242455           0.087025\n",
      "UNC159456            -0.141324\n",
      "UNC159803             0.123769\n",
      "UNC162008             0.029666\n",
      "UNC177767            -0.000268\n",
      "UNC179038             0.070150\n",
      "UNC187637            -0.160058\n",
      "UNC189115            -0.067826\n",
      "UNC228500            -0.006096\n",
      "UNC243187             0.057065\n",
      "UNC244201             0.023945\n",
      "backupUNC010527629    0.006157\n",
      "UNC249229            -0.053567\n",
      "UNC251384            -0.035198\n",
      "JAX00244193          -0.061651\n",
      "UNC271472            -0.011218\n",
      "UNC273653            -0.016547\n",
      "UNC278071            -0.008047\n",
      "UNC282212            -0.047221\n",
      "                        ...   \n",
      "UNC31001485           0.000006\n",
      "JAX00714466           0.000065\n",
      "JAX00181485          -0.000129\n",
      "JAX00181755          -0.000050\n",
      "UNC31101177          -0.000166\n",
      "UNC31111216           0.000002\n",
      "UNC31127108           0.000019\n",
      "UNC31136405          -0.000038\n",
      "UNC31156076          -0.000078\n",
      "UNC31181244           0.000129\n",
      "JAX00183170          -0.000082\n",
      "JAX00184060          -0.000042\n",
      "UNC31315830           0.000019\n",
      "UNC31319750           0.000046\n",
      "UNC31343817           0.000017\n",
      "UNC31343850           0.000076\n",
      "UNC31367691           0.000022\n",
      "UNC31387173           0.000184\n",
      "UNC31393552          -0.000027\n",
      "UNC31406574          -0.000023\n",
      "backupUNC200204428    0.000085\n",
      "UNC31463752          -0.000012\n",
      "UNC31464091          -0.000037\n",
      "UNC31512943          -0.000028\n",
      "UNC31514370          -0.000139\n",
      "UNC31534437          -0.000021\n",
      "UNC31544061           0.000019\n",
      "UNC31594892           0.000111\n",
      "Mit007                0.000086\n",
      "SAbGeoEUCOMM001      -0.001223\n",
      "Length: 4887, dtype: float64\n"
     ]
    }
   ],
   "source": [
    "# perform ridge regression on the residual (random effect part)\n",
    "residuals = pheno_tr[phenotype_2] - lm.predict(pheno_tr[phenotype_1])\n",
    "\n",
    "lm_re = sm.OLS(endog = residuals, exog = geno_tr.transpose()).fit_regularized(L1_wt = 1.0)\n",
    "\n",
    "if verbose: \n",
    "    print(lm_re.params)\n",
    "\n",
    "predictions_re = lm_re.predict(geno_test.transpose())\n",
    "\n",
    "# combine the result from both\n",
    "total_prediction = predictions_fe + predictions_re\n",
    "\n",
    "old_mse = calculate_MSE(total_prediction, pheno_test[phenotype_2])\n",
    "\n",
    "#return(mse, test_sample_list)"
   ]
  },
  {
   "cell_type": "code",
   "execution_count": 200,
   "metadata": {},
   "outputs": [
    {
     "name": "stdout",
     "output_type": "stream",
     "text": [
      "2.951916615661678 19.578370683670975\n"
     ]
    }
   ],
   "source": [
    "print(new_model_mse, old_mse)"
   ]
  },
  {
   "cell_type": "markdown",
   "metadata": {},
   "source": []
  },
  {
   "cell_type": "code",
   "execution_count": null,
   "metadata": {},
   "outputs": [],
   "source": []
  },
  {
   "cell_type": "code",
   "execution_count": null,
   "metadata": {
    "collapsed": true
   },
   "outputs": [],
   "source": []
  }
 ],
 "metadata": {
  "kernelspec": {
   "display_name": "Python 3",
   "language": "python",
   "name": "python3"
  },
  "language_info": {
   "codemirror_mode": {
    "name": "ipython",
    "version": 3
   },
   "file_extension": ".py",
   "mimetype": "text/x-python",
   "name": "python",
   "nbconvert_exporter": "python",
   "pygments_lexer": "ipython3",
   "version": "3.6.4"
  }
 },
 "nbformat": 4,
 "nbformat_minor": 2
}
