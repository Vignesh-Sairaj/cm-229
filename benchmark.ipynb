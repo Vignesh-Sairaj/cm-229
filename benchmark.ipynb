{
 "cells": [
  {
   "cell_type": "code",
   "execution_count": 1,
   "metadata": {
    "collapsed": true
   },
   "outputs": [],
   "source": [
    "import os\n",
    "import sys\n",
    "import pandas as pd \n",
    "import numpy as np\n",
    "from data_import import *\n",
    "from phenotype_correlation import *\n",
    "from genotype_correlation import *\n",
    "from baseline_mixed_model import *"
   ]
  },
  {
   "cell_type": "code",
   "execution_count": 2,
   "metadata": {},
   "outputs": [
    {
     "name": "stdout",
     "output_type": "stream",
     "text": [
      "Samples:\n",
      "['F326', 'F327', 'F329', 'F330', 'F331', 'F332', 'F333', 'F334', 'F335', 'F336', 'F337', 'F338', 'F339', 'F340', 'F341', 'F342', 'F343', 'F344', 'F345', 'F346', 'F347', 'F348', 'F349', 'F350', 'F351', 'F352', 'F353', 'F354', 'F355', 'F356', 'F357', 'F358', 'F359', 'F360', 'F361', 'F362', 'F363', 'F364', 'F365', 'F366', 'F367', 'F368', 'F369', 'F371', 'F372', 'F373', 'F374', 'F375', 'F376', 'F377', 'F378', 'F379', 'F380', 'F381', 'F382', 'F383', 'F384', 'F385', 'F386', 'F387', 'F388', 'F389', 'F390', 'F391', 'F392', 'F393', 'F394', 'F395', 'F396', 'F397', 'F398', 'F399', 'F400', 'F401', 'F402', 'F403', 'F405', 'F406', 'F407', 'F408', 'F410', 'F411', 'F412', 'F413', 'F414', 'F415', 'F416', 'F417', 'F418', 'F419', 'F420', 'F421', 'F422', 'F423', 'F424', 'F425', 'M326', 'M327', 'M328', 'M329', 'M330', 'M331', 'M332', 'M333', 'M334', 'M335', 'M336', 'M337', 'M339', 'M340', 'M341', 'M342', 'M343', 'M344', 'M345', 'M347', 'M348', 'M349', 'M350', 'M351', 'M352', 'M353', 'M354', 'M355', 'M356', 'M357', 'M358', 'M359', 'M360', 'M361', 'M362', 'M363', 'M364', 'M365', 'M366', 'M367', 'M368', 'M369', 'M370', 'M371', 'M372', 'M373', 'M374', 'M375', 'M376', 'M378', 'M379', 'M380', 'M381', 'M382', 'M383', 'M384', 'M385', 'M386', 'M387', 'M388', 'M389', 'M390', 'M391', 'M392', 'M393', 'M394', 'M395', 'M396', 'M397', 'M398', 'M399', 'M400', 'M402', 'M403', 'M405', 'M406', 'M407', 'M408', 'M409', 'M410', 'M411', 'M415', 'M416', 'M417', 'M418', 'M419', 'M420', 'M421', 'M422', 'M423', 'M424']\n"
     ]
    }
   ],
   "source": [
    "# import data\n",
    "geno_df, pheno_df = import_data_svenson()"
   ]
  },
  {
   "cell_type": "code",
   "execution_count": 12,
   "metadata": {
    "collapsed": true
   },
   "outputs": [],
   "source": [
    "# find high correlation phenotype pairs \n",
    "high_corr_mat = calculate_highly_correlated_phenotypes(pheno_df, low_threshold = 0.1)"
   ]
  },
  {
   "cell_type": "code",
   "execution_count": 25,
   "metadata": {},
   "outputs": [
    {
     "data": {
      "text/plain": [
       "glucose1       0.323797\n",
       "tg1            0.332767\n",
       "b_area1        0.677978\n",
       "b_area2        0.702228\n",
       "bmc1           0.746664\n",
       "bmc2           0.741540\n",
       "bmd1           0.616901\n",
       "bmd2           0.618392\n",
       "ftm1           0.321160\n",
       "t_area1        0.777539\n",
       "t_area2        0.653503\n",
       "ttm1           0.782560\n",
       "ttm2           0.671291\n",
       "weight2        0.715836\n",
       "weight_mri     0.746067\n",
       "gtt_120        0.336667\n",
       "gtt_auc        0.303359\n",
       "bw_3           0.556493\n",
       "bw_4           0.736357\n",
       "bw_5           0.785211\n",
       "bw_14          0.793532\n",
       "bw_15          0.772887\n",
       "bw_16          0.749511\n",
       "bw_17          0.741473\n",
       "bw_18          0.738463\n",
       "bw_19          0.730056\n",
       "bw_20          0.722613\n",
       "bw_21          0.711890\n",
       "bw_22          0.704199\n",
       "bw_23          0.691765\n",
       "bw_24          0.677983\n",
       "bw_25          0.677837\n",
       "bw_26          0.665629\n",
       "bw_27          0.654925\n",
       "bw_pc1         0.790919\n",
       "bw_pc2         0.364293\n",
       "heart_wt       0.614072\n",
       "kidney_wt_l    0.648735\n",
       "kidney_wt_r    0.611126\n",
       "necr_wt        0.654925\n",
       "Name: length1, dtype: float64"
      ]
     },
     "execution_count": 25,
     "metadata": {},
     "output_type": "execute_result"
    }
   ],
   "source": [
    "high_corr_mat[\"weight1\"][(high_corr_mat[\"weight1\"] > 0.3) & (high_corr_mat[\"weight1\"] < 0.8)]\n",
    "high_corr_mat[\"length1\"][(high_corr_mat[\"length1\"] > 0.3) & (high_corr_mat[\"length1\"] < 0.8)]"
   ]
  },
  {
   "cell_type": "code",
   "execution_count": 18,
   "metadata": {
    "collapsed": true
   },
   "outputs": [],
   "source": [
    "# testing with ghrelin and leptin \n",
    "phenotype_2 = \"weight1\"\n",
    "phenotype_1 = \"length1\"\n",
    "missing_rate = 0.8"
   ]
  },
  {
   "cell_type": "code",
   "execution_count": 19,
   "metadata": {},
   "outputs": [
    {
     "name": "stdout",
     "output_type": "stream",
     "text": [
      "The correlation between weight1 and length1 is 0.819920\n"
     ]
    }
   ],
   "source": [
    "mse, test_sample_list = phenotype_correlation_analysis(geno_df, pheno_df, phenotype_2, phenotype_1, missing_rate = missing_rate)"
   ]
  },
  {
   "cell_type": "code",
   "execution_count": 20,
   "metadata": {},
   "outputs": [
    {
     "name": "stdout",
     "output_type": "stream",
     "text": [
      "2.2573746968266266\n",
      "['F414' 'F334' 'M370' 'M371' 'M373' 'F410' 'M382' 'M352' 'F348' 'M369'\n",
      " 'M411' 'M392' 'F395' 'F362' 'M361' 'F350' 'F334' 'M354' 'F359' 'F367'\n",
      " 'M403' 'F400' 'M354' 'F377' 'M408' 'M359' 'F359' 'M366' 'M399' 'M418'\n",
      " 'F392' 'M326' 'F327' 'F352' 'F422' 'M333' 'F326' 'F373' 'F334' 'F341'\n",
      " 'M378' 'F387' 'M383' 'F337' 'M349' 'M333' 'F347' 'F336' 'M362' 'M424'\n",
      " 'M407' 'F334' 'F366' 'F374' 'F414' 'M402' 'M332' 'M399' 'M363' 'M388'\n",
      " 'M334' 'F334' 'M400' 'M379' 'F378' 'M361' 'F415' 'M351' 'M372' 'M402'\n",
      " 'F363' 'F346' 'M400' 'M380' 'F403' 'M386' 'M369' 'F385' 'F388' 'M366'\n",
      " 'M359' 'M396' 'M361' 'F336' 'M383' 'M352' 'M331' 'M390' 'F354' 'M357'\n",
      " 'F336' 'M383' 'M359' 'M331' 'M403' 'F356' 'M375' 'M369' 'F336' 'F374'\n",
      " 'F408' 'F413' 'M326' 'M407' 'M386' 'F424' 'M381' 'F345' 'F399' 'F424'\n",
      " 'M390' 'F361' 'M362' 'F353' 'F372' 'F376' 'F395' 'F361' 'M386' 'M403'\n",
      " 'M339' 'M408' 'M326' 'M394' 'M344' 'M369' 'M354' 'M366' 'F417' 'F423'\n",
      " 'F329' 'M394' 'F349' 'F356' 'F421' 'M354' 'M405' 'F422' 'F417' 'F352'\n",
      " 'M352' 'F413' 'M333' 'M402' 'M337' 'M378' 'F415' 'M423' 'F368']\n"
     ]
    }
   ],
   "source": [
    "print(mse)\n",
    "print(test_sample_list)"
   ]
  },
  {
   "cell_type": "code",
   "execution_count": 21,
   "metadata": {},
   "outputs": [],
   "source": [
    "# correlation with genotype \n",
    "genotype_mse,  _sample_list = genotype_correlation_analysis(geno_df, pheno_df, phenotype_1, missing_rate = missing_rate, sample_list = test_sample_list)"
   ]
  },
  {
   "cell_type": "code",
   "execution_count": 22,
   "metadata": {},
   "outputs": [
    {
     "data": {
      "text/plain": [
       "0.2043529871117526"
      ]
     },
     "execution_count": 22,
     "metadata": {},
     "output_type": "execute_result"
    }
   ],
   "source": [
    "genotype_mse"
   ]
  },
  {
   "cell_type": "code",
   "execution_count": 23,
   "metadata": {},
   "outputs": [
    {
     "ename": "KeyboardInterrupt",
     "evalue": "",
     "output_type": "error",
     "traceback": [
      "\u001b[0;31m---------------------------------------------------------------------------\u001b[0m",
      "\u001b[0;31mKeyboardInterrupt\u001b[0m                         Traceback (most recent call last)",
      "\u001b[0;32m<ipython-input-23-b1c3336236f7>\u001b[0m in \u001b[0;36m<module>\u001b[0;34m()\u001b[0m\n\u001b[0;32m----> 1\u001b[0;31m \u001b[0mgenotype_ridge_mse\u001b[0m\u001b[0;34m,\u001b[0m \u001b[0m_sample_list\u001b[0m \u001b[0;34m=\u001b[0m \u001b[0mgenotype_correlation_analysis_ridge\u001b[0m\u001b[0;34m(\u001b[0m\u001b[0mgeno_df\u001b[0m\u001b[0;34m,\u001b[0m \u001b[0mpheno_df\u001b[0m\u001b[0;34m,\u001b[0m \u001b[0mphenotype_1\u001b[0m\u001b[0;34m,\u001b[0m \u001b[0mmissing_rate\u001b[0m \u001b[0;34m=\u001b[0m \u001b[0mmissing_rate\u001b[0m\u001b[0;34m,\u001b[0m \u001b[0msample_list\u001b[0m \u001b[0;34m=\u001b[0m \u001b[0mtest_sample_list\u001b[0m\u001b[0;34m)\u001b[0m\u001b[0;34m\u001b[0m\u001b[0m\n\u001b[0m\u001b[1;32m      2\u001b[0m \u001b[0mprint\u001b[0m\u001b[0;34m(\u001b[0m\u001b[0mgenotype_ridge_mse\u001b[0m\u001b[0;34m)\u001b[0m\u001b[0;34m\u001b[0m\u001b[0m\n",
      "\u001b[0;32m~/Documents/Research/Class/CS229/cm-229/genotype_correlation.py\u001b[0m in \u001b[0;36mgenotype_correlation_analysis_ridge\u001b[0;34m(geno_df, pheno_df, phenotype, missing_rate, sample_list, verbose)\u001b[0m\n\u001b[1;32m     43\u001b[0m \u001b[0;34m\u001b[0m\u001b[0m\n\u001b[1;32m     44\u001b[0m         \u001b[0;31m# perform OLS\u001b[0m\u001b[0;34m\u001b[0m\u001b[0;34m\u001b[0m\u001b[0m\n\u001b[0;32m---> 45\u001b[0;31m         \u001b[0mlm\u001b[0m \u001b[0;34m=\u001b[0m \u001b[0msm\u001b[0m\u001b[0;34m.\u001b[0m\u001b[0mOLS\u001b[0m\u001b[0;34m(\u001b[0m\u001b[0mendog\u001b[0m \u001b[0;34m=\u001b[0m \u001b[0mpheno_tr\u001b[0m\u001b[0;34m[\u001b[0m\u001b[0mphenotype\u001b[0m\u001b[0;34m]\u001b[0m\u001b[0;34m,\u001b[0m \u001b[0mexog\u001b[0m \u001b[0;34m=\u001b[0m \u001b[0mgeno_tr\u001b[0m\u001b[0;34m.\u001b[0m\u001b[0mtranspose\u001b[0m\u001b[0;34m(\u001b[0m\u001b[0;34m)\u001b[0m\u001b[0;34m)\u001b[0m\u001b[0;34m.\u001b[0m\u001b[0mfit_regularized\u001b[0m\u001b[0;34m(\u001b[0m\u001b[0mL1_wt\u001b[0m \u001b[0;34m=\u001b[0m \u001b[0;36m0.0\u001b[0m\u001b[0;34m)\u001b[0m\u001b[0;34m\u001b[0m\u001b[0m\n\u001b[0m\u001b[1;32m     46\u001b[0m \u001b[0;34m\u001b[0m\u001b[0m\n\u001b[1;32m     47\u001b[0m         \u001b[0;32mif\u001b[0m \u001b[0mverbose\u001b[0m\u001b[0;34m:\u001b[0m\u001b[0;34m\u001b[0m\u001b[0m\n",
      "\u001b[0;32m~/anaconda3/lib/python3.6/site-packages/statsmodels/regression/linear_model.py\u001b[0m in \u001b[0;36mfit_regularized\u001b[0;34m(self, method, alpha, L1_wt, start_params, profile_scale, refit, **kwargs)\u001b[0m\n\u001b[1;32m    998\u001b[0m                               \u001b[0mrefit\u001b[0m\u001b[0;34m=\u001b[0m\u001b[0mrefit\u001b[0m\u001b[0;34m,\u001b[0m\u001b[0;34m\u001b[0m\u001b[0m\n\u001b[1;32m    999\u001b[0m                               \u001b[0mcheck_step\u001b[0m\u001b[0;34m=\u001b[0m\u001b[0;32mFalse\u001b[0m\u001b[0;34m,\u001b[0m\u001b[0;34m\u001b[0m\u001b[0m\n\u001b[0;32m-> 1000\u001b[0;31m                               **defaults)\n\u001b[0m\u001b[1;32m   1001\u001b[0m \u001b[0;34m\u001b[0m\u001b[0m\n\u001b[1;32m   1002\u001b[0m     \u001b[0mfit_regularized\u001b[0m\u001b[0;34m.\u001b[0m\u001b[0m__doc__\u001b[0m \u001b[0;34m=\u001b[0m \u001b[0m_fit_regularized_doc\u001b[0m\u001b[0;34m\u001b[0m\u001b[0m\n",
      "\u001b[0;32m~/anaconda3/lib/python3.6/site-packages/statsmodels/base/elastic_net.py\u001b[0m in \u001b[0;36mfit_elasticnet\u001b[0;34m(model, method, maxiter, alpha, L1_wt, start_params, cnvrg_tol, zero_tol, refit, check_step, loglike_kwds, score_kwds, hess_kwds)\u001b[0m\n\u001b[1;32m    182\u001b[0m             \u001b[0mparams0\u001b[0m \u001b[0;34m=\u001b[0m \u001b[0mparams\u001b[0m\u001b[0;34m.\u001b[0m\u001b[0mcopy\u001b[0m\u001b[0;34m(\u001b[0m\u001b[0;34m)\u001b[0m\u001b[0;34m\u001b[0m\u001b[0m\n\u001b[1;32m    183\u001b[0m             \u001b[0mparams0\u001b[0m\u001b[0;34m[\u001b[0m\u001b[0mk\u001b[0m\u001b[0;34m]\u001b[0m \u001b[0;34m=\u001b[0m \u001b[0;36m0\u001b[0m\u001b[0;34m\u001b[0m\u001b[0m\n\u001b[0;32m--> 184\u001b[0;31m             \u001b[0moffset\u001b[0m \u001b[0;34m=\u001b[0m \u001b[0mnp\u001b[0m\u001b[0;34m.\u001b[0m\u001b[0mdot\u001b[0m\u001b[0;34m(\u001b[0m\u001b[0mmodel\u001b[0m\u001b[0;34m.\u001b[0m\u001b[0mexog\u001b[0m\u001b[0;34m,\u001b[0m \u001b[0mparams0\u001b[0m\u001b[0;34m)\u001b[0m\u001b[0;34m\u001b[0m\u001b[0m\n\u001b[0m\u001b[1;32m    185\u001b[0m             \u001b[0;32mif\u001b[0m \u001b[0mmodel_offset\u001b[0m \u001b[0;32mis\u001b[0m \u001b[0;32mnot\u001b[0m \u001b[0;32mNone\u001b[0m\u001b[0;34m:\u001b[0m\u001b[0;34m\u001b[0m\u001b[0m\n\u001b[1;32m    186\u001b[0m                 \u001b[0moffset\u001b[0m \u001b[0;34m+=\u001b[0m \u001b[0mmodel_offset\u001b[0m\u001b[0;34m\u001b[0m\u001b[0m\n",
      "\u001b[0;31mKeyboardInterrupt\u001b[0m: "
     ]
    }
   ],
   "source": [
    "genotype_ridge_mse, _sample_list = genotype_correlation_analysis_ridge(geno_df, pheno_df, phenotype_1, missing_rate = missing_rate, sample_list = test_sample_list)\n",
    "print(genotype_ridge_mse)"
   ]
  },
  {
   "cell_type": "code",
   "execution_count": null,
   "metadata": {},
   "outputs": [],
   "source": [
    "mm_mse, _sample_list = baseline_mixed_model_analysis(geno_df, pheno_df, phenotype_2, phenotype_1, \n",
    "                                                     missing_rate = missing_rate, sample_list = test_sample_list,\n",
    "                                                    verbose = True)\n"
   ]
  },
  {
   "cell_type": "code",
   "execution_count": null,
   "metadata": {},
   "outputs": [],
   "source": [
    "print(mm_mse)"
   ]
  },
  {
   "cell_type": "code",
   "execution_count": null,
   "metadata": {
    "collapsed": true
   },
   "outputs": [],
   "source": [
    "##  actual benchmarking run \n",
    "# testing with high correlation weight1 and length1 \n",
    "# initialization for the benchmark run\n",
    "phenotype_1 = \"weight1\"\n",
    "phenotype_2 = \"length1\"\n",
    "\n",
    "missing_rates = [0.1, 0.15, 0.2, 0.25, 0.3, 0.35, 0.4, 0.45, 0.5, 0.6, 0.7, 0.8, 0.9]\n",
    "\n",
    "num_runs = 10\n",
    "\n",
    "result_list = [] "
   ]
  },
  {
   "cell_type": "code",
   "execution_count": null,
   "metadata": {},
   "outputs": [],
   "source": [
    "for missing_rate in missing_rates:\n",
    "    for i in range(num_runs):\n",
    "        \n",
    "        print(\"Running missing rate %f run %i\" % (missing_rate, i))\n",
    "\n",
    "        mse, test_sample_list = phenotype_correlation_analysis(geno_df, pheno_df, phenotype_2, phenotype_1, missing_rate = missing_rate)\n",
    "        result_pheno = pd.DataFrame([missing_rate, i, mse, \"Phenotype_correlation\"])\n",
    "        result_list.append(result_pheno)\n",
    "\n",
    "        genotype_ridge_mse, _sample_list = genotype_correlation_analysis_ridge(geno_df, pheno_df, phenotype_1, missing_rate = missing_rate, sample_list = test_sample_list)\n",
    "        result_geno = pd.DataFrame([missing_rate, i, genotype_ridge_mse, \"Genotype_correlation\"])\n",
    "        result_list.append(result_geno)\n",
    "        \n",
    "        mm_mse, _sample_list = baseline_mixed_model_analysis(geno_df, pheno_df, phenotype_2, phenotype_1, missing_rate = missing_rate, sample_list = test_sample_list)\n",
    "        result_mm = pd.DataFrame([missing_rate, i, mm_mse, \"Baseline_mixed_model\"])\n",
    "        result_list.append(result_mm)\n",
    "        "
   ]
  },
  {
   "cell_type": "code",
   "execution_count": null,
   "metadata": {
    "collapsed": true
   },
   "outputs": [],
   "source": [
    "result_df = pd.concat(result_list, axis = 1).transpose()\n",
    "result_df.columns = [\"missing_rate\", \"run\", \"MSE\", \"method\"]"
   ]
  },
  {
   "cell_type": "code",
   "execution_count": null,
   "metadata": {
    "collapsed": true
   },
   "outputs": [],
   "source": [
    "result_df.to_csv('./result.csv', index = False)"
   ]
  },
  {
   "cell_type": "code",
   "execution_count": null,
   "metadata": {
    "collapsed": true
   },
   "outputs": [],
   "source": []
  }
 ],
 "metadata": {
  "kernelspec": {
   "display_name": "Python 3",
   "language": "python",
   "name": "python3"
  },
  "language_info": {
   "codemirror_mode": {
    "name": "ipython",
    "version": 3
   },
   "file_extension": ".py",
   "mimetype": "text/x-python",
   "name": "python",
   "nbconvert_exporter": "python",
   "pygments_lexer": "ipython3",
   "version": "3.6.4"
  }
 },
 "nbformat": 4,
 "nbformat_minor": 2
}
