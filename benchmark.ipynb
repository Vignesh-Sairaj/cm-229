{
 "cells": [
  {
   "cell_type": "code",
   "execution_count": 1,
   "metadata": {
    "collapsed": true
   },
   "outputs": [],
   "source": [
    "import os\n",
    "import sys\n",
    "import pandas as pd \n",
    "import numpy as np\n",
    "from data_import import *\n",
    "from phenotype_correlation import *\n",
    "from genotype_correlation import *\n",
    "from baseline_mixed_model import *"
   ]
  },
  {
   "cell_type": "code",
   "execution_count": 2,
   "metadata": {},
   "outputs": [
    {
     "name": "stdout",
     "output_type": "stream",
     "text": [
      "Samples:\n",
      "['F326', 'F327', 'F329', 'F330', 'F331', 'F332', 'F333', 'F334', 'F335', 'F336', 'F337', 'F338', 'F339', 'F340', 'F341', 'F342', 'F343', 'F344', 'F345', 'F346', 'F347', 'F348', 'F349', 'F350', 'F351', 'F352', 'F353', 'F354', 'F355', 'F356', 'F357', 'F358', 'F359', 'F360', 'F361', 'F362', 'F363', 'F364', 'F365', 'F366', 'F367', 'F368', 'F369', 'F371', 'F372', 'F373', 'F374', 'F375', 'F376', 'F377', 'F378', 'F379', 'F380', 'F381', 'F382', 'F383', 'F384', 'F385', 'F386', 'F387', 'F388', 'F389', 'F390', 'F391', 'F392', 'F393', 'F394', 'F395', 'F396', 'F397', 'F398', 'F399', 'F400', 'F401', 'F402', 'F403', 'F405', 'F406', 'F407', 'F408', 'F410', 'F411', 'F412', 'F413', 'F414', 'F415', 'F416', 'F417', 'F418', 'F419', 'F420', 'F421', 'F422', 'F423', 'F424', 'F425', 'M326', 'M327', 'M328', 'M329', 'M330', 'M331', 'M332', 'M333', 'M334', 'M335', 'M336', 'M337', 'M339', 'M340', 'M341', 'M342', 'M343', 'M344', 'M345', 'M347', 'M348', 'M349', 'M350', 'M351', 'M352', 'M353', 'M354', 'M355', 'M356', 'M357', 'M358', 'M359', 'M360', 'M361', 'M362', 'M363', 'M364', 'M365', 'M366', 'M367', 'M368', 'M369', 'M370', 'M371', 'M372', 'M373', 'M374', 'M375', 'M376', 'M378', 'M379', 'M380', 'M381', 'M382', 'M383', 'M384', 'M385', 'M386', 'M387', 'M388', 'M389', 'M390', 'M391', 'M392', 'M393', 'M394', 'M395', 'M396', 'M397', 'M398', 'M399', 'M400', 'M402', 'M403', 'M405', 'M406', 'M407', 'M408', 'M409', 'M410', 'M411', 'M415', 'M416', 'M417', 'M418', 'M419', 'M420', 'M421', 'M422', 'M423', 'M424']\n"
     ]
    }
   ],
   "source": [
    "# import data\n",
    "geno_df, pheno_df = import_data_svenson()"
   ]
  },
  {
   "cell_type": "code",
   "execution_count": 3,
   "metadata": {
    "collapsed": true
   },
   "outputs": [],
   "source": [
    "# find high correlation phenotype pairs \n",
    "high_corr_mat = calculate_highly_correlated_phenotypes(pheno_df)"
   ]
  },
  {
   "cell_type": "code",
   "execution_count": null,
   "metadata": {},
   "outputs": [],
   "source": [
    "high_corr_mat[\"weight1\"][high_corr_mat[\"weight1\"] > 0.5]"
   ]
  },
  {
   "cell_type": "code",
   "execution_count": 4,
   "metadata": {
    "collapsed": true
   },
   "outputs": [],
   "source": [
    "# testing with ghrelin and leptin \n",
    "phenotype_1 = \"weight1\"\n",
    "phenotype_2 = \"length1\"\n",
    "missing_rate = 0.8"
   ]
  },
  {
   "cell_type": "code",
   "execution_count": 5,
   "metadata": {},
   "outputs": [
    {
     "name": "stdout",
     "output_type": "stream",
     "text": [
      "The correlation between length1 and weight1 is 0.819920\n"
     ]
    }
   ],
   "source": [
    "mse, test_sample_list = phenotype_correlation_analysis(geno_df, pheno_df, phenotype_2, phenotype_1, missing_rate = missing_rate)"
   ]
  },
  {
   "cell_type": "code",
   "execution_count": 6,
   "metadata": {},
   "outputs": [
    {
     "name": "stdout",
     "output_type": "stream",
     "text": [
      "26.79061384334351\n",
      "['F350' 'F375' 'M343' 'F337' 'M348' 'M387' 'F354' 'M366' 'F394' 'M408'\n",
      " 'M356' 'M360' 'M396' 'F365' 'F346' 'F390' 'F388' 'M374' 'M333' 'M340'\n",
      " 'F360' 'M397' 'M395' 'M382' 'M353' 'M397' 'M326' 'M336' 'F352' 'F417'\n",
      " 'M422' 'F386' 'M381' 'F412' 'M402' 'F381' 'F362' 'M394' 'F355' 'M365'\n",
      " 'M394' 'M351' 'F361' 'F400' 'M423' 'F384' 'M385' 'M368' 'F372' 'F378'\n",
      " 'F334' 'F413' 'M411' 'M382' 'M417' 'M384' 'F413' 'M353' 'M399' 'F363'\n",
      " 'F374' 'F336' 'F381' 'M391' 'F350' 'M379' 'F388' 'F359' 'M392' 'F339'\n",
      " 'F423' 'F352' 'F384' 'M356' 'M381' 'M422' 'M372' 'F357' 'F351' 'M342'\n",
      " 'M354' 'F394' 'M392' 'F415' 'M381' 'F373' 'M331' 'M360' 'M420' 'F410'\n",
      " 'M400' 'M374' 'F378' 'F382' 'M394' 'F334' 'F360' 'F399' 'F346' 'F397'\n",
      " 'M370' 'F383' 'F346' 'M418' 'F350' 'F400' 'F417' 'F364' 'F396' 'M405'\n",
      " 'M374' 'F405' 'M331' 'M363' 'F411' 'M373' 'F403' 'M394' 'F423' 'M358'\n",
      " 'M366' 'M337' 'F407' 'F351' 'M394' 'F345' 'F407' 'F371' 'M407' 'M380'\n",
      " 'M421' 'F418' 'M410' 'M419' 'M327' 'F390' 'F394' 'F326' 'M365' 'F422'\n",
      " 'F344' 'F346' 'M370' 'F348' 'M326' 'F351' 'M405' 'F420' 'M361']\n"
     ]
    }
   ],
   "source": [
    "print(mse)\n",
    "print(test_sample_list)"
   ]
  },
  {
   "cell_type": "code",
   "execution_count": null,
   "metadata": {},
   "outputs": [],
   "source": [
    "# correlation with genotype \n",
    "genotype_mse,  _sample_list = genotype_correlation_analysis(geno_df, pheno_df, phenotype_1, missing_rate = missing_rate, sample_list = test_sample_list)"
   ]
  },
  {
   "cell_type": "code",
   "execution_count": null,
   "metadata": {},
   "outputs": [],
   "source": [
    "genotype_mse"
   ]
  },
  {
   "cell_type": "code",
   "execution_count": null,
   "metadata": {},
   "outputs": [],
   "source": [
    "genotype_ridge_mse, _sample_list = genotype_correlation_analysis_ridge(geno_df, pheno_df, phenotype_1, missing_rate = missing_rate, sample_list = test_sample_list)\n",
    "print(genotype_ridge_mse)"
   ]
  },
  {
   "cell_type": "code",
   "execution_count": 7,
   "metadata": {},
   "outputs": [
    {
     "name": "stdout",
     "output_type": "stream",
     "text": [
      "The correlation between length1 and weight1 is 0.819920\n",
      "These samples are missing phenotypes:\n",
      "[]\n",
      "(77725, 187)\n",
      "(5145, 187)\n",
      "(187, 2)\n",
      "The linear model summary for predicting phenotype 'weight1' based on phenotype 'length1'\n",
      "                            OLS Regression Results                            \n",
      "==============================================================================\n",
      "Dep. Variable:                weight1   R-squared:                       0.972\n",
      "Model:                            OLS   Adj. R-squared:                  0.972\n",
      "Method:                 Least Squares   F-statistic:                     2821.\n",
      "Date:                Wed, 12 Jun 2019   Prob (F-statistic):           3.75e-64\n",
      "Time:                        22:49:39   Log-Likelihood:                -244.49\n",
      "No. Observations:                  81   AIC:                             491.0\n",
      "Df Residuals:                      80   BIC:                             493.4\n",
      "Df Model:                           1                                         \n",
      "Covariance Type:            nonrobust                                         \n",
      "==============================================================================\n",
      "                 coef    std err          t      P>|t|      [0.025      0.975]\n",
      "------------------------------------------------------------------------------\n",
      "length1        3.3386      0.063     53.117      0.000       3.214       3.464\n",
      "==============================================================================\n",
      "Omnibus:                        5.089   Durbin-Watson:                   1.357\n",
      "Prob(Omnibus):                  0.079   Jarque-Bera (JB):                4.818\n",
      "Skew:                           0.597   Prob(JB):                       0.0899\n",
      "Kurtosis:                       3.009   Cond. No.                         1.00\n",
      "==============================================================================\n",
      "\n",
      "Warnings:\n",
      "[1] Standard Errors assume that the covariance matrix of the errors is correctly specified.\n",
      "length1    3.338593\n",
      "dtype: float64\n",
      "[-0.00032289  0.00569686 -0.01767888 ... -0.00032289 -0.00032289\n",
      " -0.00032289]\n"
     ]
    }
   ],
   "source": [
    "mm_mse, _sample_list = baseline_mixed_model_analysis(geno_df, pheno_df, phenotype_2, phenotype_1, \n",
    "                                                     missing_rate = missing_rate, sample_list = test_sample_list,\n",
    "                                                    verbose = True)\n"
   ]
  },
  {
   "cell_type": "code",
   "execution_count": 8,
   "metadata": {},
   "outputs": [
    {
     "name": "stdout",
     "output_type": "stream",
     "text": [
      "37.953930508092455\n"
     ]
    }
   ],
   "source": [
    "print(mm_mse)"
   ]
  },
  {
   "cell_type": "code",
   "execution_count": null,
   "metadata": {
    "collapsed": true
   },
   "outputs": [],
   "source": [
    "##  actual benchmarking run \n",
    "# testing with high correlation weight1 and length1 \n",
    "# initialization for the benchmark run\n",
    "phenotype_1 = \"weight1\"\n",
    "phenotype_2 = \"length1\"\n",
    "\n",
    "missing_rates = [0.1, 0.15, 0.2, 0.25, 0.3, 0.35, 0.4, 0.45, 0.5, 0.6, 0.7, 0.8, 0.9]\n",
    "\n",
    "num_runs = 10\n",
    "\n",
    "result_list = [] "
   ]
  },
  {
   "cell_type": "code",
   "execution_count": null,
   "metadata": {},
   "outputs": [],
   "source": [
    "for missing_rate in missing_rates:\n",
    "    for i in range(num_runs):\n",
    "        \n",
    "        print(\"Running missing rate %f run %i\" % (missing_rate, i))\n",
    "\n",
    "        mse, test_sample_list = phenotype_correlation_analysis(geno_df, pheno_df, phenotype_2, phenotype_1, missing_rate = missing_rate)\n",
    "        result_pheno = pd.DataFrame([missing_rate, i, mse, \"Phenotype_correlation\"])\n",
    "        result_list.append(result_pheno)\n",
    "\n",
    "        genotype_ridge_mse, _sample_list = genotype_correlation_analysis_ridge(geno_df, pheno_df, phenotype_1, missing_rate = missing_rate, sample_list = test_sample_list)\n",
    "        result_geno = pd.DataFrame([missing_rate, i, genotype_ridge_mse, \"Genotype_correlation\"])\n",
    "        result_list.append(result_geno)\n",
    "        \n",
    "        mm_mse, _sample_list = baseline_mixed_model_analysis(geno_df, pheno_df, phenotype_2, phenotype_1, missing_rate = missing_rate, sample_list = test_sample_list)\n",
    "        result_mm = pd.DataFrame([missing_rate, i, mm_mse, \"Baseline_mixed_model\"])\n",
    "        result_list.append(result_mm)\n",
    "        "
   ]
  },
  {
   "cell_type": "code",
   "execution_count": null,
   "metadata": {
    "collapsed": true
   },
   "outputs": [],
   "source": [
    "result_df = pd.concat(result_list, axis = 1).transpose()\n",
    "result_df.columns = [\"missing_rate\", \"run\", \"MSE\", \"method\"]"
   ]
  },
  {
   "cell_type": "code",
   "execution_count": null,
   "metadata": {
    "collapsed": true
   },
   "outputs": [],
   "source": [
    "result_df.to_csv('./result.csv', index = False)"
   ]
  },
  {
   "cell_type": "code",
   "execution_count": null,
   "metadata": {
    "collapsed": true
   },
   "outputs": [],
   "source": []
  }
 ],
 "metadata": {
  "kernelspec": {
   "display_name": "Python 3",
   "language": "python",
   "name": "python3"
  },
  "language_info": {
   "codemirror_mode": {
    "name": "ipython",
    "version": 3
   },
   "file_extension": ".py",
   "mimetype": "text/x-python",
   "name": "python",
   "nbconvert_exporter": "python",
   "pygments_lexer": "ipython3",
   "version": "3.6.4"
  }
 },
 "nbformat": 4,
 "nbformat_minor": 2
}
