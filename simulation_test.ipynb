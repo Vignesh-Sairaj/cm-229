{
 "cells": [
  {
   "cell_type": "code",
   "execution_count": 1,
   "metadata": {},
   "outputs": [],
   "source": [
    "import numpy as np\n",
    "from scipy.stats import matrix_normal, wishart\n",
    "from statsmodels.stats.moment_helpers import cov2corr\n",
    "\n",
    "from data_import import import_data_svenson\n",
    "from simulation import generate_B, generate_E, generate_pheno"
   ]
  },
  {
   "cell_type": "code",
   "execution_count": 2,
   "metadata": {},
   "outputs": [
    {
     "name": "stdout",
     "output_type": "stream",
     "text": [
      "Samples:\n",
      "['F326', 'F327', 'F329', 'F330', 'F331', 'F332', 'F333', 'F334', 'F335', 'F336', 'F337', 'F338', 'F339', 'F340', 'F341', 'F342', 'F343', 'F344', 'F345', 'F346', 'F347', 'F348', 'F349', 'F350', 'F351', 'F352', 'F353', 'F354', 'F355', 'F356', 'F357', 'F358', 'F359', 'F360', 'F361', 'F362', 'F363', 'F364', 'F365', 'F366', 'F367', 'F368', 'F369', 'F371', 'F372', 'F373', 'F374', 'F375', 'F376', 'F377', 'F378', 'F379', 'F380', 'F381', 'F382', 'F383', 'F384', 'F385', 'F386', 'F387', 'F388', 'F389', 'F390', 'F391', 'F392', 'F393', 'F394', 'F395', 'F396', 'F397', 'F398', 'F399', 'F400', 'F401', 'F402', 'F403', 'F405', 'F406', 'F407', 'F408', 'F410', 'F411', 'F412', 'F413', 'F414', 'F415', 'F416', 'F417', 'F418', 'F419', 'F420', 'F421', 'F422', 'F423', 'F424', 'F425', 'M326', 'M327', 'M328', 'M329', 'M330', 'M331', 'M332', 'M333', 'M334', 'M335', 'M336', 'M337', 'M339', 'M340', 'M341', 'M342', 'M343', 'M344', 'M345', 'M347', 'M348', 'M349', 'M350', 'M351', 'M352', 'M353', 'M354', 'M355', 'M356', 'M357', 'M358', 'M359', 'M360', 'M361', 'M362', 'M363', 'M364', 'M365', 'M366', 'M367', 'M368', 'M369', 'M370', 'M371', 'M372', 'M373', 'M374', 'M375', 'M376', 'M378', 'M379', 'M380', 'M381', 'M382', 'M383', 'M384', 'M385', 'M386', 'M387', 'M388', 'M389', 'M390', 'M391', 'M392', 'M393', 'M394', 'M395', 'M396', 'M397', 'M398', 'M399', 'M400', 'M402', 'M403', 'M405', 'M406', 'M407', 'M408', 'M409', 'M410', 'M411', 'M415', 'M416', 'M417', 'M418', 'M419', 'M420', 'M421', 'M422', 'M423', 'M424']\n"
     ]
    }
   ],
   "source": [
    "# import data\n",
    "geno_df, pheno_df = import_data_svenson()"
   ]
  },
  {
   "cell_type": "code",
   "execution_count": 3,
   "metadata": {},
   "outputs": [],
   "source": [
    "kinship_df = geno_df.cov()"
   ]
  },
  {
   "cell_type": "code",
   "execution_count": 4,
   "metadata": {},
   "outputs": [],
   "source": [
    "kinship = kinship_df.to_numpy()"
   ]
  },
  {
   "cell_type": "code",
   "execution_count": 5,
   "metadata": {},
   "outputs": [
    {
     "data": {
      "text/plain": [
       "array([[0.53959586, 0.20034314, 0.20051244, ..., 0.16339873, 0.19609052,\n",
       "        0.18884998],\n",
       "       [0.20034314, 0.54872491, 0.1962361 , ..., 0.18722232, 0.19118863,\n",
       "        0.18067878],\n",
       "       [0.20051244, 0.1962361 , 0.56517848, ..., 0.18617329, 0.22661915,\n",
       "        0.20255702],\n",
       "       ...,\n",
       "       [0.16339873, 0.18722232, 0.18617329, ..., 0.58467082, 0.17811706,\n",
       "        0.20486463],\n",
       "       [0.19609052, 0.19118863, 0.22661915, ..., 0.17811706, 0.57514035,\n",
       "        0.19500348],\n",
       "       [0.18884998, 0.18067878, 0.20255702, ..., 0.20486463, 0.19500348,\n",
       "        0.55523996]])"
      ]
     },
     "execution_count": 5,
     "metadata": {},
     "output_type": "execute_result"
    }
   ],
   "source": [
    "kinship"
   ]
  },
  {
   "cell_type": "code",
   "execution_count": 6,
   "metadata": {},
   "outputs": [
    {
     "data": {
      "text/plain": [
       "array([[1.        , 0.36818223, 0.36308993, ..., 0.29091002, 0.35199409,\n",
       "        0.34501842],\n",
       "       [0.36818223, 1.        , 0.35237797, ..., 0.33054042, 0.34032809,\n",
       "        0.32733275],\n",
       "       [0.36308993, 0.35237797, 1.        , ..., 0.32386861, 0.39748146,\n",
       "        0.3615881 ],\n",
       "       ...,\n",
       "       [0.29091002, 0.33054042, 0.32386861, ..., 1.        , 0.30715875,\n",
       "        0.35955963],\n",
       "       [0.35199409, 0.34032809, 0.39748146, ..., 0.30715875, 1.        ,\n",
       "        0.34507627],\n",
       "       [0.34501842, 0.32733275, 0.3615881 , ..., 0.35955963, 0.34507627,\n",
       "        1.        ]])"
      ]
     },
     "execution_count": 6,
     "metadata": {},
     "output_type": "execute_result"
    }
   ],
   "source": [
    "cov2corr(kinship)"
   ]
  },
  {
   "cell_type": "code",
   "execution_count": 7,
   "metadata": {},
   "outputs": [
    {
     "data": {
      "text/plain": [
       "array([[ 0.79419079,  0.71716247, -1.02248195,  0.4692715 , -1.1067714 ],\n",
       "       [ 0.656875  , -0.38816377,  0.73665973, -0.98171822,  2.7370204 ],\n",
       "       [ 1.14605558,  0.26883747, -0.12505344,  0.47674938,  0.14868853],\n",
       "       [ 0.09178474,  0.22506648,  0.57157596,  0.06900766, -1.71684705],\n",
       "       [ 1.78943554, -0.31400064, -0.67182365,  0.36990563, -0.45357099],\n",
       "       [ 1.43401043, -1.7692453 , -1.34725688, -1.98250418,  0.22177308],\n",
       "       [-0.37993105,  0.80227668,  0.0584139 ,  2.45364813,  1.92409117],\n",
       "       [-0.63029567,  0.35167154, -0.86221274, -0.45113431,  0.52807408],\n",
       "       [ 0.92756617, -0.32081295,  0.56264413,  1.22426648,  0.17726278],\n",
       "       [ 1.37125887, -0.60871797,  0.63465672, -0.32190463, -0.61063335]])"
      ]
     },
     "execution_count": 7,
     "metadata": {},
     "output_type": "execute_result"
    }
   ],
   "source": [
    "matrix_normal.rvs(rowcov=np.eye(10), colcov=np.eye(5))"
   ]
  },
  {
   "cell_type": "code",
   "execution_count": 8,
   "metadata": {},
   "outputs": [
    {
     "data": {
      "text/plain": [
       "(5, 5)"
      ]
     },
     "execution_count": 8,
     "metadata": {},
     "output_type": "execute_result"
    }
   ],
   "source": [
    "wishart.rvs(df=5, scale=np.eye(5)).shape"
   ]
  },
  {
   "cell_type": "code",
   "execution_count": 9,
   "metadata": {},
   "outputs": [
    {
     "data": {
      "text/plain": [
       "(187, 15)"
      ]
     },
     "execution_count": 9,
     "metadata": {},
     "output_type": "execute_result"
    }
   ],
   "source": [
    "generate_pheno(kinship, hsquared=0.8, N=187).shape"
   ]
  },
  {
   "cell_type": "code",
   "execution_count": null,
   "metadata": {},
   "outputs": [],
   "source": []
  }
 ],
 "metadata": {
  "kernelspec": {
   "display_name": "Python 3",
   "language": "python",
   "name": "python3"
  },
  "language_info": {
   "codemirror_mode": {
    "name": "ipython",
    "version": 3
   },
   "file_extension": ".py",
   "mimetype": "text/x-python",
   "name": "python",
   "nbconvert_exporter": "python",
   "pygments_lexer": "ipython3",
   "version": "3.6.8"
  }
 },
 "nbformat": 4,
 "nbformat_minor": 2
}
