{
 "cells": [
  {
   "cell_type": "code",
   "execution_count": 1,
   "metadata": {},
   "outputs": [
    {
     "name": "stdout",
     "output_type": "stream",
     "text": [
      "Samples:\n",
      "['F326', 'F327', 'F329', 'F330', 'F331', 'F332', 'F333', 'F334', 'F335', 'F336', 'F337', 'F338', 'F339', 'F340', 'F341', 'F342', 'F343', 'F344', 'F345', 'F346', 'F347', 'F348', 'F349', 'F350', 'F351', 'F352', 'F353', 'F354', 'F355', 'F356', 'F357', 'F358', 'F359', 'F360', 'F361', 'F362', 'F363', 'F364', 'F365', 'F366', 'F367', 'F368', 'F369', 'F371', 'F372', 'F373', 'F374', 'F375', 'F376', 'F377', 'F378', 'F379', 'F380', 'F381', 'F382', 'F383', 'F384', 'F385', 'F386', 'F387', 'F388', 'F389', 'F390', 'F391', 'F392', 'F393', 'F394', 'F395', 'F396', 'F397', 'F398', 'F399', 'F400', 'F401', 'F402', 'F403', 'F405', 'F406', 'F407', 'F408', 'F410', 'F411', 'F412', 'F413', 'F414', 'F415', 'F416', 'F417', 'F418', 'F419', 'F420', 'F421', 'F422', 'F423', 'F424', 'F425', 'M326', 'M327', 'M328', 'M329', 'M330', 'M331', 'M332', 'M333', 'M334', 'M335', 'M336', 'M337', 'M339', 'M340', 'M341', 'M342', 'M343', 'M344', 'M345', 'M347', 'M348', 'M349', 'M350', 'M351', 'M352', 'M353', 'M354', 'M355', 'M356', 'M357', 'M358', 'M359', 'M360', 'M361', 'M362', 'M363', 'M364', 'M365', 'M366', 'M367', 'M368', 'M369', 'M370', 'M371', 'M372', 'M373', 'M374', 'M375', 'M376', 'M378', 'M379', 'M380', 'M381', 'M382', 'M383', 'M384', 'M385', 'M386', 'M387', 'M388', 'M389', 'M390', 'M391', 'M392', 'M393', 'M394', 'M395', 'M396', 'M397', 'M398', 'M399', 'M400', 'M402', 'M403', 'M405', 'M406', 'M407', 'M408', 'M409', 'M410', 'M411', 'M415', 'M416', 'M417', 'M418', 'M419', 'M420', 'M421', 'M422', 'M423', 'M424']\n",
      "Standardizing genotype\n"
     ]
    },
    {
     "name": "stderr",
     "output_type": "stream",
     "text": [
      "/Users/harryyang/Documents/Research/Class/CS229/cm-229/data_import.py:75: RuntimeWarning: Mean of empty slice\n",
      "  np.nanmean(geno_df_select_transpose, axis=0))/np.nanstd(geno_df_select_transpose, axis=0)\n",
      "/Users/harryyang/anaconda3/lib/python3.6/site-packages/numpy/lib/nanfunctions.py:1628: RuntimeWarning: Degrees of freedom <= 0 for slice.\n",
      "  keepdims=keepdims)\n"
     ]
    }
   ],
   "source": [
    "import os\n",
    "import sys\n",
    "import pandas as pd \n",
    "import numpy as np\n",
    "from data_import import *\n",
    "from phenotype_correlation import *\n",
    "from genotype_correlation import *\n",
    "from baseline_mixed_model import *\n",
    "import statsmodels.api as sm\n",
    "\n",
    "# import data\n",
    "geno_df, pheno_df = import_data_svenson()"
   ]
  },
  {
   "cell_type": "code",
   "execution_count": 2,
   "metadata": {
    "collapsed": true
   },
   "outputs": [],
   "source": [
    "# testing with ghrelin and leptin \n",
    "phenotype_2 = \"weight1\"\n",
    "phenotype_1 = \"length1\"\n",
    "phenotype_3 = \"fat_mri\"\n",
    "missing_rate = 0.5\n",
    "verbose = False\n",
    "sample_list = list()"
   ]
  },
  {
   "cell_type": "code",
   "execution_count": 3,
   "metadata": {},
   "outputs": [
    {
     "name": "stdout",
     "output_type": "stream",
     "text": [
      "The correlation between length1 and weight1 is 0.819920\n"
     ]
    }
   ],
   "source": [
    "corr_mat = calculate_highly_correlated_phenotypes(pheno_df)\n",
    "\n",
    "print(\"The correlation between %s and %s is %f\" % (phenotype_1, phenotype_2, corr_mat[phenotype_1][phenotype_2]))\n",
    "\n",
    "# bind phenotype into list to extract\n",
    "phenotype_list = [phenotype_1, phenotype_2]\n",
    "\n",
    "# extract the phenotypes \n",
    "geno_select, pheno_select = select_phenotype_multiple_phenotypes(geno_df, pheno_df, phenotype_list = phenotype_list, verbose = verbose)"
   ]
  },
  {
   "cell_type": "code",
   "execution_count": 4,
   "metadata": {},
   "outputs": [
    {
     "name": "stdout",
     "output_type": "stream",
     "text": [
      "The correlation between length1 and weight1 is 0.819920\n"
     ]
    }
   ],
   "source": [
    "corr_mat = calculate_highly_correlated_phenotypes(pheno_df)\n",
    "\n",
    "print(\"The correlation between %s and %s is %f\" % (phenotype_1, phenotype_2, corr_mat[phenotype_1][phenotype_2]))\n",
    "\n",
    "# bind phenotype into list to extract\n",
    "phenotype_list = [phenotype_1, phenotype_2]\n",
    "\n",
    "# extract the phenotypes \n",
    "geno_select, pheno_select = select_phenotype_multiple_phenotypes(geno_df, pheno_df, phenotype_list = phenotype_list, verbose = verbose)\n",
    "\n",
    "# separate training and test dataset \n",
    "geno_tr, pheno_tr, geno_test, pheno_test, test_sample_list = separate_training_test(geno_select, pheno_select, missing_rate = missing_rate, sample_list_select = sample_list)\n",
    "\n",
    "# remove duplciates\n",
    "geno_test_new = geno_test.loc[:,~geno_test.columns.duplicated()]\n",
    "geno_test = geno_test_new[pheno_test[phenotype_2].index]"
   ]
  },
  {
   "cell_type": "code",
   "execution_count": 5,
   "metadata": {
    "collapsed": true
   },
   "outputs": [],
   "source": [
    "# saving below \n",
    "# # perform simple ridge to identify the top SNPs \n",
    "# lm_ridge = sm.OLS(endog = pheno_tr[phenotype_2], exog = geno_tr.transpose()).fit_regularized(L1_wt = 1.0)\n",
    "\n",
    "# if verbose: \n",
    "#     print(lm_ridge.params)\n",
    "\n",
    "# # select top SNPs with highest effect size for select run\n",
    "# top_N_idx = np.argsort(abs(lm_ridge.params))[-top_N:]\n",
    "\n",
    "# if verbose:\n",
    "# \ttop_N_values = [lm_re.params[i] for i in top_N_idx]\n",
    "# \tprint(top_N_values)\n",
    "\n",
    "# top_N_snps = geno_tr.iloc[top_N_idx].index\n",
    "\n",
    "# sklearn test \n",
    "\n",
    "# clf = Ridge(alpha = 1.0)\n",
    "# a = clf.fit(y = pheno_tr[phenotype_2], X = geno_tr.transpose())\n",
    "\n",
    "# # select top N \n",
    "# top_N = 10\n",
    "# top_N_idx = np.argsort(abs(a.coef_))[-top_N:]\n",
    "\n",
    "# print (top_N_idx)\n",
    "\n",
    "# top_N_values = [a.coef_[i] for i in top_N_idx]\n",
    "# print (top_N_values)\n",
    "\n",
    "# top_N_snps = geno_tr.iloc[top_N_idx].index\n",
    "# print(top_N_snps)\n",
    "\n",
    "\n",
    "# perform OLS \n",
    "lm = sm.OLS(endog = pheno_tr[phenotype_2], exog = pheno_tr[phenotype_1]).fit()\n",
    "\n",
    "if verbose:\t\n",
    "    print(\"The linear model summary for predicting phenotype %a based on phenotype %a\" % (phenotype_2, phenotype_1))\n",
    "    print(lm.summary())\t\n",
    "    print(lm.params)\t\n",
    "\n",
    "# prediction for fixed effect\n",
    "predictions_fe = lm.predict(pheno_test[phenotype_1])\n",
    "\n",
    "# perform ridge regression on the residual (random effect part)\n",
    "residuals = pheno_tr[phenotype_2] - lm.predict(pheno_tr[phenotype_1])"
   ]
  },
  {
   "cell_type": "code",
   "execution_count": 6,
   "metadata": {},
   "outputs": [
    {
     "name": "stdout",
     "output_type": "stream",
     "text": [
      "(4887, 115) (115, 2) (115,) (115,)\n",
      "0\n",
      "1000\n",
      "2000\n",
      "3000\n",
      "4000\n"
     ]
    }
   ],
   "source": [
    "# check marginal \n",
    "\n",
    "num_SNPs = geno_tr.shape[0]\n",
    "beta_list = []\n",
    "\n",
    "print(geno_tr.shape, pheno_tr.shape, residuals.shape, lm.predict(pheno_tr[phenotype_1]).shape)\n",
    "for snp_idx in range(num_SNPs):\n",
    "    lm_snp = sm.OLS(endog = residuals, exog = geno_tr.iloc[snp_idx].transpose()).fit_regularized(L1_wt = 1, alpha = 1.0)\n",
    "    \n",
    "#     clf = Ridge(alpha = 1.0)\n",
    "#     a = clf.fit(y = residuals, X = geno_tr.iloc[snp_idx].transpose())\n",
    "    beta_list.append(lm_snp.params)\n",
    "\n",
    "    if snp_idx % 1000 == 0: print(snp_idx)\n",
    "        \n",
    "\n",
    "\n"
   ]
  },
  {
   "cell_type": "code",
   "execution_count": 14,
   "metadata": {},
   "outputs": [
    {
     "name": "stdout",
     "output_type": "stream",
     "text": [
      "-0.3756460902476812\n",
      "[0.0, 0.0, 0.0, 0.0, 0.0, 0.0, 0.0, 0.0, 0.0, 0.0, 0.0, 0.0, 0.0, 0.0, 0.0, 0.0, 0.0, 0.0003630370886809226, -0.0007039178221267228, 0.0029465616069283395, 0.004882853529794467, -0.0049411394709540915, 0.005859957204407329, 0.0060215924776766405, 0.013122521504206721, -0.014706677508178978, 0.02083567589598912, 0.022702579821497405, 0.022702579821497405, 0.02690717017018185, 0.02704482139424059, -0.029638952646297515, -0.031737366752131006, -0.038762632908375096, 0.03878763411945487, 0.04233306656233549, -0.045605601804590154, -0.04660643102635564, 0.04933526831787034, -0.049818931069111554, 0.05035452704034668, -0.05048526832718816, 0.05073564439556297, -0.05302418845590335, 0.05853647888464053, -0.060773728659570085, 0.06520907406893167, -0.06941397692653346, 0.0697535378160409, -0.07523191316458804, 0.07587116496038625, 0.08062003503883589, 0.08604525198491696, -0.08693275058224288, -0.08695110594201468, -0.09126231583074976, -0.09606866333784098, 0.10137648430389345, 0.10603726323344369, -0.10643732666124382, 0.11224319347818293, 0.11429987574406358, -0.11555675203651974, 0.11758173306245105, 0.12004220647276627, 0.12465739084646915, -0.12892577884464357, -0.13298356905746167, -0.1363918363443095, -0.1430802858648619, -0.149354136075333, 0.14945808880183242, 0.17224113862092497, 0.1729327987927541, -0.1731065638649866, 0.18084253641747244, -0.18282680525018438, 0.19046867175702495, -0.19580870121960248, 0.19798405513008333, 0.20113550552782872, -0.2015771167272243, -0.20717477788238134, -0.21650456296997828, -0.22475927439629853, 0.22613416652379326, 0.23133231514630245, 0.24007164797559657, 0.26250191598837436, 0.28225171606986427, 0.3103804765134194, 0.3249229259520673, 0.3319156767699118, 0.35999909904756516, -0.36765128163009353, -0.36853871774413827, 0.3721311394234167, -0.3756460902476812, 0.40840936495987884, 0.4902520031296649]\n"
     ]
    },
    {
     "data": {
      "text/plain": [
       "Index(['JAX00599589', 'backuprs6294371', 'UNC10401431', 'UNC10317867',\n",
       "       'UNC10376635', 'UNC11175253', 'JAX00140375', 'UNC10396414',\n",
       "       'UNC10392549', 'UNC10986613', 'UNC10326560', 'UNC060077905',\n",
       "       'UNC11021891', 'backupJAX00141372', 'UNC11028920', 'JAX00600891',\n",
       "       'UNC11105445', 'UNC25229992', 'UNC19772719', 'JAX00085613',\n",
       "       'UNC9183051', 'JAX00486705', 'JAX00386199', 'UNC21824853',\n",
       "       'UNC16146321', 'JAX00597502', 'UNC24671888', 'UNC20486575',\n",
       "       'UNC20488598', 'UNC22226364', 'JAX00566398', 'UNC21166164',\n",
       "       'UNC2576730', 'UNC19075205', 'UNC15793828', 'UNC15745127',\n",
       "       'UNC30422185', 'UNC26093457', 'UNC9668440', 'UNC3639867', 'UNC8954644',\n",
       "       'UNC6772759', 'JAX00152888', 'UNC19109203', 'UNC28452239', 'UNC2436677',\n",
       "       'UNC8241261', 'UNC4344641', 'UNC21480915', 'JAX00465044', 'UNC9183513',\n",
       "       'JAX00122280', 'JAX00371476', 'UNC29582413', 'JAX00024799',\n",
       "       'UNC19793317', 'UNC12797896', 'JAX00692808', 'UNC24465743',\n",
       "       'UNC9852551', 'UNC8990259', 'UNC25015950', 'JAX00027068', 'UNC20476358',\n",
       "       'UNC120168993', 'UNC22365818', 'UNC30414168', 'UNC20469326',\n",
       "       'UNC29627248', 'UNC040755710', 'UNC6036577', 'JAX00356630',\n",
       "       'UNC22121309', 'UNC21467249', 'UNC29679195', 'backupJAX00201003',\n",
       "       'JAX00084415', 'JAX00582806', 'UNC19778630', 'UNC4068682',\n",
       "       'UNC13129961', 'UNC4892459', 'UNC2597470', 'UNC30423127', 'UNC30389906',\n",
       "       'JAX00280668', 'UNC16260975', 'UNC9208566', 'UNC21463670', 'UNC8963497',\n",
       "       'UNC2461495', 'UNC790025', 'JAX00582835', 'UNC22258382', 'UNC20467217',\n",
       "       'UNC2641596', 'UNC16274148', 'UNC20427048', 'UNC3647386', 'UNC9182358'],\n",
       "      dtype='object', name='marker')"
      ]
     },
     "execution_count": 14,
     "metadata": {},
     "output_type": "execute_result"
    }
   ],
   "source": [
    "beta = pd.concat(beta_list)\n",
    "print(min(beta))\n",
    "\n",
    "top_N = 100\n",
    "top_N_idx = np.argsort(abs(beta))[-top_N:]\n",
    "\n",
    "top_N_values = [beta[i] for i in top_N_idx]\n",
    "\n",
    "print(top_N_values)\n",
    "\n",
    "top_N_snps = geno_tr.iloc[top_N_idx].index\n",
    "top_N_snps"
   ]
  },
  {
   "cell_type": "code",
   "execution_count": 81,
   "metadata": {},
   "outputs": [
    {
     "name": "stdout",
     "output_type": "stream",
     "text": [
      "0\n",
      "1000\n",
      "2000\n",
      "3000\n",
      "4000\n"
     ]
    }
   ],
   "source": [
    "\n",
    "\n",
    "beta_list = []\n",
    "p_beta_list = []\n",
    "for snp_idx in range(num_SNPs):\n",
    "\t\tlm_snp = sm.OLS(endog = residuals, exog = geno_tr.iloc[snp_idx].transpose()).fit()\n",
    "\n",
    "\t\tp_val = lm_snp.pvalues[0]\n",
    "\t\tbeta = lm_snp.params[0]\n",
    "\t\tif p_val < 0.05:\n",
    "\t\t\tbeta_list.append(beta)\n",
    "\t\t\tp_beta_list.append(pd.Series([beta, p_val], name = geno_tr.iloc[snp_idx].name))\n",
    "\t\tif snp_idx % 1000 == 0: \n",
    "\t\t\tprint(snp_idx)\n",
    "            \n",
    "p_beta_df = pd.concat(p_beta_list, axis = 1).transpose()\n",
    "p_beta_df.columns = [\"beta\", \"pval\"]\n",
    "\n",
    "p_beta_df.sort_values(by = ['pval'], inplace = True)\n",
    "\n",
    "top_N = min(top_N, p_beta_df.shape[0])\n",
    "\n",
    "top_N_snps = p_beta_df.iloc[range(top_N)].index\n"
   ]
  },
  {
   "cell_type": "code",
   "execution_count": 90,
   "metadata": {},
   "outputs": [
    {
     "name": "stdout",
     "output_type": "stream",
     "text": [
      "Index(['UNC9182358', 'UNC3647386', 'JAX00582835', 'UNC2641596', 'UNC20427048',\n",
      "       'UNC22258382', 'UNC16274148', 'UNC20467217', 'UNC790025', 'JAX00582806',\n",
      "       'UNC9208566', 'UNC2461495', 'UNC21463670', 'UNC8963497', 'UNC30423127',\n",
      "       'UNC2597470', 'JAX00280668', 'UNC22121309', 'UNC13129961',\n",
      "       'UNC29679195', 'UNC30389906', 'UNC6036577', 'UNC16260975', 'UNC4892459',\n",
      "       'backupJAX00201003', 'UNC30414168', 'UNC19778630', 'UNC21467249',\n",
      "       'JAX00084415', 'UNC9852551', 'UNC29627248', 'UNC25015950', 'UNC4068682',\n",
      "       'UNC040755710', 'JAX00024799', 'UNC8990259', 'JAX00356630',\n",
      "       'JAX00027068', 'UNC12797896', 'UNC20476358', 'UNC24465743',\n",
      "       'JAX00692808', 'UNC9183513', 'UNC22365818', 'UNC29582413',\n",
      "       'UNC120168993', 'UNC22226364', 'UNC8954644', 'UNC8241261',\n",
      "       'JAX00465044', 'JAX00371476', 'JAX00692346', 'UNC20469326',\n",
      "       'UNC19793317', 'JAX00122280', 'UNC30422185', 'UNC21480915',\n",
      "       'UNC6772759', 'UNC4344641', 'UNC14429781', 'JAX00566398', 'UNC28452239',\n",
      "       'UNC19109203', 'JAX00152888', 'UNC2436677', 'UNC24671888', 'UNC9183051',\n",
      "       'UNC26093457', 'JAX00622482', 'JAX00570143', 'JAX00386199',\n",
      "       'UNC16146321', 'JAX00589210', 'UNC15793828', 'UNC8958139', 'UNC3639867',\n",
      "       'UNC21824853', 'JAX00464656', 'UNC28594739', 'UNC21836610',\n",
      "       'UNC20488598', 'UNC20486575', 'UNC15745127', 'UNC19772719',\n",
      "       'UNC8239722', 'UNC19075205', 'UNC3783798', 'JAX00705227', 'UNC6845655',\n",
      "       'UNC2576730', 'UNC21166164', 'UNC795996', 'UNC19755860', 'UNC8435000',\n",
      "       'UNC4440699', 'UNC9700440', 'JAX00122385', 'UNC773571', 'UNC22541508',\n",
      "       'JAX00085613'],\n",
      "      dtype='object')\n"
     ]
    }
   ],
   "source": [
    "\n",
    "print(top_N_snps)\n"
   ]
  },
  {
   "cell_type": "code",
   "execution_count": 76,
   "metadata": {},
   "outputs": [
    {
     "data": {
      "text/plain": [
       "'SAbGeoEUCOMM001'"
      ]
     },
     "execution_count": 76,
     "metadata": {},
     "output_type": "execute_result"
    }
   ],
   "source": [
    "geno_tr.iloc[snp_idx].name"
   ]
  },
  {
   "cell_type": "code",
   "execution_count": 33,
   "metadata": {},
   "outputs": [
    {
     "name": "stderr",
     "output_type": "stream",
     "text": [
      "/Users/harryyang/anaconda3/lib/python3.6/site-packages/seaborn/miscplot.py:22: RuntimeWarning: More than 20 figures have been opened. Figures created through the pyplot interface (`matplotlib.pyplot.figure`) are retained until explicitly closed and may consume too much memory. (To control this warning, see the rcParam `figure.max_open_warning`).\n",
      "  f, ax = plt.subplots(1, 1, figsize=(n * size, size))\n",
      "/Users/harryyang/anaconda3/lib/python3.6/site-packages/scipy/stats/stats.py:1633: FutureWarning: Using a non-tuple sequence for multidimensional indexing is deprecated; use `arr[tuple(seq)]` instead of `arr[seq]`. In the future this will be interpreted as an array index, `arr[np.array(seq)]`, which will result either in an error or a different result.\n",
      "  return np.add.reduce(sorted[indexer] * weights, axis=axis) / sumval\n"
     ]
    },
    {
     "data": {
      "image/png": "[encoded data removed]",
      "text/plain": [
       "<Figure size 1440x720 with 2 Axes>"
      ]
     },
     "execution_count": 33,
     "metadata": {},
     "output_type": "execute_result"
    }
   ],
   "source": [
    "\n",
    "import seaborn as sns\n",
    "import matplotlib.pyplot as plt\n",
    "import matplotlib as mpl\n",
    "\n",
    "\n",
    "f, ax = plt.subplots(ncols = 1, nrows = 2, figsize=(20, 10))\n",
    "\n",
    "pal = sns.palplot(sns.color_palette(\"RdBu\"))\n",
    "\n",
    "p = sns.distplot(abs(new_beta), ax = ax[0])\n",
    "\n",
    "f\n",
    "\n",
    "\n",
    "\n"
   ]
  },
  {
   "cell_type": "code",
   "execution_count": 265,
   "metadata": {
    "collapsed": true
   },
   "outputs": [],
   "source": [
    "\n",
    "predictions_re = (top_N_values * (geno_test.loc[top_N_snps].transpose())).sum(axis = 1)"
   ]
  },
  {
   "cell_type": "code",
   "execution_count": 266,
   "metadata": {
    "collapsed": true
   },
   "outputs": [],
   "source": [
    "lm_re = sm.OLS(endog = residuals, exog = geno_tr.loc[top_N_snps].transpose()).fit_regularized(L1_wt = 1.0, alpha = 1.0)\n",
    "\n",
    "if verbose: \n",
    "    print(lm_re.params)\n",
    "\n",
    "predictions_re2 = lm_re.predict(geno_test.loc[top_N_snps].transpose())\n"
   ]
  },
  {
   "cell_type": "code",
   "execution_count": 267,
   "metadata": {},
   "outputs": [
    {
     "name": "stdout",
     "output_type": "stream",
     "text": [
      "The correlation between length1 and fat_mri is nan\n",
      "[4555 1361 4739  948  663 4881  657 1362 2699 2091]\n",
      "[0.03704802879355403, 0.03787968362660606, -0.038802188736049306, 0.038868415766717936, -0.039070866409710116, 0.040483726260727874, 0.04074132259785157, 0.04133317776789621, 0.04140515721325585, -0.04176636604985238]\n",
      "Index(['UNC29338764', 'UNC9183051', 'UNC30427502', 'UNC030227936',\n",
      "       'JAX00102129', 'UNC31514370', 'UNC4287470', 'UNC9183513', 'UNC17550701',\n",
      "       'UNC13856737'],\n",
      "      dtype='object', name='marker')\n",
      "F331    1.271145\n",
      "F332    0.262697\n",
      "F337    0.761351\n",
      "F339   -0.318885\n",
      "F340    0.304734\n",
      "F341   -0.393619\n",
      "F342    0.558698\n",
      "F345    0.220660\n",
      "F346   -0.286188\n",
      "F352    0.220660\n",
      "F355   -0.318885\n",
      "F356   -0.795981\n",
      "F358   -0.488842\n",
      "F359   -0.205059\n",
      "F362   -0.351582\n",
      "F364    0.060043\n",
      "F368   -0.828678\n",
      "F374   -0.521539\n",
      "F377   -0.348637\n",
      "F380   -0.318885\n",
      "F383   -0.256436\n",
      "F390    0.018006\n",
      "F393    1.841588\n",
      "F394   -1.103121\n",
      "F395    0.528946\n",
      "F396    0.220660\n",
      "F398    0.761351\n",
      "F405   -0.011745\n",
      "F412    0.190908\n",
      "F414   -0.521539\n",
      "          ...   \n",
      "M351   -0.276848\n",
      "M353   -0.318885\n",
      "M356   -0.795981\n",
      "M358   -0.011745\n",
      "M359   -0.247096\n",
      "M361   -0.256436\n",
      "M363   -0.286188\n",
      "M364   -0.596273\n",
      "M366   -0.635364\n",
      "M367    0.507388\n",
      "M369   -0.011745\n",
      "M371   -0.286188\n",
      "M372    0.486909\n",
      "M373    0.220660\n",
      "M378   -0.074194\n",
      "M380    0.465351\n",
      "M383   -0.286188\n",
      "M386    1.300896\n",
      "M389   -0.244151\n",
      "M394   -0.214399\n",
      "M396    0.190908\n",
      "M399   -0.318885\n",
      "M402    1.342933\n",
      "M405   -0.286188\n",
      "M407   -0.596273\n",
      "M410   -0.786641\n",
      "M419    0.752011\n",
      "M420    1.342933\n",
      "M421   -0.318885\n",
      "M422   -0.521539\n",
      "Length: 77, dtype: float64 sample\n",
      "F331    7.129464\n",
      "F332    6.710084\n",
      "F337    7.129464\n",
      "F339    7.381093\n",
      "F340    7.632721\n",
      "F341    7.548845\n",
      "F342    6.877836\n",
      "F345    7.129464\n",
      "F346    6.877836\n",
      "F352    7.129464\n",
      "F355    7.381093\n",
      "F356    6.961712\n",
      "F358    6.877836\n",
      "F359    7.548845\n",
      "F362    6.542332\n",
      "F364    7.129464\n",
      "F368    7.632721\n",
      "F374    6.710084\n",
      "F377    7.045588\n",
      "F380    6.877836\n",
      "F383    7.464969\n",
      "F390    7.464969\n",
      "F393    7.297217\n",
      "F394    7.548845\n",
      "F395    7.548845\n",
      "F396    7.129464\n",
      "F398    7.129464\n",
      "F405    7.464969\n",
      "F412    7.548845\n",
      "F414    6.877836\n",
      "          ...   \n",
      "M351    7.213340\n",
      "M353    7.632721\n",
      "M356    7.381093\n",
      "M358    7.381093\n",
      "M359    6.793960\n",
      "M361    7.800473\n",
      "M363    7.968225\n",
      "M364    7.464969\n",
      "M366    7.716597\n",
      "M367    7.968225\n",
      "M369    7.800473\n",
      "M371    7.381093\n",
      "M372    7.968225\n",
      "M373    7.716597\n",
      "M378    7.381093\n",
      "M380    7.632721\n",
      "M383    7.548845\n",
      "M386    7.800473\n",
      "M389    8.219853\n",
      "M394    7.800473\n",
      "M396    7.213340\n",
      "M399    6.877836\n",
      "M402    7.968225\n",
      "M405    7.884349\n",
      "M407    6.793960\n",
      "M410    7.548845\n",
      "M419    7.800473\n",
      "M420    7.632721\n",
      "M421    7.716597\n",
      "M422    6.961712\n",
      "Length: 77, dtype: float64\n",
      "46.43902154285836 23.84818452312038 22.6469431415537 24.798541521635777\n"
     ]
    }
   ],
   "source": [
    "# combine the result from both\n",
    "total_prediction = predictions_fe + predictions_re\n",
    "\n",
    "\n",
    "mse = calculate_MSE(total_prediction, pheno_test[phenotype_2])\n",
    "newmse = calculate_MSE(predictions_fe, pheno_test[phenotype_2])\n",
    "newnewmse = calculate_MSE(predictions_fe + predictions_re2, pheno_test[phenotype_2])\n",
    "newnewnewmse, _sample_list = top_N_snp_mixed_model_analysis(geno_df, pheno_df, phenotype_1, phenotype_2, missing_rate = missing_rate, sample_list = test_sample_list, top_N = 10)\n",
    "\n",
    "print(mse,newmse, newnewmse, newnewnewmse)\n",
    "# return(mse, test_sample_list)"
   ]
  },
  {
   "cell_type": "code",
   "execution_count": 238,
   "metadata": {},
   "outputs": [
    {
     "name": "stdout",
     "output_type": "stream",
     "text": [
      "The correlation between length1 and fat_mri is nan\n"
     ]
    },
    {
     "data": {
      "text/plain": [
       "21.53870178358285"
      ]
     },
     "execution_count": 238,
     "metadata": {},
     "output_type": "execute_result"
    }
   ],
   "source": [
    "mse, test_sample_list = phenotype_correlation_analysis(geno_df, pheno_df, phenotype_1, phenotype_2, missing_rate = missing_rate, sample_list=test_sample_list)\n",
    "mse\n"
   ]
  },
  {
   "cell_type": "code",
   "execution_count": null,
   "metadata": {
    "collapsed": true
   },
   "outputs": [],
   "source": []
  },
  {
   "cell_type": "code",
   "execution_count": null,
   "metadata": {
    "collapsed": true
   },
   "outputs": [],
   "source": []
  },
  {
   "cell_type": "code",
   "execution_count": null,
   "metadata": {
    "collapsed": true
   },
   "outputs": [],
   "source": []
  }
 ],
 "metadata": {
  "kernelspec": {
   "display_name": "Python 3",
   "language": "python",
   "name": "python3"
  },
  "language_info": {
   "codemirror_mode": {
    "name": "ipython",
    "version": 3
   },
   "file_extension": ".py",
   "mimetype": "text/x-python",
   "name": "python",
   "nbconvert_exporter": "python",
   "pygments_lexer": "ipython3",
   "version": "3.6.4"
  }
 },
 "nbformat": 4,
 "nbformat_minor": 2
}
