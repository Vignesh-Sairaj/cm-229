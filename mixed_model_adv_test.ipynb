{
 "cells": [
  {
   "cell_type": "code",
   "execution_count": 1,
   "metadata": {},
   "outputs": [
    {
     "name": "stdout",
     "output_type": "stream",
     "text": [
      "Samples:\n",
      "['F326', 'F327', 'F329', 'F330', 'F331', 'F332', 'F333', 'F334', 'F335', 'F336', 'F337', 'F338', 'F339', 'F340', 'F341', 'F342', 'F343', 'F344', 'F345', 'F346', 'F347', 'F348', 'F349', 'F350', 'F351', 'F352', 'F353', 'F354', 'F355', 'F356', 'F357', 'F358', 'F359', 'F360', 'F361', 'F362', 'F363', 'F364', 'F365', 'F366', 'F367', 'F368', 'F369', 'F371', 'F372', 'F373', 'F374', 'F375', 'F376', 'F377', 'F378', 'F379', 'F380', 'F381', 'F382', 'F383', 'F384', 'F385', 'F386', 'F387', 'F388', 'F389', 'F390', 'F391', 'F392', 'F393', 'F394', 'F395', 'F396', 'F397', 'F398', 'F399', 'F400', 'F401', 'F402', 'F403', 'F405', 'F406', 'F407', 'F408', 'F410', 'F411', 'F412', 'F413', 'F414', 'F415', 'F416', 'F417', 'F418', 'F419', 'F420', 'F421', 'F422', 'F423', 'F424', 'F425', 'M326', 'M327', 'M328', 'M329', 'M330', 'M331', 'M332', 'M333', 'M334', 'M335', 'M336', 'M337', 'M339', 'M340', 'M341', 'M342', 'M343', 'M344', 'M345', 'M347', 'M348', 'M349', 'M350', 'M351', 'M352', 'M353', 'M354', 'M355', 'M356', 'M357', 'M358', 'M359', 'M360', 'M361', 'M362', 'M363', 'M364', 'M365', 'M366', 'M367', 'M368', 'M369', 'M370', 'M371', 'M372', 'M373', 'M374', 'M375', 'M376', 'M378', 'M379', 'M380', 'M381', 'M382', 'M383', 'M384', 'M385', 'M386', 'M387', 'M388', 'M389', 'M390', 'M391', 'M392', 'M393', 'M394', 'M395', 'M396', 'M397', 'M398', 'M399', 'M400', 'M402', 'M403', 'M405', 'M406', 'M407', 'M408', 'M409', 'M410', 'M411', 'M415', 'M416', 'M417', 'M418', 'M419', 'M420', 'M421', 'M422', 'M423', 'M424']\n",
      "Standardizing genotype\n"
     ]
    },
    {
     "name": "stderr",
     "output_type": "stream",
     "text": [
      "/Users/harryyang/Documents/Research/Class/CS229/cm-229/data_import.py:75: RuntimeWarning: Mean of empty slice\n",
      "  np.nanmean(geno_df_select_transpose, axis=0))/np.nanstd(geno_df_select_transpose, axis=0)\n",
      "/Users/harryyang/anaconda3/lib/python3.6/site-packages/numpy/lib/nanfunctions.py:1628: RuntimeWarning: Degrees of freedom <= 0 for slice.\n",
      "  keepdims=keepdims)\n"
     ]
    }
   ],
   "source": [
    "import os\n",
    "import sys\n",
    "import pandas as pd \n",
    "import numpy as np\n",
    "from data_import import *\n",
    "from phenotype_correlation import *\n",
    "from genotype_correlation import *\n",
    "from baseline_mixed_model import *\n",
    "import statsmodels.api as sm\n",
    "\n",
    "# import data\n",
    "geno_df, pheno_df = import_data_svenson()"
   ]
  },
  {
   "cell_type": "code",
   "execution_count": 215,
   "metadata": {
    "collapsed": true
   },
   "outputs": [],
   "source": [
    "# testing with ghrelin and leptin \n",
    "phenotype_2 = \"weight1\"\n",
    "phenotype_1 = \"length1\"\n",
    "phenotype_3 = \"fat_mri\"\n",
    "missing_rate = 0.5\n",
    "verbose = False\n",
    "sample_list = list()"
   ]
  },
  {
   "cell_type": "code",
   "execution_count": 239,
   "metadata": {},
   "outputs": [
    {
     "name": "stdout",
     "output_type": "stream",
     "text": [
      "The correlation between length1 and fat_mri is nan\n"
     ]
    }
   ],
   "source": [
    "corr_mat = calculate_highly_correlated_phenotypes(pheno_df)\n",
    "\n",
    "print(\"The correlation between %s and %s is %f\" % (phenotype_1, phenotype_2, corr_mat[phenotype_1][phenotype_2]))\n",
    "\n",
    "# bind phenotype into list to extract\n",
    "phenotype_list = [phenotype_1, phenotype_2]\n",
    "\n",
    "# extract the phenotypes \n",
    "geno_select, pheno_select = select_phenotype_multiple_phenotypes(geno_df, pheno_df, phenotype_list = phenotype_list, verbose = verbose)"
   ]
  },
  {
   "cell_type": "code",
   "execution_count": 256,
   "metadata": {},
   "outputs": [
    {
     "name": "stdout",
     "output_type": "stream",
     "text": [
      "The correlation between length1 and fat_mri is nan\n"
     ]
    }
   ],
   "source": [
    "corr_mat = calculate_highly_correlated_phenotypes(pheno_df)\n",
    "\n",
    "print(\"The correlation between %s and %s is %f\" % (phenotype_1, phenotype_2, corr_mat[phenotype_1][phenotype_2]))\n",
    "\n",
    "# bind phenotype into list to extract\n",
    "phenotype_list = [phenotype_1, phenotype_2]\n",
    "\n",
    "# extract the phenotypes \n",
    "geno_select, pheno_select = select_phenotype_multiple_phenotypes(geno_df, pheno_df, phenotype_list = phenotype_list, verbose = verbose)\n",
    "\n",
    "# separate training and test dataset \n",
    "geno_tr, pheno_tr, geno_test, pheno_test, test_sample_list = separate_training_test(geno_select, pheno_select, missing_rate = missing_rate, sample_list_select = sample_list)\n",
    "\n",
    "# remove duplciates\n",
    "geno_test_new = geno_test.loc[:,~geno_test.columns.duplicated()]\n",
    "geno_test = geno_test_new[pheno_test[phenotype_2].index]"
   ]
  },
  {
   "cell_type": "code",
   "execution_count": 257,
   "metadata": {
    "collapsed": true
   },
   "outputs": [],
   "source": [
    "# saving below \n",
    "# # perform simple ridge to identify the top SNPs \n",
    "# lm_ridge = sm.OLS(endog = pheno_tr[phenotype_2], exog = geno_tr.transpose()).fit_regularized(L1_wt = 1.0)\n",
    "\n",
    "# if verbose: \n",
    "#     print(lm_ridge.params)\n",
    "\n",
    "# # select top SNPs with highest effect size for select run\n",
    "# top_N_idx = np.argsort(abs(lm_ridge.params))[-top_N:]\n",
    "\n",
    "# if verbose:\n",
    "# \ttop_N_values = [lm_re.params[i] for i in top_N_idx]\n",
    "# \tprint(top_N_values)\n",
    "\n",
    "# top_N_snps = geno_tr.iloc[top_N_idx].index\n",
    "\n",
    "# sklearn test \n",
    "\n",
    "# clf = Ridge(alpha = 1.0)\n",
    "# a = clf.fit(y = pheno_tr[phenotype_2], X = geno_tr.transpose())\n",
    "\n",
    "# # select top N \n",
    "# top_N = 10\n",
    "# top_N_idx = np.argsort(abs(a.coef_))[-top_N:]\n",
    "\n",
    "# print (top_N_idx)\n",
    "\n",
    "# top_N_values = [a.coef_[i] for i in top_N_idx]\n",
    "# print (top_N_values)\n",
    "\n",
    "# top_N_snps = geno_tr.iloc[top_N_idx].index\n",
    "# print(top_N_snps)\n",
    "\n",
    "\n",
    "# perform OLS \n",
    "lm = sm.OLS(endog = pheno_tr[phenotype_2], exog = pheno_tr[phenotype_1]).fit()\n",
    "\n",
    "if verbose:\t\n",
    "    print(\"The linear model summary for predicting phenotype %a based on phenotype %a\" % (phenotype_2, phenotype_1))\n",
    "    print(lm.summary())\t\n",
    "    print(lm.params)\t\n",
    "\n",
    "# prediction for fixed effect\n",
    "predictions_fe = lm.predict(pheno_test[phenotype_1])\n",
    "\n",
    "# perform ridge regression on the residual (random effect part)\n",
    "residuals = pheno_tr[phenotype_2] - lm.predict(pheno_tr[phenotype_1])"
   ]
  },
  {
   "cell_type": "code",
   "execution_count": 263,
   "metadata": {},
   "outputs": [
    {
     "name": "stdout",
     "output_type": "stream",
     "text": [
      "(4887, 110) (110, 2) (110,) (110,)\n",
      "0\n",
      "1000\n",
      "2000\n",
      "3000\n",
      "4000\n"
     ]
    }
   ],
   "source": [
    "# check marginal \n",
    "\n",
    "num_SNPs = geno_tr.shape[0]\n",
    "beta_list = []\n",
    "\n",
    "print(geno_tr.shape, pheno_tr.shape, residuals.shape, lm.predict(pheno_tr[phenotype_1]).shape)\n",
    "for snp_idx in range(num_SNPs):\n",
    "    lm_snp = sm.OLS(endog = residuals, exog = geno_tr.iloc[snp_idx].transpose()).fit_regularized(L1_wt = 1, alpha = 1.0)\n",
    "    \n",
    "#     clf = Ridge(alpha = 1.0)\n",
    "#     a = clf.fit(y = residuals, X = geno_tr.iloc[snp_idx].transpose())\n",
    "    beta_list.append(lm_snp.params)\n",
    "\n",
    "    if snp_idx % 1000 == 0: print(snp_idx)\n",
    "        \n",
    "\n",
    "\n"
   ]
  },
  {
   "cell_type": "code",
   "execution_count": 264,
   "metadata": {},
   "outputs": [
    {
     "name": "stdout",
     "output_type": "stream",
     "text": [
      "-0.5583779953525735\n",
      "[-0.07561297338427184, -0.0785144081604542, 0.07969594404724772, -0.08281263115152679, 0.08304453617046662, 0.08432435786049519, 0.08621165956338214, 0.08848861478341162, -0.09062468224959852, -0.09361998781101435, 0.09639737908915537, -0.0968898822169658, -0.09757806579644805, -0.10102446167095709, 0.10146121586962074, 0.10221283352705487, -0.10506878716451135, -0.10577592216962242, 0.11304506581670527, -0.11684903891026234, 0.1218740780184489, -0.1296356584238693, -0.1356941892652908, -0.1356941892652908, -0.1358289344836044, -0.13992001632020074, -0.1419266980019689, -0.1516560178283212, 0.15231904101351337, -0.15274495599785726, -0.1532060048431217, 0.15460657727793575, -0.1554857715221732, 0.15945614124446145, -0.1602968336594018, 0.16535375251326342, -0.16766900352553218, 0.17376565483347675, 0.1745373188081339, 0.17490001240631414, -0.1843081173721236, 0.1844525567703512, -0.18757204163971009, -0.18952304981876933, -0.20273615192443564, -0.2031264207900016, -0.20628929661190826, 0.20944895619183643, 0.21304800289183573, 0.21449808543731272, -0.22396572357734892, 0.224337372232485, -0.22628392516796136, -0.22940938405819702, 0.23268169750484555, -0.23351333015021672, 0.24217253514045156, -0.2424015921683505, -0.24926017651586976, -0.2513661167143667, -0.2589147938590522, -0.26089836566169716, 0.26363832287700717, 0.2653707036288393, -0.27082241534680496, -0.2724640098675841, 0.28521850786911096, 0.28521850786911096, 0.28521850786911096, 0.2886765982181593, -0.304526069419127, -0.3071953541623519, 0.30916105399542326, 0.31225586929570337, -0.3165492672661969, 0.3234272362459825, 0.3290313816827461, -0.3297878983178889, -0.33578830696213163, -0.3576704362806656, 0.3605638713706593, 0.36363205664687265, 0.36832984479826725, -0.370841618136343, -0.3852849245276898, -0.38548110240098776, 0.39548832049609395, -0.40058757654713023, 0.4087842842085172, -0.41698647272524686, 0.42437009924784097, -0.4505185269798174, 0.4507040557966459, -0.4600312402165117, -0.4639025831182725, -0.46764106674805006, -0.4793524783543122, -0.48832895372931157, 0.5131852970987172, -0.5583779953525735]\n"
     ]
    },
    {
     "data": {
      "text/plain": [
       "Index(['UNC4736200', 'UNC1143337', 'UNC2336708', 'UNC20480702', 'UNC5249903',\n",
       "       'UNC24671888', 'JAX00294039', 'UNC1162577', 'JAX00259402',\n",
       "       'UNC19594486', 'UNC9183513', 'UNC30427206', 'JAX00514966',\n",
       "       'UNC25674790', 'UNC28305258', 'UNC21854461', 'UNC9762605',\n",
       "       'UNC11667614', 'UNC9667976', 'UNC24900059', 'UNC29189342',\n",
       "       'UNC26441955', 'UNC26455926', 'UNC26456769', 'UNC19594820',\n",
       "       'UNC29679195', 'JAX00322333', 'UNC2372771', 'JAX00458477',\n",
       "       'JAX00199468', 'JAX00322579', 'UNC4287470', 'UNC4725879', 'UNC16060158',\n",
       "       'JAX00461121', 'UNC17442370', 'UNC19592744', 'JAX00688681',\n",
       "       'UNC16056692', 'UNC27519627', 'UNC20435515', 'backupUNC170166828',\n",
       "       'JAX00309375', 'UNC19518420', 'UNC1147792', 'UNC24887199',\n",
       "       'JAX00388146', 'UNC790025', 'UNC21853099', 'UNC21853539', 'UNC30275404',\n",
       "       'UNC9695930', 'JAX00102129', 'UNC30427502', 'UNC170149893',\n",
       "       'backupJAX00415140', 'UNC20476358', 'UNC26408821', 'JAX00414828',\n",
       "       'UNC030556947', 'JAX00310340', 'UNC24601300', 'UNC21802988',\n",
       "       'UNC28306620', 'UNC19518277', 'JAX00027124', 'UNC28396804',\n",
       "       'UNC28398020', 'UNC28398199', 'JAX00692808', 'UNC26409744',\n",
       "       'JAX00133421', 'JAX00309681', 'UNC19519570', 'UNC30408346',\n",
       "       'UNC21843470', 'UNC27544953', 'UNC24868574', 'UNC24620943',\n",
       "       'UNC20427048', 'JAX00122280', 'UNC1168381', 'UNC21853187',\n",
       "       'UNC26665348', 'UNC19498893', 'UNC30216887', 'UNC21834611',\n",
       "       'backupUNC160451681', 'UNC2280244', 'JAX00242455', 'UNC6288758',\n",
       "       'UNC26206181', 'backupJAX00431050', 'UNC1151318', 'backupUNC081397997',\n",
       "       'UNC20469326', 'UNC19549384', 'UNC26206701', 'UNC17550701',\n",
       "       'UNC20467217'],\n",
       "      dtype='object', name='marker')"
      ]
     },
     "execution_count": 264,
     "metadata": {},
     "output_type": "execute_result"
    }
   ],
   "source": [
    "beta = pd.concat(beta_list)\n",
    "print(min(beta))\n",
    "\n",
    "top_N = 100\n",
    "top_N_idx = np.argsort(abs(beta))[-top_N:]\n",
    "\n",
    "top_N_values = [beta[i] for i in top_N_idx]\n",
    "\n",
    "print(top_N_values)\n",
    "\n",
    "top_N_snps = geno_tr.iloc[top_N_idx].index\n",
    "top_N_snps"
   ]
  },
  {
   "cell_type": "code",
   "execution_count": 265,
   "metadata": {},
   "outputs": [],
   "source": [
    "\n",
    "predictions_re = (top_N_values * (geno_test.loc[top_N_snps].transpose())).sum(axis = 1)"
   ]
  },
  {
   "cell_type": "code",
   "execution_count": 266,
   "metadata": {},
   "outputs": [],
   "source": [
    "lm_re = sm.OLS(endog = residuals, exog = geno_tr.loc[top_N_snps].transpose()).fit_regularized(L1_wt = 1.0, alpha = 1.0)\n",
    "\n",
    "if verbose: \n",
    "    print(lm_re.params)\n",
    "\n",
    "predictions_re2 = lm_re.predict(geno_test.loc[top_N_snps].transpose())\n"
   ]
  },
  {
   "cell_type": "code",
   "execution_count": 267,
   "metadata": {},
   "outputs": [
    {
     "name": "stdout",
     "output_type": "stream",
     "text": [
      "The correlation between length1 and fat_mri is nan\n",
      "[4555 1361 4739  948  663 4881  657 1362 2699 2091]\n",
      "[0.03704802879355403, 0.03787968362660606, -0.038802188736049306, 0.038868415766717936, -0.039070866409710116, 0.040483726260727874, 0.04074132259785157, 0.04133317776789621, 0.04140515721325585, -0.04176636604985238]\n",
      "Index(['UNC29338764', 'UNC9183051', 'UNC30427502', 'UNC030227936',\n",
      "       'JAX00102129', 'UNC31514370', 'UNC4287470', 'UNC9183513', 'UNC17550701',\n",
      "       'UNC13856737'],\n",
      "      dtype='object', name='marker')\n",
      "F331    1.271145\n",
      "F332    0.262697\n",
      "F337    0.761351\n",
      "F339   -0.318885\n",
      "F340    0.304734\n",
      "F341   -0.393619\n",
      "F342    0.558698\n",
      "F345    0.220660\n",
      "F346   -0.286188\n",
      "F352    0.220660\n",
      "F355   -0.318885\n",
      "F356   -0.795981\n",
      "F358   -0.488842\n",
      "F359   -0.205059\n",
      "F362   -0.351582\n",
      "F364    0.060043\n",
      "F368   -0.828678\n",
      "F374   -0.521539\n",
      "F377   -0.348637\n",
      "F380   -0.318885\n",
      "F383   -0.256436\n",
      "F390    0.018006\n",
      "F393    1.841588\n",
      "F394   -1.103121\n",
      "F395    0.528946\n",
      "F396    0.220660\n",
      "F398    0.761351\n",
      "F405   -0.011745\n",
      "F412    0.190908\n",
      "F414   -0.521539\n",
      "          ...   \n",
      "M351   -0.276848\n",
      "M353   -0.318885\n",
      "M356   -0.795981\n",
      "M358   -0.011745\n",
      "M359   -0.247096\n",
      "M361   -0.256436\n",
      "M363   -0.286188\n",
      "M364   -0.596273\n",
      "M366   -0.635364\n",
      "M367    0.507388\n",
      "M369   -0.011745\n",
      "M371   -0.286188\n",
      "M372    0.486909\n",
      "M373    0.220660\n",
      "M378   -0.074194\n",
      "M380    0.465351\n",
      "M383   -0.286188\n",
      "M386    1.300896\n",
      "M389   -0.244151\n",
      "M394   -0.214399\n",
      "M396    0.190908\n",
      "M399   -0.318885\n",
      "M402    1.342933\n",
      "M405   -0.286188\n",
      "M407   -0.596273\n",
      "M410   -0.786641\n",
      "M419    0.752011\n",
      "M420    1.342933\n",
      "M421   -0.318885\n",
      "M422   -0.521539\n",
      "Length: 77, dtype: float64 sample\n",
      "F331    7.129464\n",
      "F332    6.710084\n",
      "F337    7.129464\n",
      "F339    7.381093\n",
      "F340    7.632721\n",
      "F341    7.548845\n",
      "F342    6.877836\n",
      "F345    7.129464\n",
      "F346    6.877836\n",
      "F352    7.129464\n",
      "F355    7.381093\n",
      "F356    6.961712\n",
      "F358    6.877836\n",
      "F359    7.548845\n",
      "F362    6.542332\n",
      "F364    7.129464\n",
      "F368    7.632721\n",
      "F374    6.710084\n",
      "F377    7.045588\n",
      "F380    6.877836\n",
      "F383    7.464969\n",
      "F390    7.464969\n",
      "F393    7.297217\n",
      "F394    7.548845\n",
      "F395    7.548845\n",
      "F396    7.129464\n",
      "F398    7.129464\n",
      "F405    7.464969\n",
      "F412    7.548845\n",
      "F414    6.877836\n",
      "          ...   \n",
      "M351    7.213340\n",
      "M353    7.632721\n",
      "M356    7.381093\n",
      "M358    7.381093\n",
      "M359    6.793960\n",
      "M361    7.800473\n",
      "M363    7.968225\n",
      "M364    7.464969\n",
      "M366    7.716597\n",
      "M367    7.968225\n",
      "M369    7.800473\n",
      "M371    7.381093\n",
      "M372    7.968225\n",
      "M373    7.716597\n",
      "M378    7.381093\n",
      "M380    7.632721\n",
      "M383    7.548845\n",
      "M386    7.800473\n",
      "M389    8.219853\n",
      "M394    7.800473\n",
      "M396    7.213340\n",
      "M399    6.877836\n",
      "M402    7.968225\n",
      "M405    7.884349\n",
      "M407    6.793960\n",
      "M410    7.548845\n",
      "M419    7.800473\n",
      "M420    7.632721\n",
      "M421    7.716597\n",
      "M422    6.961712\n",
      "Length: 77, dtype: float64\n",
      "46.43902154285836 23.84818452312038 22.6469431415537 24.798541521635777\n"
     ]
    }
   ],
   "source": [
    "# combine the result from both\n",
    "total_prediction = predictions_fe + predictions_re\n",
    "\n",
    "\n",
    "mse = calculate_MSE(total_prediction, pheno_test[phenotype_2])\n",
    "newmse = calculate_MSE(predictions_fe, pheno_test[phenotype_2])\n",
    "newnewmse = calculate_MSE(predictions_fe + predictions_re2, pheno_test[phenotype_2])\n",
    "newnewnewmse, _sample_list = top_N_snp_mixed_model_analysis(geno_df, pheno_df, phenotype_1, phenotype_2, missing_rate = missing_rate, sample_list = test_sample_list, top_N = 10)\n",
    "\n",
    "print(mse,newmse, newnewmse, newnewnewmse)\n",
    "# return(mse, test_sample_list)"
   ]
  },
  {
   "cell_type": "code",
   "execution_count": 238,
   "metadata": {},
   "outputs": [
    {
     "name": "stdout",
     "output_type": "stream",
     "text": [
      "The correlation between length1 and fat_mri is nan\n"
     ]
    },
    {
     "data": {
      "text/plain": [
       "21.53870178358285"
      ]
     },
     "execution_count": 238,
     "metadata": {},
     "output_type": "execute_result"
    }
   ],
   "source": [
    "mse, test_sample_list = phenotype_correlation_analysis(geno_df, pheno_df, phenotype_1, phenotype_2, missing_rate = missing_rate, sample_list=test_sample_list)\n",
    "mse\n"
   ]
  },
  {
   "cell_type": "code",
   "execution_count": null,
   "metadata": {
    "collapsed": true
   },
   "outputs": [],
   "source": []
  },
  {
   "cell_type": "code",
   "execution_count": null,
   "metadata": {
    "collapsed": true
   },
   "outputs": [],
   "source": []
  },
  {
   "cell_type": "code",
   "execution_count": null,
   "metadata": {
    "collapsed": true
   },
   "outputs": [],
   "source": []
  }
 ],
 "metadata": {
  "kernelspec": {
   "display_name": "Python 3",
   "language": "python",
   "name": "python3"
  },
  "language_info": {
   "codemirror_mode": {
    "name": "ipython",
    "version": 3
   },
   "file_extension": ".py",
   "mimetype": "text/x-python",
   "name": "python",
   "nbconvert_exporter": "python",
   "pygments_lexer": "ipython3",
   "version": "3.6.4"
  }
 },
 "nbformat": 4,
 "nbformat_minor": 2
}
