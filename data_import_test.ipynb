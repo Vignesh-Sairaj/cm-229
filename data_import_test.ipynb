{
 "cells": [
  {
   "cell_type": "code",
   "execution_count": 16,
   "metadata": {
    "collapsed": true
   },
   "outputs": [],
   "source": [
    "import sys\n",
    "import os \n",
    "import pandas as pd\n",
    "import numpy as np"
   ]
  },
  {
   "cell_type": "code",
   "execution_count": 2,
   "metadata": {
    "collapsed": true
   },
   "outputs": [],
   "source": [
    "input_dir = \"./DO_Islets/\"\n",
    "\n",
    "# import genotype\n",
    "input_geno_file = \"%s/Attie-232_Attie_DO_Islets-GigaMUGA_geno.csv\" % (input_dir)\n",
    "\n",
    "input_geno_df = pd.read_csv(input_geno_file, index_col = 0)\n",
    "\n",
    "geno_cols = input_geno_df.columns.tolist()\n",
    "\n",
    "# import phenotype\n",
    "input_pheno_file = \"%s/Attie-232_Attie_DO_Islets-GigaMUGA_pheno.csv\" % (input_dir)\n",
    "\n",
    "input_pheno_df = pd.read_csv(input_pheno_file, index_col = 0)\n",
    "\n",
    "pheno_samples = input_pheno_df.index.tolist()\n"
   ]
  },
  {
   "cell_type": "code",
   "execution_count": 3,
   "metadata": {
    "collapsed": true
   },
   "outputs": [],
   "source": [
    "# generate sample list\n",
    "sample_list = [ x for x in geno_cols if x in pheno_samples ]"
   ]
  },
  {
   "cell_type": "code",
   "execution_count": 4,
   "metadata": {},
   "outputs": [
    {
     "name": "stdout",
     "output_type": "stream",
     "text": [
      "Samples:\n",
      "['DO021', 'DO121', 'DO122', 'DO123', 'DO124', 'DO125', 'DO126', 'DO128', 'DO129', 'DO130', 'DO131', 'DO132', 'DO133', 'DO134', 'DO136', 'DO137', 'DO138', 'DO139', 'DO140', 'DO141', 'DO142', 'DO143', 'DO144', 'DO145', 'DO146', 'DO147', 'DO148', 'DO149', 'DO150', 'DO151', 'DO152', 'DO153', 'DO154', 'DO155', 'DO156', 'DO157', 'DO158', 'DO159', 'DO160', 'DO161', 'DO162', 'DO163', 'DO164', 'DO165', 'DO166', 'DO167', 'DO168', 'DO169', 'DO170', 'DO171', 'DO172', 'DO173', 'DO174', 'DO175', 'DO176', 'DO177', 'DO178', 'DO179', 'DO180', 'DO181', 'DO182', 'DO183', 'DO184', 'DO185', 'DO186', 'DO187', 'DO188', 'DO189', 'DO190', 'DO191', 'DO192', 'DO193', 'DO194', 'DO195', 'DO196', 'DO197', 'DO198', 'DO199', 'DO200', 'DO201', 'DO202', 'DO203', 'DO204', 'DO205', 'DO206', 'DO207', 'DO208', 'DO209', 'DO210', 'DO211', 'DO212', 'DO213', 'DO214', 'DO215', 'DO216', 'DO217', 'DO218', 'DO219', 'DO220', 'DO221', 'DO223', 'DO224', 'DO225', 'DO226', 'DO227', 'DO228', 'DO229', 'DO230', 'DO231', 'DO232', 'DO233', 'DO234', 'DO235', 'DO236', 'DO238', 'DO239', 'DO240', 'DO241', 'DO242', 'DO243', 'DO244', 'DO245', 'DO246', 'DO247', 'DO248', 'DO249', 'DO250', 'DO251', 'DO252', 'DO253', 'DO254', 'DO255', 'DO256', 'DO257', 'DO258', 'DO259', 'DO260', 'DO261', 'DO262', 'DO263', 'DO264', 'DO265', 'DO266', 'DO267', 'DO268', 'DO269', 'DO270', 'DO271', 'DO272', 'DO273', 'DO275', 'DO276', 'DO277', 'DO278', 'DO279', 'DO280', 'DO281', 'DO282', 'DO283', 'DO284', 'DO285', 'DO286', 'DO287', 'DO288', 'DO289', 'DO290', 'DO291', 'DO292', 'DO293', 'DO294', 'DO295', 'DO296', 'DO297', 'DO298', 'DO299', 'DO300', 'DO301', 'DO302', 'DO303', 'DO304', 'DO305', 'DO307', 'DO310', 'DO311', 'DO312', 'DO313', 'DO314', 'DO315', 'DO317', 'DO318', 'DO319', 'DO320', 'DO321', 'DO322', 'DO323', 'DO324', 'DO325', 'DO326', 'DO327', 'DO328', 'DO329', 'DO330', 'DO331', 'DO333', 'DO334', 'DO335', 'DO336', 'DO337', 'DO338', 'DO339', 'DO341', 'DO342', 'DO343', 'DO344', 'DO346', 'DO347', 'DO348', 'DO349', 'DO350', 'DO351', 'DO352', 'DO353', 'DO354', 'DO355', 'DO356', 'DO358', 'DO359', 'DO360', 'DO361', 'DO362', 'DO363', 'DO364', 'DO365', 'DO366', 'DO367', 'DO369', 'DO370', 'DO371', 'DO372', 'DO373', 'DO374', 'DO375', 'DO376', 'DO377', 'DO378', 'DO379', 'DO380', 'DO381', 'DO382', 'DO383', 'DO384', 'DO385', 'DO386', 'DO387', 'DO388', 'DO389', 'DO390', 'DO391', 'DO392', 'DO393', 'DO394', 'DO395', 'DO396', 'DO398', 'DO399', 'DO400', 'DO401', 'DO404', 'DO405', 'DO406', 'DO407', 'DO408', 'DO409', 'DO410', 'DO411', 'DO412', 'DO413', 'DO414', 'DO415', 'DO416', 'DO417', 'DO418', 'DO419', 'DO420', 'DO461', 'DO462', 'DO463', 'DO464', 'DO465', 'DO466', 'DO467', 'DO468', 'DO469', 'DO470', 'DO471', 'DO472', 'DO473', 'DO474', 'DO475', 'DO476', 'DO477', 'DO478', 'DO479', 'DO480', 'DO481', 'DO482', 'DO483', 'DO484', 'DO485', 'DO486', 'DO487', 'DO488', 'DO489', 'DO490', 'DO491', 'DO492', 'DO493', 'DO494', 'DO495', 'DO496', 'DO497', 'DO498', 'DO499', 'DO500', 'DO501', 'DO502', 'DO503', 'DO504', 'DO505', 'DO506', 'DO507', 'DO508', 'DO509', 'DO510', 'DO511', 'DO512', 'DO513', 'DO514', 'DO515', 'DO516', 'DO517', 'DO518', 'DO519', 'DO520', 'DO521', 'DO522', 'DO523', 'DO524', 'DO525', 'DO526', 'DO527', 'DO528', 'DO529', 'DO530', 'DO531', 'DO532', 'DO533', 'DO534', 'DO535', 'DO536', 'DO537', 'DO538', 'DO539', 'DO540', 'DO541', 'DO542', 'DO543', 'DO544', 'DO545', 'DO546', 'DO547', 'DO548', 'DO549', 'DO550', 'DO551', 'DO552', 'DO553', 'DO554', 'DO555', 'DO556', 'DO557', 'DO558', 'DO559', 'DO560']\n"
     ]
    }
   ],
   "source": [
    "print(\"Samples:\")\n",
    "print(sample_list)"
   ]
  },
  {
   "cell_type": "code",
   "execution_count": 5,
   "metadata": {
    "collapsed": true
   },
   "outputs": [],
   "source": [
    "# select the genotypes for the samples \n",
    "geno_df_select = input_geno_df[sample_list]"
   ]
  },
  {
   "cell_type": "code",
   "execution_count": 6,
   "metadata": {
    "collapsed": true
   },
   "outputs": [],
   "source": [
    "# select the phenotypes for the samples \n",
    "pheno_df_select = input_pheno_df.loc[sample_list]"
   ]
  },
  {
   "cell_type": "code",
   "execution_count": 7,
   "metadata": {},
   "outputs": [
    {
     "name": "stdout",
     "output_type": "stream",
     "text": [
      "(384, 155)\n",
      "(143101, 384)\n"
     ]
    }
   ],
   "source": [
    "# check the dimensions\n",
    "print(pheno_df_select.shape)\n",
    "print(geno_df_select.shape)"
   ]
  },
  {
   "cell_type": "code",
   "execution_count": 8,
   "metadata": {
    "collapsed": true
   },
   "outputs": [],
   "source": [
    "### GENOTYPE BASELINE MODEL TEST ### \n",
    "# select a phenotype for genotype baseline model \n",
    "# we are going to use num_islets as the test phenotype for baseline model\n",
    "phenotype = pheno_df_select[\"num_islets\"]\n"
   ]
  },
  {
   "cell_type": "code",
   "execution_count": 9,
   "metadata": {},
   "outputs": [
    {
     "name": "stdout",
     "output_type": "stream",
     "text": [
      "These samples are missing phenotypes:\n",
      "['DO134', 'DO136', 'DO139', 'DO198', 'DO334', 'DO341', 'DO351', 'DO418', 'DO419', 'DO509']\n"
     ]
    }
   ],
   "source": [
    "# ID samples with missing phenotype\n",
    "samples_with_missing_pheno = phenotype[phenotype < 0].index.tolist()\n",
    "\n",
    "print(\"These samples are missing phenotypes:\")\n",
    "print(samples_with_missing_pheno)\n",
    "\n",
    "# select samples with known phenotypes\n",
    "phenotype_complete = pd.DataFrame(phenotype[~phenotype.index.isin(samples_with_missing_pheno)])\n",
    "\n",
    "# save the complete_sample_list for identifying matching genotype\n",
    "complete_sample_list = phenotype_complete.index.tolist()"
   ]
  },
  {
   "cell_type": "code",
   "execution_count": 10,
   "metadata": {},
   "outputs": [
    {
     "name": "stdout",
     "output_type": "stream",
     "text": [
      "(143101, 374)\n",
      "(88770, 374)\n",
      "(374, 1)\n"
     ]
    }
   ],
   "source": [
    "# select genotype\n",
    "genotype_complete = geno_df_select[complete_sample_list]\n",
    "\n",
    "print(genotype_complete.shape)\n",
    "\n",
    "# clean snps with missing geno \n",
    "genotype_complete_dropNA = genotype_complete.dropna().to_numpy()\n",
    "\n",
    "print(genotype_complete_dropNA.shape)\n",
    "print(phenotype_complete.shape)\n",
    "# import the linear model module \n",
    "import statsmodels.api as sm "
   ]
  },
  {
   "cell_type": "code",
   "execution_count": 12,
   "metadata": {},
   "outputs": [
    {
     "name": "stderr",
     "output_type": "stream",
     "text": [
      "/Users/harryyang/anaconda3/lib/python3.6/site-packages/ipykernel_launcher.py:13: FutureWarning: `rcond` parameter will change to the default of machine precision times ``max(M, N)`` where M and N are the input matrix dimensions.\n",
      "To use the future default and silence this warning we advise to pass `rcond=None`, to keep using the old, explicitly pass `rcond=-1`.\n",
      "  del sys.path[0]\n"
     ]
    }
   ],
   "source": [
    "# run the linear model \n",
    "# direct OLS model as below do not work due to memory constraints.\n",
    "# model = sm.OLS(phenotype_complete, genotype_complete_dropNA.transpose()).fit()\n",
    "# models.summary()\n",
    "\n",
    "\n",
    "# beta_OLS = (X'X)^-1 X'Y\n",
    "\n",
    "# load numpy\n",
    "import numpy as np \n",
    "\n",
    "# use numpy OLS directly\n",
    "beta = np.linalg.lstsq(genotype_complete_dropNA.transpose(), phenotype_complete)\n",
    "\n"
   ]
  },
  {
   "cell_type": "code",
   "execution_count": 17,
   "metadata": {},
   "outputs": [
    {
     "data": {
      "text/plain": [
       "88770"
      ]
     },
     "execution_count": 17,
     "metadata": {},
     "output_type": "execute_result"
    }
   ],
   "source": [
    "len(beta[0])"
   ]
  },
  {
   "cell_type": "code",
   "execution_count": null,
   "metadata": {
    "collapsed": true
   },
   "outputs": [],
   "source": []
  },
  {
   "cell_type": "code",
   "execution_count": 18,
   "metadata": {},
   "outputs": [
    {
     "name": "stdout",
     "output_type": "stream",
     "text": [
      "(374, 88770)\n"
     ]
    }
   ],
   "source": []
  },
  {
   "cell_type": "code",
   "execution_count": 17,
   "metadata": {},
   "outputs": [
    {
     "ename": "ValueError",
     "evalue": "shapes (374,88770) and (1,374) not aligned: 88770 (dim 1) != 1 (dim 0)",
     "output_type": "error",
     "traceback": [
      "\u001b[0;31m---------------------------------------------------------------------------\u001b[0m",
      "\u001b[0;31mValueError\u001b[0m                                Traceback (most recent call last)",
      "\u001b[0;32m<ipython-input-17-a20d6b2e6a02>\u001b[0m in \u001b[0;36m<module>\u001b[0;34m()\u001b[0m\n\u001b[1;32m      1\u001b[0m \u001b[0;31m# calculate beta\u001b[0m\u001b[0;34m\u001b[0m\u001b[0;34m\u001b[0m\u001b[0m\n\u001b[0;32m----> 2\u001b[0;31m \u001b[0mbeta\u001b[0m \u001b[0;34m=\u001b[0m \u001b[0mxtx_inv_xt\u001b[0m\u001b[0;34m.\u001b[0m\u001b[0mdot\u001b[0m\u001b[0;34m(\u001b[0m\u001b[0mpd\u001b[0m\u001b[0;34m.\u001b[0m\u001b[0mDataFrame\u001b[0m\u001b[0;34m(\u001b[0m\u001b[0mphenotype_complete\u001b[0m\u001b[0;34m)\u001b[0m\u001b[0;34m.\u001b[0m\u001b[0mtranspose\u001b[0m\u001b[0;34m(\u001b[0m\u001b[0;34m)\u001b[0m\u001b[0;34m)\u001b[0m\u001b[0;34m\u001b[0m\u001b[0m\n\u001b[0m",
      "\u001b[0;31mValueError\u001b[0m: shapes (374,88770) and (1,374) not aligned: 88770 (dim 1) != 1 (dim 0)"
     ]
    }
   ],
   "source": []
  },
  {
   "cell_type": "code",
   "execution_count": 2,
   "metadata": {},
   "outputs": [
    {
     "name": "stdout",
     "output_type": "stream",
     "text": [
      "Samples:\n",
      "['F326', 'F327', 'F329', 'F330', 'F331', 'F332', 'F333', 'F334', 'F335', 'F336', 'F337', 'F338', 'F339', 'F340', 'F341', 'F342', 'F343', 'F344', 'F345', 'F346', 'F347', 'F348', 'F349', 'F350', 'F351', 'F352', 'F353', 'F354', 'F355', 'F356', 'F357', 'F358', 'F359', 'F360', 'F361', 'F362', 'F363', 'F364', 'F365', 'F366', 'F367', 'F368', 'F369', 'F371', 'F372', 'F373', 'F374', 'F375', 'F376', 'F377', 'F378', 'F379', 'F380', 'F381', 'F382', 'F383', 'F384', 'F385', 'F386', 'F387', 'F388', 'F389', 'F390', 'F391', 'F392', 'F393', 'F394', 'F395', 'F396', 'F397', 'F398', 'F399', 'F400', 'F401', 'F402', 'F403', 'F405', 'F406', 'F407', 'F408', 'F410', 'F411', 'F412', 'F413', 'F414', 'F415', 'F416', 'F417', 'F418', 'F419', 'F420', 'F421', 'F422', 'F423', 'F424', 'F425', 'M326', 'M327', 'M328', 'M329', 'M330', 'M331', 'M332', 'M333', 'M334', 'M335', 'M336', 'M337', 'M339', 'M340', 'M341', 'M342', 'M343', 'M344', 'M345', 'M347', 'M348', 'M349', 'M350', 'M351', 'M352', 'M353', 'M354', 'M355', 'M356', 'M357', 'M358', 'M359', 'M360', 'M361', 'M362', 'M363', 'M364', 'M365', 'M366', 'M367', 'M368', 'M369', 'M370', 'M371', 'M372', 'M373', 'M374', 'M375', 'M376', 'M378', 'M379', 'M380', 'M381', 'M382', 'M383', 'M384', 'M385', 'M386', 'M387', 'M388', 'M389', 'M390', 'M391', 'M392', 'M393', 'M394', 'M395', 'M396', 'M397', 'M398', 'M399', 'M400', 'M402', 'M403', 'M405', 'M406', 'M407', 'M408', 'M409', 'M410', 'M411', 'M415', 'M416', 'M417', 'M418', 'M419', 'M420', 'M421', 'M422', 'M423', 'M424']\n"
     ]
    }
   ],
   "source": [
    "\n",
    "input_dir = \"./svenson/\"\n",
    "# import genotype\n",
    "input_geno_file = \"%s/Svenson-183_Svenson_DO-MegaMUGA_geno.csv\" % (input_dir)\n",
    "\n",
    "input_geno_df = pd.read_csv(input_geno_file, index_col = 0)\n",
    "\n",
    "geno_cols = input_geno_df.columns.tolist()\n",
    "\n",
    "# import phenotype\n",
    "input_pheno_file = \"%s/Svenson-183_Svenson_DO-MegaMUGA_pheno.csv\" % (input_dir)\n",
    "\n",
    "input_pheno_df = pd.read_csv(input_pheno_file, index_col = 0)\n",
    "\n",
    "pheno_samples = input_pheno_df.index.tolist()\n",
    "\n",
    "# generate sample list\n",
    "sample_list = [ x for x in geno_cols if x in pheno_samples ]\n",
    "\n",
    "print(\"Samples:\")\n",
    "print(sample_list)\n",
    "\n",
    "# select the genotypes for the samples \n",
    "geno_df_select = input_geno_df[sample_list]\n",
    "\n",
    "# select the phenotypes for the samples \n",
    "pheno_df_select = input_pheno_df.loc[sample_list]\n"
   ]
  },
  {
   "cell_type": "code",
   "execution_count": 3,
   "metadata": {
    "collapsed": true
   },
   "outputs": [],
   "source": []
  },
  {
   "cell_type": "code",
   "execution_count": 11,
   "metadata": {},
   "outputs": [],
   "source": []
  },
  {
   "cell_type": "code",
   "execution_count": 14,
   "metadata": {},
   "outputs": [
    {
     "ename": "ValueError",
     "evalue": "Input contains NaN, infinity or a value too large for dtype('float64').",
     "output_type": "error",
     "traceback": [
      "\u001b[0;31m---------------------------------------------------------------------------\u001b[0m",
      "\u001b[0;31mValueError\u001b[0m                                Traceback (most recent call last)",
      "\u001b[0;32m<ipython-input-14-ee39f57feba6>\u001b[0m in \u001b[0;36m<module>\u001b[0;34m()\u001b[0m\n\u001b[0;32m----> 1\u001b[0;31m \u001b[0mscaler\u001b[0m\u001b[0;34m.\u001b[0m\u001b[0mfit\u001b[0m\u001b[0;34m(\u001b[0m\u001b[0mgeno_df_select\u001b[0m\u001b[0;34m)\u001b[0m\u001b[0;34m\u001b[0m\u001b[0m\n\u001b[0m",
      "\u001b[0;32m~/anaconda3/lib/python3.6/site-packages/sklearn/preprocessing/data.py\u001b[0m in \u001b[0;36mfit\u001b[0;34m(self, X, y)\u001b[0m\n\u001b[1;32m    588\u001b[0m         \u001b[0;31m# Reset internal state before fitting\u001b[0m\u001b[0;34m\u001b[0m\u001b[0;34m\u001b[0m\u001b[0m\n\u001b[1;32m    589\u001b[0m         \u001b[0mself\u001b[0m\u001b[0;34m.\u001b[0m\u001b[0m_reset\u001b[0m\u001b[0;34m(\u001b[0m\u001b[0;34m)\u001b[0m\u001b[0;34m\u001b[0m\u001b[0m\n\u001b[0;32m--> 590\u001b[0;31m         \u001b[0;32mreturn\u001b[0m \u001b[0mself\u001b[0m\u001b[0;34m.\u001b[0m\u001b[0mpartial_fit\u001b[0m\u001b[0;34m(\u001b[0m\u001b[0mX\u001b[0m\u001b[0;34m,\u001b[0m \u001b[0my\u001b[0m\u001b[0;34m)\u001b[0m\u001b[0;34m\u001b[0m\u001b[0m\n\u001b[0m\u001b[1;32m    591\u001b[0m \u001b[0;34m\u001b[0m\u001b[0m\n\u001b[1;32m    592\u001b[0m     \u001b[0;32mdef\u001b[0m \u001b[0mpartial_fit\u001b[0m\u001b[0;34m(\u001b[0m\u001b[0mself\u001b[0m\u001b[0;34m,\u001b[0m \u001b[0mX\u001b[0m\u001b[0;34m,\u001b[0m \u001b[0my\u001b[0m\u001b[0;34m=\u001b[0m\u001b[0;32mNone\u001b[0m\u001b[0;34m)\u001b[0m\u001b[0;34m:\u001b[0m\u001b[0;34m\u001b[0m\u001b[0m\n",
      "\u001b[0;32m~/anaconda3/lib/python3.6/site-packages/sklearn/preprocessing/data.py\u001b[0m in \u001b[0;36mpartial_fit\u001b[0;34m(self, X, y)\u001b[0m\n\u001b[1;32m    610\u001b[0m         \"\"\"\n\u001b[1;32m    611\u001b[0m         X = check_array(X, accept_sparse=('csr', 'csc'), copy=self.copy,\n\u001b[0;32m--> 612\u001b[0;31m                         warn_on_dtype=True, estimator=self, dtype=FLOAT_DTYPES)\n\u001b[0m\u001b[1;32m    613\u001b[0m \u001b[0;34m\u001b[0m\u001b[0m\n\u001b[1;32m    614\u001b[0m         \u001b[0;31m# Even in the case of `with_mean=False`, we update the mean anyway\u001b[0m\u001b[0;34m\u001b[0m\u001b[0;34m\u001b[0m\u001b[0m\n",
      "\u001b[0;32m~/anaconda3/lib/python3.6/site-packages/sklearn/utils/validation.py\u001b[0m in \u001b[0;36mcheck_array\u001b[0;34m(array, accept_sparse, dtype, order, copy, force_all_finite, ensure_2d, allow_nd, ensure_min_samples, ensure_min_features, warn_on_dtype, estimator)\u001b[0m\n\u001b[1;32m    451\u001b[0m                              % (array.ndim, estimator_name))\n\u001b[1;32m    452\u001b[0m         \u001b[0;32mif\u001b[0m \u001b[0mforce_all_finite\u001b[0m\u001b[0;34m:\u001b[0m\u001b[0;34m\u001b[0m\u001b[0m\n\u001b[0;32m--> 453\u001b[0;31m             \u001b[0m_assert_all_finite\u001b[0m\u001b[0;34m(\u001b[0m\u001b[0marray\u001b[0m\u001b[0;34m)\u001b[0m\u001b[0;34m\u001b[0m\u001b[0m\n\u001b[0m\u001b[1;32m    454\u001b[0m \u001b[0;34m\u001b[0m\u001b[0m\n\u001b[1;32m    455\u001b[0m     \u001b[0mshape_repr\u001b[0m \u001b[0;34m=\u001b[0m \u001b[0m_shape_repr\u001b[0m\u001b[0;34m(\u001b[0m\u001b[0marray\u001b[0m\u001b[0;34m.\u001b[0m\u001b[0mshape\u001b[0m\u001b[0;34m)\u001b[0m\u001b[0;34m\u001b[0m\u001b[0m\n",
      "\u001b[0;32m~/anaconda3/lib/python3.6/site-packages/sklearn/utils/validation.py\u001b[0m in \u001b[0;36m_assert_all_finite\u001b[0;34m(X)\u001b[0m\n\u001b[1;32m     42\u001b[0m             and not np.isfinite(X).all()):\n\u001b[1;32m     43\u001b[0m         raise ValueError(\"Input contains NaN, infinity\"\n\u001b[0;32m---> 44\u001b[0;31m                          \" or a value too large for %r.\" % X.dtype)\n\u001b[0m\u001b[1;32m     45\u001b[0m \u001b[0;34m\u001b[0m\u001b[0m\n\u001b[1;32m     46\u001b[0m \u001b[0;34m\u001b[0m\u001b[0m\n",
      "\u001b[0;31mValueError\u001b[0m: Input contains NaN, infinity or a value too large for dtype('float64')."
     ]
    }
   ],
   "source": []
  },
  {
   "cell_type": "code",
   "execution_count": 36,
   "metadata": {},
   "outputs": [
    {
     "name": "stderr",
     "output_type": "stream",
     "text": [
      "/Users/harryyang/anaconda3/lib/python3.6/site-packages/ipykernel_launcher.py:2: RuntimeWarning: Mean of empty slice\n",
      "  \n",
      "/Users/harryyang/anaconda3/lib/python3.6/site-packages/numpy/lib/nanfunctions.py:1628: RuntimeWarning: Degrees of freedom <= 0 for slice.\n",
      "  keepdims=keepdims)\n"
     ]
    }
   ],
   "source": [
    "geno_df_select_transpose = geno_df_select.transpose()\n",
    "normalized_geno_df_select = (geno_df_select_transpose - \\\n",
    "                             np.nanmean(geno_df_select_transpose, axis=0))/np.nanstd(geno_df_select_transpose, axis=0) "
   ]
  },
  {
   "cell_type": "code",
   "execution_count": 37,
   "metadata": {},
   "outputs": [
    {
     "data": {
      "text/plain": [
       "marker\n",
       "UNC6                  -2.176037e-14\n",
       "JAX00000010           -2.731149e-14\n",
       "JAX00240603            6.028511e-14\n",
       "JAX00240610            0.000000e+00\n",
       "JAX00240613            5.639933e-14\n",
       "JAX00240636           -1.310063e-14\n",
       "JAX00240649            2.953193e-14\n",
       "JAX00000040            0.000000e+00\n",
       "UNC010515443           7.771561e-16\n",
       "UNC9371                2.498002e-14\n",
       "UNC010001943          -7.771561e-15\n",
       "UNC11461               6.883383e-15\n",
       "UNC12838              -1.354472e-14\n",
       "JAX00000089           -1.820766e-14\n",
       "UNC15185              -1.509903e-14\n",
       "UNC010515539          -3.130829e-14\n",
       "UNC16386              -4.951595e-14\n",
       "UNC010515556          -2.298162e-14\n",
       "UNC19217              -1.687539e-14\n",
       "UNC21023              -5.784262e-14\n",
       "UNC23507              -1.554312e-14\n",
       "UNC23995               5.001555e-14\n",
       "UNC24700               1.710437e-15\n",
       "UNC25932               0.000000e+00\n",
       "UNC26205              -6.661338e-15\n",
       "UNC26932              -2.975398e-14\n",
       "UNC28841               3.241851e-14\n",
       "UNC010516347           7.549517e-14\n",
       "UNC30322               7.549517e-15\n",
       "UNC34218              -7.521761e-15\n",
       "                           ...     \n",
       "mCherry001             0.000000e+00\n",
       "mCherry002             0.000000e+00\n",
       "neo001                 0.000000e+00\n",
       "neo002                 0.000000e+00\n",
       "NNT001                -1.731948e-14\n",
       "NNT002                -1.643130e-14\n",
       "PuromJAX001            0.000000e+00\n",
       "PuromJAX002            0.000000e+00\n",
       "rabbbglobpA001         0.000000e+00\n",
       "rabbbglobpA002         0.000000e+00\n",
       "rtTA2SM2002            0.000000e+00\n",
       "SAbGeoEUCOMM001       -1.829092e-14\n",
       "SAbGeoEUCOMM002        0.000000e+00\n",
       "SABgeolox2DTAJAX001   -1.690870e-13\n",
       "SABgeolox2DTAJAX002    0.000000e+00\n",
       "SV40JAX001             0.000000e+00\n",
       "SV40PATer001           0.000000e+00\n",
       "SV40PATer003           4.440892e-16\n",
       "tdTomato001            0.000000e+00\n",
       "tdTomato002            0.000000e+00\n",
       "tdTomatoJAX001         0.000000e+00\n",
       "TetOJAX001             0.000000e+00\n",
       "TetOJAX002             0.000000e+00\n",
       "TetOJAX003             0.000000e+00\n",
       "TK001                  0.000000e+00\n",
       "TK004                  0.000000e+00\n",
       "tTA001                 0.000000e+00\n",
       "tTA002                 0.000000e+00\n",
       "Ub001                  0.000000e+00\n",
       "Ub002                  0.000000e+00\n",
       "Length: 77725, dtype: float64"
      ]
     },
     "execution_count": 37,
     "metadata": {},
     "output_type": "execute_result"
    }
   ],
   "source": [
    "normalized_geno_df_select.sum(axis = 0)"
   ]
  },
  {
   "cell_type": "code",
   "execution_count": 34,
   "metadata": {},
   "outputs": [],
   "source": [
    "# drop missing genotype columns \n",
    "select_markers = normalized_geno_df_select.columns[normalized_geno_df_select.count() > 0]\n",
    "\n",
    "geno_df_filtered = normalized_geno_df_select[select_markers].transpose()"
   ]
  },
  {
   "cell_type": "code",
   "execution_count": 35,
   "metadata": {},
   "outputs": [
    {
     "name": "stdout",
     "output_type": "stream",
     "text": [
      "(187, 77725) (72903, 187)\n"
     ]
    }
   ],
   "source": []
  },
  {
   "cell_type": "code",
   "execution_count": null,
   "metadata": {
    "collapsed": true
   },
   "outputs": [],
   "source": []
  }
 ],
 "metadata": {
  "kernelspec": {
   "display_name": "Python 3",
   "language": "python",
   "name": "python3"
  },
  "language_info": {
   "codemirror_mode": {
    "name": "ipython",
    "version": 3
   },
   "file_extension": ".py",
   "mimetype": "text/x-python",
   "name": "python",
   "nbconvert_exporter": "python",
   "pygments_lexer": "ipython3",
   "version": "3.6.4"
  }
 },
 "nbformat": 4,
 "nbformat_minor": 2
}
