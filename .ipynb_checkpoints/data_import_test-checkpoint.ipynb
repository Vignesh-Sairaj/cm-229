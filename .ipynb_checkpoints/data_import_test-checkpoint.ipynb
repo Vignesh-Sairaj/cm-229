{
 "cells": [
  {
   "cell_type": "code",
   "execution_count": 3,
   "metadata": {
    "collapsed": true
   },
   "outputs": [],
   "source": [
    "import sys\n",
    "import os \n",
    "import pandas as pd"
   ]
  },
  {
   "cell_type": "code",
   "execution_count": 4,
   "metadata": {
    "collapsed": true
   },
   "outputs": [],
   "source": [
    "input_dir = \"./DO_Islets/\"\n",
    "\n",
    "# import genotype\n",
    "input_geno_file = \"%s/Attie-232_Attie_DO_Islets-GigaMUGA_geno.csv\" % (input_dir)\n",
    "\n",
    "input_geno_df = pd.read_csv(input_geno_file, index_col = 0)\n",
    "\n",
    "geno_cols = input_geno_df.columns.tolist()\n",
    "\n",
    "# import phenotype\n",
    "input_pheno_file = \"%s/Attie-232_Attie_DO_Islets-GigaMUGA_pheno.csv\" % (input_dir)\n",
    "\n",
    "input_pheno_df = pd.read_csv(input_pheno_file, index_col = 0)\n",
    "\n",
    "pheno_samples = input_pheno_df.index.tolist()\n"
   ]
  },
  {
   "cell_type": "code",
   "execution_count": 6,
   "metadata": {},
   "outputs": [],
   "source": [
    "# generate sample list\n",
    "sample_list = [ x for x in geno_cols if x in pheno_samples ]"
   ]
  },
  {
   "cell_type": "code",
   "execution_count": 7,
   "metadata": {},
   "outputs": [
    {
     "name": "stdout",
     "output_type": "stream",
     "text": [
      "['DO021', 'DO121', 'DO122', 'DO123', 'DO124', 'DO125', 'DO126', 'DO128', 'DO129', 'DO130', 'DO131', 'DO132', 'DO133', 'DO134', 'DO136', 'DO137', 'DO138', 'DO139', 'DO140', 'DO141', 'DO142', 'DO143', 'DO144', 'DO145', 'DO146', 'DO147', 'DO148', 'DO149', 'DO150', 'DO151', 'DO152', 'DO153', 'DO154', 'DO155', 'DO156', 'DO157', 'DO158', 'DO159', 'DO160', 'DO161', 'DO162', 'DO163', 'DO164', 'DO165', 'DO166', 'DO167', 'DO168', 'DO169', 'DO170', 'DO171', 'DO172', 'DO173', 'DO174', 'DO175', 'DO176', 'DO177', 'DO178', 'DO179', 'DO180', 'DO181', 'DO182', 'DO183', 'DO184', 'DO185', 'DO186', 'DO187', 'DO188', 'DO189', 'DO190', 'DO191', 'DO192', 'DO193', 'DO194', 'DO195', 'DO196', 'DO197', 'DO198', 'DO199', 'DO200', 'DO201', 'DO202', 'DO203', 'DO204', 'DO205', 'DO206', 'DO207', 'DO208', 'DO209', 'DO210', 'DO211', 'DO212', 'DO213', 'DO214', 'DO215', 'DO216', 'DO217', 'DO218', 'DO219', 'DO220', 'DO221', 'DO223', 'DO224', 'DO225', 'DO226', 'DO227', 'DO228', 'DO229', 'DO230', 'DO231', 'DO232', 'DO233', 'DO234', 'DO235', 'DO236', 'DO238', 'DO239', 'DO240', 'DO241', 'DO242', 'DO243', 'DO244', 'DO245', 'DO246', 'DO247', 'DO248', 'DO249', 'DO250', 'DO251', 'DO252', 'DO253', 'DO254', 'DO255', 'DO256', 'DO257', 'DO258', 'DO259', 'DO260', 'DO261', 'DO262', 'DO263', 'DO264', 'DO265', 'DO266', 'DO267', 'DO268', 'DO269', 'DO270', 'DO271', 'DO272', 'DO273', 'DO275', 'DO276', 'DO277', 'DO278', 'DO279', 'DO280', 'DO281', 'DO282', 'DO283', 'DO284', 'DO285', 'DO286', 'DO287', 'DO288', 'DO289', 'DO290', 'DO291', 'DO292', 'DO293', 'DO294', 'DO295', 'DO296', 'DO297', 'DO298', 'DO299', 'DO300', 'DO301', 'DO302', 'DO303', 'DO304', 'DO305', 'DO307', 'DO310', 'DO311', 'DO312', 'DO313', 'DO314', 'DO315', 'DO317', 'DO318', 'DO319', 'DO320', 'DO321', 'DO322', 'DO323', 'DO324', 'DO325', 'DO326', 'DO327', 'DO328', 'DO329', 'DO330', 'DO331', 'DO333', 'DO334', 'DO335', 'DO336', 'DO337', 'DO338', 'DO339', 'DO341', 'DO342', 'DO343', 'DO344', 'DO346', 'DO347', 'DO348', 'DO349', 'DO350', 'DO351', 'DO352', 'DO353', 'DO354', 'DO355', 'DO356', 'DO358', 'DO359', 'DO360', 'DO361', 'DO362', 'DO363', 'DO364', 'DO365', 'DO366', 'DO367', 'DO369', 'DO370', 'DO371', 'DO372', 'DO373', 'DO374', 'DO375', 'DO376', 'DO377', 'DO378', 'DO379', 'DO380', 'DO381', 'DO382', 'DO383', 'DO384', 'DO385', 'DO386', 'DO387', 'DO388', 'DO389', 'DO390', 'DO391', 'DO392', 'DO393', 'DO394', 'DO395', 'DO396', 'DO398', 'DO399', 'DO400', 'DO401', 'DO404', 'DO405', 'DO406', 'DO407', 'DO408', 'DO409', 'DO410', 'DO411', 'DO412', 'DO413', 'DO414', 'DO415', 'DO416', 'DO417', 'DO418', 'DO419', 'DO420', 'DO461', 'DO462', 'DO463', 'DO464', 'DO465', 'DO466', 'DO467', 'DO468', 'DO469', 'DO470', 'DO471', 'DO472', 'DO473', 'DO474', 'DO475', 'DO476', 'DO477', 'DO478', 'DO479', 'DO480', 'DO481', 'DO482', 'DO483', 'DO484', 'DO485', 'DO486', 'DO487', 'DO488', 'DO489', 'DO490', 'DO491', 'DO492', 'DO493', 'DO494', 'DO495', 'DO496', 'DO497', 'DO498', 'DO499', 'DO500', 'DO501', 'DO502', 'DO503', 'DO504', 'DO505', 'DO506', 'DO507', 'DO508', 'DO509', 'DO510', 'DO511', 'DO512', 'DO513', 'DO514', 'DO515', 'DO516', 'DO517', 'DO518', 'DO519', 'DO520', 'DO521', 'DO522', 'DO523', 'DO524', 'DO525', 'DO526', 'DO527', 'DO528', 'DO529', 'DO530', 'DO531', 'DO532', 'DO533', 'DO534', 'DO535', 'DO536', 'DO537', 'DO538', 'DO539', 'DO540', 'DO541', 'DO542', 'DO543', 'DO544', 'DO545', 'DO546', 'DO547', 'DO548', 'DO549', 'DO550', 'DO551', 'DO552', 'DO553', 'DO554', 'DO555', 'DO556', 'DO557', 'DO558', 'DO559', 'DO560']\n"
     ]
    }
   ],
   "source": [
    "print(sample_list)"
   ]
  },
  {
   "cell_type": "code",
   "execution_count": 8,
   "metadata": {
    "collapsed": true
   },
   "outputs": [],
   "source": [
    "# select the genotypes for the samples \n",
    "geno_df_select = input_geno_df[sample_list]"
   ]
  },
  {
   "cell_type": "code",
   "execution_count": 12,
   "metadata": {},
   "outputs": [],
   "source": [
    "# select the phenotypes for the samples \n",
    "pheno_df_select = input_pheno_df.loc[sample_list]"
   ]
  },
  {
   "cell_type": "code",
   "execution_count": 14,
   "metadata": {},
   "outputs": [
    {
     "name": "stdout",
     "output_type": "stream",
     "text": [
      "(384, 155)\n",
      "(143101, 384)\n"
     ]
    }
   ],
   "source": [
    "# check the dimensions\n",
    "print(pheno_df_select.shape)\n",
    "print(geno_df_select.shape)"
   ]
  },
  {
   "cell_type": "code",
   "execution_count": 20,
   "metadata": {},
   "outputs": [],
   "source": [
    "### GENOTYPE BASELINE MODEL TEST ### \n",
    "# select a phenotype for genotype baseline model \n",
    "# we are going to use num_islets as the test phenotype for baseline model\n",
    "phenotype = pheno_df_select[\"num_islets\"]\n"
   ]
  },
  {
   "cell_type": "code",
   "execution_count": 34,
   "metadata": {},
   "outputs": [
    {
     "name": "stdout",
     "output_type": "stream",
     "text": [
      "These samples are missing phenotypes:\n",
      "['DO134', 'DO136', 'DO139', 'DO198', 'DO334', 'DO341', 'DO351', 'DO418', 'DO419', 'DO509']\n"
     ]
    }
   ],
   "source": [
    "# ID samples with missing phenotype\n",
    "samples_with_missing_pheno = phenotype[phenotype < 0].index.tolist()\n",
    "\n",
    "print(\"These samples are missing phenotypes:\")\n",
    "print(samples_with_missing_pheno)\n",
    "\n",
    "# select samples with known phenotypes\n",
    "phenotype_complete = phenotype[~phenotype.index.isin(samples_with_missing_pheno)]\n",
    "\n",
    "# save the complete_sample_list for identifying matching genotype\n",
    "complete_sample_list = phenotype_complete.index.tolist()"
   ]
  },
  {
   "cell_type": "code",
   "execution_count": 44,
   "metadata": {},
   "outputs": [
    {
     "name": "stdout",
     "output_type": "stream",
     "text": [
      "(143101, 374)\n",
      "(88770, 374)\n"
     ]
    }
   ],
   "source": [
    "# select genotype\n",
    "genotype_complete = geno_df_select[complete_sample_list]\n",
    "\n",
    "print(genotype_complete.shape)\n",
    "\n",
    "# clean snps with missing geno \n",
    "genotype_complete_dropNA = genotype_complete.dropna()\n",
    "\n",
    "print(genotype_complete_dropNA.shape)\n",
    "\n",
    "# import the linear model module \n",
    "import statsmodels.api as sm "
   ]
  },
  {
   "cell_type": "code",
   "execution_count": null,
   "metadata": {},
   "outputs": [],
   "source": [
    "# run the linear model \n",
    "model = sm.OLS(phenotype_complete, genotype_complete_dropNA.transpose()).fit()"
   ]
  },
  {
   "cell_type": "code",
   "execution_count": null,
   "metadata": {
    "collapsed": true
   },
   "outputs": [],
   "source": [
    "models.summary()"
   ]
  }
 ],
 "metadata": {
  "kernelspec": {
   "display_name": "Python 3",
   "language": "python",
   "name": "python3"
  },
  "language_info": {
   "codemirror_mode": {
    "name": "ipython",
    "version": 3
   },
   "file_extension": ".py",
   "mimetype": "text/x-python",
   "name": "python",
   "nbconvert_exporter": "python",
   "pygments_lexer": "ipython3",
   "version": "3.6.4"
  }
 },
 "nbformat": 4,
 "nbformat_minor": 2
}
