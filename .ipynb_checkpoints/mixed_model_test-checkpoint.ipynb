{
 "cells": [
  {
   "cell_type": "code",
   "execution_count": 1,
   "metadata": {},
   "outputs": [
    {
     "name": "stdout",
     "output_type": "stream",
     "text": [
      "Samples:\n",
      "['F326', 'F327', 'F329', 'F330', 'F331', 'F332', 'F333', 'F334', 'F335', 'F336', 'F337', 'F338', 'F339', 'F340', 'F341', 'F342', 'F343', 'F344', 'F345', 'F346', 'F347', 'F348', 'F349', 'F350', 'F351', 'F352', 'F353', 'F354', 'F355', 'F356', 'F357', 'F358', 'F359', 'F360', 'F361', 'F362', 'F363', 'F364', 'F365', 'F366', 'F367', 'F368', 'F369', 'F371', 'F372', 'F373', 'F374', 'F375', 'F376', 'F377', 'F378', 'F379', 'F380', 'F381', 'F382', 'F383', 'F384', 'F385', 'F386', 'F387', 'F388', 'F389', 'F390', 'F391', 'F392', 'F393', 'F394', 'F395', 'F396', 'F397', 'F398', 'F399', 'F400', 'F401', 'F402', 'F403', 'F405', 'F406', 'F407', 'F408', 'F410', 'F411', 'F412', 'F413', 'F414', 'F415', 'F416', 'F417', 'F418', 'F419', 'F420', 'F421', 'F422', 'F423', 'F424', 'F425', 'M326', 'M327', 'M328', 'M329', 'M330', 'M331', 'M332', 'M333', 'M334', 'M335', 'M336', 'M337', 'M339', 'M340', 'M341', 'M342', 'M343', 'M344', 'M345', 'M347', 'M348', 'M349', 'M350', 'M351', 'M352', 'M353', 'M354', 'M355', 'M356', 'M357', 'M358', 'M359', 'M360', 'M361', 'M362', 'M363', 'M364', 'M365', 'M366', 'M367', 'M368', 'M369', 'M370', 'M371', 'M372', 'M373', 'M374', 'M375', 'M376', 'M378', 'M379', 'M380', 'M381', 'M382', 'M383', 'M384', 'M385', 'M386', 'M387', 'M388', 'M389', 'M390', 'M391', 'M392', 'M393', 'M394', 'M395', 'M396', 'M397', 'M398', 'M399', 'M400', 'M402', 'M403', 'M405', 'M406', 'M407', 'M408', 'M409', 'M410', 'M411', 'M415', 'M416', 'M417', 'M418', 'M419', 'M420', 'M421', 'M422', 'M423', 'M424']\n"
     ]
    },
    {
     "name": "stderr",
     "output_type": "stream",
     "text": [
      "/Users/harryyang/Documents/Research/Class/CS229/cm-229/data_import.py:73: RuntimeWarning: Mean of empty slice\n",
      "  np.nanmean(geno_df_select_transpose, axis=0))/np.nanstd(geno_df_select_transpose, axis=0)\n",
      "/Users/harryyang/anaconda3/lib/python3.6/site-packages/numpy/lib/nanfunctions.py:1628: RuntimeWarning: Degrees of freedom <= 0 for slice.\n",
      "  keepdims=keepdims)\n"
     ]
    }
   ],
   "source": [
    "import os\n",
    "import sys\n",
    "import pandas as pd \n",
    "import numpy as np\n",
    "from data_import import *\n",
    "from phenotype_correlation import *\n",
    "from genotype_correlation import *\n",
    "from baseline_mixed_model import *\n",
    "import statsmodels.api as sm\n",
    "\n",
    "# import data\n",
    "geno_df, pheno_df = import_data_svenson()"
   ]
  },
  {
   "cell_type": "code",
   "execution_count": 2,
   "metadata": {
    "collapsed": true
   },
   "outputs": [],
   "source": [
    "# testing with ghrelin and leptin \n",
    "phenotype_1 = \"weight1\"\n",
    "phenotype_2 = \"length1\"\n",
    "phenotype_3 = \"fat_mri\"\n",
    "missing_rate = 0.1\n",
    "verbose = True\n",
    "sample_list = list()"
   ]
  },
  {
   "cell_type": "code",
   "execution_count": 3,
   "metadata": {},
   "outputs": [
    {
     "name": "stdout",
     "output_type": "stream",
     "text": [
      "The correlation between weight1 and length1 is 0.819920\n",
      "These samples are missing phenotypes:\n",
      "[]\n",
      "(72903, 187)\n",
      "(4887, 187)\n",
      "(187, 2)\n"
     ]
    }
   ],
   "source": [
    "corr_mat = calculate_highly_correlated_phenotypes(pheno_df)\n",
    "\n",
    "print(\"The correlation between %s and %s is %f\" % (phenotype_1, phenotype_2, corr_mat[phenotype_1][phenotype_2]))\n",
    "\n",
    "# bind phenotype into list to extract\n",
    "phenotype_list = [phenotype_1, phenotype_2]\n",
    "\n",
    "# extract the phenotypes \n",
    "geno_select, pheno_select = select_phenotype_multiple_phenotypes(geno_df, pheno_df, phenotype_list = phenotype_list, verbose = verbose)\n",
    "\n",
    "# separate training and test dataset \n",
    "geno_tr, pheno_tr, geno_test, pheno_test, test_sample_list = separate_training_test(geno_select, pheno_select, missing_rate = missing_rate, sample_list_select = sample_list)"
   ]
  },
  {
   "cell_type": "code",
   "execution_count": 4,
   "metadata": {},
   "outputs": [
    {
     "name": "stdout",
     "output_type": "stream",
     "text": [
      "[ 0.09514648 -0.00074428 -0.02488227 ...  0.11081208  0.0719824\n",
      "  0.04683595]\n"
     ]
    }
   ],
   "source": [
    "# perform simple ridge to identify the top SNPs \n",
    "lm_re = sm.OLS(endog = pheno_tr[phenotype_2], exog = geno_tr.transpose()).fit_regularized(L1_wt = 0.0)\n",
    "\n",
    "if verbose: \n",
    "    print(lm_re.params)"
   ]
  },
  {
   "cell_type": "code",
   "execution_count": 16,
   "metadata": {},
   "outputs": [
    {
     "name": "stderr",
     "output_type": "stream",
     "text": [
      "/Users/harryyang/anaconda3/lib/python3.6/site-packages/ipykernel_launcher.py:7: DeprecationWarning: \n",
      ".ix is deprecated. Please use\n",
      ".loc for label based indexing or\n",
      ".iloc for positional indexing\n",
      "\n",
      "See the documentation here:\n",
      "http://pandas.pydata.org/pandas-docs/stable/indexing.html#ix-indexer-is-deprecated\n",
      "  import sys\n"
     ]
    },
    {
     "data": {
      "text/plain": [
       "Index(['UNC20942273', 'UNC4491461', 'UNC6433748', 'UNC18935310', 'UNC11278005',\n",
       "       'JAX00210060', 'UNC4580750', 'UNC7759117', 'JAX00320904',\n",
       "       'JAX00388930'],\n",
       "      dtype='object', name='marker')"
      ]
     },
     "execution_count": 16,
     "metadata": {},
     "output_type": "execute_result"
    }
   ],
   "source": [
    "# select those genotypes only for select run\n",
    "top_N = 10\n",
    "top_N_idx = np.argsort(abs(lm_re.params))[-top_N:]\n",
    "\n",
    "top_N_values = [lm_re.params[i] for i in top_N_idx]\n",
    "\n",
    "top_N_snps = geno_tr.ix[top_N_idx].index\n",
    "top_N_snps"
   ]
  },
  {
   "cell_type": "code",
   "execution_count": 17,
   "metadata": {},
   "outputs": [
    {
     "name": "stdout",
     "output_type": "stream",
     "text": [
      "The linear model summary for predicting phenotype 'length1' based on phenotype 'weight1'\n",
      "                            OLS Regression Results                            \n",
      "==============================================================================\n",
      "Dep. Variable:                length1   R-squared:                       0.971\n",
      "Model:                            OLS   Adj. R-squared:                  0.971\n",
      "Method:                 Least Squares   F-statistic:                     5652.\n",
      "Date:                Thu, 13 Jun 2019   Prob (F-statistic):          2.92e-131\n",
      "Time:                        09:37:41   Log-Likelihood:                -308.13\n",
      "No. Observations:                 169   AIC:                             618.3\n",
      "Df Residuals:                     168   BIC:                             621.4\n",
      "Df Model:                           1                                         \n",
      "Covariance Type:            nonrobust                                         \n",
      "==============================================================================\n",
      "                 coef    std err          t      P>|t|      [0.025      0.975]\n",
      "------------------------------------------------------------------------------\n",
      "weight1        0.2896      0.004     75.182      0.000       0.282       0.297\n",
      "==============================================================================\n",
      "Omnibus:                        7.768   Durbin-Watson:                   1.044\n",
      "Prob(Omnibus):                  0.021   Jarque-Bera (JB):                8.158\n",
      "Skew:                          -0.528   Prob(JB):                       0.0169\n",
      "Kurtosis:                       2.796   Cond. No.                         1.00\n",
      "==============================================================================\n",
      "\n",
      "Warnings:\n",
      "[1] Standard Errors assume that the covariance matrix of the errors is correctly specified.\n",
      "weight1    0.289591\n",
      "dtype: float64\n"
     ]
    }
   ],
   "source": [
    "# perform OLS \n",
    "lm = sm.OLS(endog = pheno_tr[phenotype_2], exog = pheno_tr[phenotype_1]).fit()\n",
    "\n",
    "if verbose:\t\n",
    "    print(\"The linear model summary for predicting phenotype %a based on phenotype %a\" % (phenotype_2, phenotype_1))\n",
    "    print(lm.summary())\t\n",
    "    print(lm.params)\t\n",
    "\n",
    "# prediction for fixed effect\n",
    "predictions_fe = lm.predict(pheno_test[phenotype_1])"
   ]
  },
  {
   "cell_type": "code",
   "execution_count": 21,
   "metadata": {},
   "outputs": [
    {
     "name": "stdout",
     "output_type": "stream",
     "text": [
      "[ 0.05886452 -0.00378619  0.13042906 -0.06803613 -0.02835872  0.02045389\n",
      "  0.06397675  0.05928568 -0.00155791 -0.27732242]\n"
     ]
    }
   ],
   "source": [
    "# perform ridge regression on the residual (random effect part)\n",
    "residuals = pheno_tr[phenotype_2] - lm.predict(pheno_tr[phenotype_1])\n",
    "\n",
    "lm_re = sm.OLS(endog = residuals, exog = geno_tr.loc[top_N_snps].transpose()).fit_regularized(L1_wt = 0.0)\n",
    "\n",
    "if verbose: \n",
    "    print(lm_re.params)\n",
    "\n",
    "predictions_re = lm_re.predict(geno_test.loc[top_N_snps].transpose())\n"
   ]
  },
  {
   "cell_type": "code",
   "execution_count": 22,
   "metadata": {},
   "outputs": [],
   "source": [
    "# combine the result from both\n",
    "total_prediction = predictions_fe + predictions_re\n",
    "\n",
    "mse = calculate_MSE(total_prediction, pheno_test[phenotype_2])\n",
    "\n",
    "#return(mse, test_sample_list)"
   ]
  },
  {
   "cell_type": "markdown",
   "metadata": {},
   "source": [
    "lmm"
   ]
  }
 ],
 "metadata": {
  "kernelspec": {
   "display_name": "Python 3",
   "language": "python",
   "name": "python3"
  },
  "language_info": {
   "codemirror_mode": {
    "name": "ipython",
    "version": 3
   },
   "file_extension": ".py",
   "mimetype": "text/x-python",
   "name": "python",
   "nbconvert_exporter": "python",
   "pygments_lexer": "ipython3",
   "version": "3.6.4"
  }
 },
 "nbformat": 4,
 "nbformat_minor": 2
}
