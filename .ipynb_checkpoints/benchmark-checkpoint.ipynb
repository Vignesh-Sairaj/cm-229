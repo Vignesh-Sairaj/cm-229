{
 "cells": [
  {
   "cell_type": "code",
   "execution_count": 1,
   "metadata": {},
   "outputs": [],
   "source": [
    "import os\n",
    "import sys\n",
    "import pandas as pd \n",
    "import numpy as np\n",
    "from data_import import *\n",
    "from phenotype_correlation import *\n",
    "from genotype_correlation import *\n",
    "from baseline_mixed_model import *"
   ]
  },
  {
   "cell_type": "code",
   "execution_count": 2,
   "metadata": {},
   "outputs": [
    {
     "name": "stdout",
     "output_type": "stream",
     "text": [
      "Samples:\n",
      "['F326', 'F327', 'F329', 'F330', 'F331', 'F332', 'F333', 'F334', 'F335', 'F336', 'F337', 'F338', 'F339', 'F340', 'F341', 'F342', 'F343', 'F344', 'F345', 'F346', 'F347', 'F348', 'F349', 'F350', 'F351', 'F352', 'F353', 'F354', 'F355', 'F356', 'F357', 'F358', 'F359', 'F360', 'F361', 'F362', 'F363', 'F364', 'F365', 'F366', 'F367', 'F368', 'F369', 'F371', 'F372', 'F373', 'F374', 'F375', 'F376', 'F377', 'F378', 'F379', 'F380', 'F381', 'F382', 'F383', 'F384', 'F385', 'F386', 'F387', 'F388', 'F389', 'F390', 'F391', 'F392', 'F393', 'F394', 'F395', 'F396', 'F397', 'F398', 'F399', 'F400', 'F401', 'F402', 'F403', 'F405', 'F406', 'F407', 'F408', 'F410', 'F411', 'F412', 'F413', 'F414', 'F415', 'F416', 'F417', 'F418', 'F419', 'F420', 'F421', 'F422', 'F423', 'F424', 'F425', 'M326', 'M327', 'M328', 'M329', 'M330', 'M331', 'M332', 'M333', 'M334', 'M335', 'M336', 'M337', 'M339', 'M340', 'M341', 'M342', 'M343', 'M344', 'M345', 'M347', 'M348', 'M349', 'M350', 'M351', 'M352', 'M353', 'M354', 'M355', 'M356', 'M357', 'M358', 'M359', 'M360', 'M361', 'M362', 'M363', 'M364', 'M365', 'M366', 'M367', 'M368', 'M369', 'M370', 'M371', 'M372', 'M373', 'M374', 'M375', 'M376', 'M378', 'M379', 'M380', 'M381', 'M382', 'M383', 'M384', 'M385', 'M386', 'M387', 'M388', 'M389', 'M390', 'M391', 'M392', 'M393', 'M394', 'M395', 'M396', 'M397', 'M398', 'M399', 'M400', 'M402', 'M403', 'M405', 'M406', 'M407', 'M408', 'M409', 'M410', 'M411', 'M415', 'M416', 'M417', 'M418', 'M419', 'M420', 'M421', 'M422', 'M423', 'M424']\n"
     ]
    }
   ],
   "source": [
    "# import data\n",
    "geno_df, pheno_df = import_data_svenson()"
   ]
  },
  {
   "cell_type": "code",
   "execution_count": 3,
   "metadata": {},
   "outputs": [],
   "source": [
    "# find high correlation phenotype pairs \n",
    "high_corr_mat = calculate_highly_correlated_phenotypes(pheno_df)"
   ]
  },
  {
   "cell_type": "code",
   "execution_count": 4,
   "metadata": {},
   "outputs": [],
   "source": [
    "# testing with ghrelin and leptin \n",
    "phenotype_1 = \"weight1\"\n",
    "phenotype_2 = \"length1\"\n",
    "missing_rate = 0.1"
   ]
  },
  {
   "cell_type": "code",
   "execution_count": 5,
   "metadata": {},
   "outputs": [
    {
     "name": "stdout",
     "output_type": "stream",
     "text": [
      "The correlation between length1 and weight1 is 0.819920\n",
      "These samples are missing phenotypes:\n",
      "[]\n",
      "(77725, 187)\n",
      "(5145, 187)\n",
      "(187, 2)\n",
      "XXXXX\n",
      "0\n",
      "        length1  weight1\n",
      "sample                  \n",
      "F326        8.2    22.05\n",
      "F327        8.1    23.90\n",
      "F329        8.5    23.50\n",
      "F330        9.0    25.10\n",
      "F331        8.5    23.72\n",
      "F332        8.0    19.10\n",
      "F334        8.3    24.96\n",
      "F336        8.4    25.08\n",
      "F337        8.5    26.57\n",
      "F338        8.9    32.82\n",
      "F339        8.8    27.51\n",
      "F340        9.1    31.66\n",
      "F342        8.2    24.32\n",
      "F343        8.8    27.89\n",
      "F344        9.1    28.86\n",
      "F345        8.5    24.20\n",
      "F346        8.2    18.40\n",
      "F347        8.5    27.21\n",
      "F348        8.2    19.06\n",
      "F349        8.9    27.73\n",
      "F350        8.5    24.36\n",
      "F351        9.0    29.91\n",
      "F352        8.5    28.22\n",
      "F353        9.1    21.81\n",
      "F354        7.8    19.55\n",
      "F355        8.8    32.51\n",
      "F356        8.3    29.06\n",
      "F357        8.2    24.66\n",
      "F358        8.2    22.51\n",
      "F359        9.0    34.86\n",
      "...         ...      ...\n",
      "M389        9.8    42.23\n",
      "M390        9.1    31.32\n",
      "M391        9.0    29.04\n",
      "M392        9.0    34.76\n",
      "M393        8.6    29.56\n",
      "M394        9.3    34.29\n",
      "M395        9.0    31.06\n",
      "M396        8.6    28.05\n",
      "M397        9.5    32.58\n",
      "M398        8.9    25.80\n",
      "M399        8.2    23.33\n",
      "M400        9.8    31.01\n",
      "M402        9.5    36.94\n",
      "M403        9.2    39.27\n",
      "M405        9.4    40.36\n",
      "M406        9.5    38.40\n",
      "M407        8.1    24.83\n",
      "M408        9.1    38.92\n",
      "M409        9.1    34.51\n",
      "M410        9.0    29.93\n",
      "M411        8.7    27.03\n",
      "M415        9.1    32.68\n",
      "M416        8.2    21.13\n",
      "M418        9.1    30.18\n",
      "M419        9.3    35.63\n",
      "M420        9.1    31.31\n",
      "M421        9.2    36.09\n",
      "M422        8.3    24.54\n",
      "M423        9.2    32.89\n",
      "M424        9.4    34.65\n",
      "\n",
      "[172 rows x 2 columns]\n",
      "The linear model summary for predicting phenotype 'weight1' based on phenotype 'length1'\n",
      "                            OLS Regression Results                            \n",
      "==============================================================================\n",
      "Dep. Variable:                weight1   R-squared:                       0.973\n",
      "Model:                            OLS   Adj. R-squared:                  0.972\n",
      "Method:                 Least Squares   F-statistic:                     6066.\n",
      "Date:                Tue, 11 Jun 2019   Prob (F-statistic):          1.74e-135\n",
      "Time:                        18:42:49   Log-Likelihood:                -520.79\n",
      "No. Observations:                 172   AIC:                             1044.\n",
      "Df Residuals:                     171   BIC:                             1047.\n",
      "Df Model:                           1                                         \n",
      "Covariance Type:            nonrobust                                         \n",
      "==============================================================================\n",
      "                 coef    std err          t      P>|t|      [0.025      0.975]\n",
      "------------------------------------------------------------------------------\n",
      "length1        3.3708      0.043     77.885      0.000       3.285       3.456\n",
      "==============================================================================\n",
      "Omnibus:                        8.103   Durbin-Watson:                   1.122\n",
      "Prob(Omnibus):                  0.017   Jarque-Bera (JB):                8.537\n",
      "Skew:                           0.535   Prob(JB):                       0.0140\n",
      "Kurtosis:                       2.789   Cond. No.                         1.00\n",
      "==============================================================================\n",
      "\n",
      "Warnings:\n",
      "[1] Standard Errors assume that the covariance matrix of the errors is correctly specified.\n"
     ]
    }
   ],
   "source": [
    "mse, test_sample_list = phenotype_correlation_analysis(geno_df, pheno_df, phenotype_2, phenotype_1, missing_rate = missing_rate)"
   ]
  },
  {
   "cell_type": "code",
   "execution_count": 6,
   "metadata": {},
   "outputs": [
    {
     "name": "stdout",
     "output_type": "stream",
     "text": [
      "34.21978168222488\n",
      "['M333' 'F341' 'F422' 'F333' 'M379' 'M387' 'F335' 'F414' 'F416' 'M327'\n",
      " 'M383' 'M385' 'M365' 'F408' 'M417' 'M385' 'F341' 'M327']\n"
     ]
    }
   ],
   "source": [
    "print(mse)\n",
    "print(test_sample_list)"
   ]
  },
  {
   "cell_type": "code",
   "execution_count": 9,
   "metadata": {},
   "outputs": [
    {
     "ename": "NameError",
     "evalue": "name 'reload' is not defined",
     "output_type": "error",
     "traceback": [
      "\u001b[0;31m---------------------------------------------------------------------------\u001b[0m",
      "\u001b[0;31mNameError\u001b[0m                                 Traceback (most recent call last)",
      "\u001b[0;32m<ipython-input-9-474870afd13e>\u001b[0m in \u001b[0;36m<module>\u001b[0;34m()\u001b[0m\n\u001b[0;32m----> 1\u001b[0;31m \u001b[0mreload\u001b[0m\u001b[0;34m(\u001b[0m\u001b[0mgenotype_correlation\u001b[0m\u001b[0;34m.\u001b[0m\u001b[0mgenotype_correlation_analysis\u001b[0m\u001b[0;34m)\u001b[0m\u001b[0;34m\u001b[0m\u001b[0m\n\u001b[0m\u001b[1;32m      2\u001b[0m \u001b[0;31m# correlation with genotype\u001b[0m\u001b[0;34m\u001b[0m\u001b[0;34m\u001b[0m\u001b[0m\n\u001b[1;32m      3\u001b[0m \u001b[0mgenotype_mse\u001b[0m \u001b[0;34m=\u001b[0m \u001b[0mgenotype_correlation_analysis\u001b[0m\u001b[0;34m(\u001b[0m\u001b[0mgeno_df\u001b[0m\u001b[0;34m,\u001b[0m \u001b[0mpheno_df\u001b[0m\u001b[0;34m,\u001b[0m \u001b[0mphenotype_1\u001b[0m\u001b[0;34m,\u001b[0m \u001b[0mmissing_rate\u001b[0m \u001b[0;34m=\u001b[0m \u001b[0mmissing_rate\u001b[0m\u001b[0;34m,\u001b[0m \u001b[0msample_list\u001b[0m \u001b[0;34m=\u001b[0m \u001b[0mtest_sample_list\u001b[0m\u001b[0;34m)\u001b[0m\u001b[0;34m\u001b[0m\u001b[0m\n",
      "\u001b[0;31mNameError\u001b[0m: name 'reload' is not defined"
     ]
    }
   ],
   "source": [
    "reload(genotype_correlation.genotype_correlation_analysis)\n",
    "# correlation with genotype \n",
    "genotype_mse = genotype_correlation_analysis(geno_df, pheno_df, phenotype_1, missing_rate = missing_rate, sample_list = test_sample_list)"
   ]
  },
  {
   "cell_type": "code",
   "execution_count": null,
   "metadata": {},
   "outputs": [],
   "source": [
    "genotype_mse"
   ]
  },
  {
   "cell_type": "code",
   "execution_count": null,
   "metadata": {},
   "outputs": [],
   "source": [
    "genotype_ridge_mse = genotype_correlation_analysis_ridge(geno_df, pheno_df, phenotype_1, missing_rate = missing_rate)\n",
    "print(genotype_ridge_mse)"
   ]
  },
  {
   "cell_type": "code",
   "execution_count": null,
   "metadata": {},
   "outputs": [],
   "source": [
    "mm_mse = baseline_mixed_model_analysis(geno_df, pheno_df, phenotype_2, phenotype_1, missing_rate = missing_rate)\n"
   ]
  },
  {
   "cell_type": "code",
   "execution_count": null,
   "metadata": {},
   "outputs": [],
   "source": [
    "print(mm_mse)"
   ]
  },
  {
   "cell_type": "code",
   "execution_count": null,
   "metadata": {
    "collapsed": true
   },
   "outputs": [],
   "source": []
  },
  {
   "cell_type": "code",
   "execution_count": null,
   "metadata": {
    "collapsed": true
   },
   "outputs": [],
   "source": []
  },
  {
   "cell_type": "code",
   "execution_count": null,
   "metadata": {
    "collapsed": true
   },
   "outputs": [],
   "source": []
  }
 ],
 "metadata": {
  "kernelspec": {
   "display_name": "Python 3",
   "language": "python",
   "name": "python3"
  },
  "language_info": {
   "codemirror_mode": {
    "name": "ipython",
    "version": 3
   },
   "file_extension": ".py",
   "mimetype": "text/x-python",
   "name": "python",
   "nbconvert_exporter": "python",
   "pygments_lexer": "ipython3",
   "version": "3.6.4"
  }
 },
 "nbformat": 4,
 "nbformat_minor": 2
}
