{
 "cells": [
  {
   "cell_type": "code",
   "execution_count": 1,
   "metadata": {},
   "outputs": [],
   "source": [
    "import os\n",
    "import sys\n",
    "import pandas as pd \n",
    "import numpy as np\n",
    "from data_import import *\n",
    "from phenotype_correlation import *\n",
    "from genotype_correlation import *\n",
    "from baseline_mixed_model import *"
   ]
  },
  {
   "cell_type": "code",
   "execution_count": 2,
   "metadata": {},
   "outputs": [
    {
     "name": "stdout",
     "output_type": "stream",
     "text": [
      "Samples:\n",
      "['F326', 'F327', 'F329', 'F330', 'F331', 'F332', 'F333', 'F334', 'F335', 'F336', 'F337', 'F338', 'F339', 'F340', 'F341', 'F342', 'F343', 'F344', 'F345', 'F346', 'F347', 'F348', 'F349', 'F350', 'F351', 'F352', 'F353', 'F354', 'F355', 'F356', 'F357', 'F358', 'F359', 'F360', 'F361', 'F362', 'F363', 'F364', 'F365', 'F366', 'F367', 'F368', 'F369', 'F371', 'F372', 'F373', 'F374', 'F375', 'F376', 'F377', 'F378', 'F379', 'F380', 'F381', 'F382', 'F383', 'F384', 'F385', 'F386', 'F387', 'F388', 'F389', 'F390', 'F391', 'F392', 'F393', 'F394', 'F395', 'F396', 'F397', 'F398', 'F399', 'F400', 'F401', 'F402', 'F403', 'F405', 'F406', 'F407', 'F408', 'F410', 'F411', 'F412', 'F413', 'F414', 'F415', 'F416', 'F417', 'F418', 'F419', 'F420', 'F421', 'F422', 'F423', 'F424', 'F425', 'M326', 'M327', 'M328', 'M329', 'M330', 'M331', 'M332', 'M333', 'M334', 'M335', 'M336', 'M337', 'M339', 'M340', 'M341', 'M342', 'M343', 'M344', 'M345', 'M347', 'M348', 'M349', 'M350', 'M351', 'M352', 'M353', 'M354', 'M355', 'M356', 'M357', 'M358', 'M359', 'M360', 'M361', 'M362', 'M363', 'M364', 'M365', 'M366', 'M367', 'M368', 'M369', 'M370', 'M371', 'M372', 'M373', 'M374', 'M375', 'M376', 'M378', 'M379', 'M380', 'M381', 'M382', 'M383', 'M384', 'M385', 'M386', 'M387', 'M388', 'M389', 'M390', 'M391', 'M392', 'M393', 'M394', 'M395', 'M396', 'M397', 'M398', 'M399', 'M400', 'M402', 'M403', 'M405', 'M406', 'M407', 'M408', 'M409', 'M410', 'M411', 'M415', 'M416', 'M417', 'M418', 'M419', 'M420', 'M421', 'M422', 'M423', 'M424']\n"
     ]
    }
   ],
   "source": [
    "# import data\n",
    "geno_df, pheno_df = import_data_svenson()"
   ]
  },
  {
   "cell_type": "code",
   "execution_count": 3,
   "metadata": {},
   "outputs": [],
   "source": [
    "# find high correlation phenotype pairs \n",
    "high_corr_mat = calculate_highly_correlated_phenotypes(pheno_df)"
   ]
  },
  {
   "cell_type": "code",
   "execution_count": 4,
   "metadata": {},
   "outputs": [],
   "source": [
    "# testing with ghrelin and leptin \n",
    "phenotype_1 = \"weight1\"\n",
    "phenotype_2 = \"length1\"\n",
    "missing_rate = 0.8"
   ]
  },
  {
   "cell_type": "code",
   "execution_count": 5,
   "metadata": {},
   "outputs": [
    {
     "name": "stdout",
     "output_type": "stream",
     "text": [
      "The correlation between length1 and weight1 is 0.819920\n",
      "These samples are missing phenotypes:\n",
      "[]\n",
      "(77725, 187)\n",
      "(5145, 187)\n",
      "(187, 2)\n"
     ]
    }
   ],
   "source": [
    "mse, test_sample_list = phenotype_correlation_analysis(geno_df, pheno_df, phenotype_2, phenotype_1, missing_rate = missing_rate)"
   ]
  },
  {
   "cell_type": "code",
   "execution_count": 6,
   "metadata": {},
   "outputs": [
    {
     "name": "stdout",
     "output_type": "stream",
     "text": [
      "25.403344479185414\n",
      "['F391' 'F367' 'F392' 'F415' 'M378' 'M416' 'F342' 'F329' 'M407' 'M402'\n",
      " 'F403' 'F330' 'M415' 'M368' 'M332' 'F347' 'M422' 'F416' 'F406' 'F332'\n",
      " 'F389' 'M394' 'M394' 'M334' 'F337' 'M387' 'M335' 'M326' 'F387' 'M389'\n",
      " 'F376' 'M389' 'F365' 'F416' 'F423' 'M383' 'M397' 'M335' 'F421' 'F413'\n",
      " 'F372' 'F367' 'M392' 'M345' 'M407' 'M329' 'F400' 'F352' 'F425' 'F386'\n",
      " 'F330' 'M408' 'F332' 'M424' 'F330' 'F361' 'F366' 'F344' 'F397' 'F381'\n",
      " 'F333' 'F377' 'M396' 'M373' 'M363' 'F411' 'M398' 'M411' 'F344' 'F345'\n",
      " 'F345' 'F405' 'F423' 'F360' 'M359' 'F362' 'F417' 'F390' 'M397' 'M388'\n",
      " 'F378' 'F396' 'F368' 'M399' 'M349' 'F369' 'M417' 'F375' 'F381' 'M385'\n",
      " 'F376' 'M327' 'F373' 'M345' 'F330' 'F335' 'F338' 'F406' 'M399' 'M396'\n",
      " 'M349' 'M328' 'M409' 'F383' 'F359' 'F345' 'F335' 'M350' 'F361' 'M343'\n",
      " 'M400' 'F406' 'F390' 'M381' 'M355' 'M372' 'M394' 'F371' 'F346' 'F424'\n",
      " 'M388' 'M402' 'F373' 'F401' 'M368' 'M356' 'F337' 'M373' 'M420' 'M350'\n",
      " 'F342' 'M329' 'M356' 'F366' 'F347' 'M388' 'M402' 'F376' 'F337' 'F339'\n",
      " 'F421' 'M376' 'M390' 'M396' 'M421' 'F366' 'F358' 'M394' 'M370']\n"
     ]
    }
   ],
   "source": [
    "print(mse)\n",
    "print(test_sample_list)"
   ]
  },
  {
   "cell_type": "code",
   "execution_count": 7,
   "metadata": {},
   "outputs": [
    {
     "name": "stdout",
     "output_type": "stream",
     "text": [
      "These samples are missing phenotypes:\n",
      "[]\n",
      "(77725, 187)\n",
      "(5145, 187)\n",
      "(187, 1)\n"
     ]
    }
   ],
   "source": [
    "# correlation with genotype \n",
    "genotype_mse,  _sample_list = genotype_correlation_analysis(geno_df, pheno_df, phenotype_1, missing_rate = missing_rate, sample_list = test_sample_list)"
   ]
  },
  {
   "cell_type": "code",
   "execution_count": 8,
   "metadata": {},
   "outputs": [
    {
     "data": {
      "text/plain": [
       "46.64738909193734"
      ]
     },
     "execution_count": 8,
     "metadata": {},
     "output_type": "execute_result"
    }
   ],
   "source": [
    "genotype_mse"
   ]
  },
  {
   "cell_type": "code",
   "execution_count": 9,
   "metadata": {},
   "outputs": [
    {
     "name": "stdout",
     "output_type": "stream",
     "text": [
      "These samples are missing phenotypes:\n",
      "[]\n",
      "(77725, 187)\n",
      "(5145, 187)\n",
      "(187, 1)\n",
      "50.092791448070216\n"
     ]
    }
   ],
   "source": [
    "genotype_ridge_mse, _sample_list = genotype_correlation_analysis_ridge(geno_df, pheno_df, phenotype_1, missing_rate = missing_rate, sample_list = test_sample_list)\n",
    "print(genotype_ridge_mse)"
   ]
  },
  {
   "cell_type": "code",
   "execution_count": 10,
   "metadata": {},
   "outputs": [
    {
     "name": "stdout",
     "output_type": "stream",
     "text": [
      "The correlation between length1 and weight1 is 0.819920\n",
      "These samples are missing phenotypes:\n",
      "[]\n",
      "(77725, 187)\n",
      "(5145, 187)\n",
      "(187, 2)\n"
     ]
    }
   ],
   "source": [
    "mm_mse, _sample_list = baseline_mixed_model_analysis(geno_df, pheno_df, phenotype_2, phenotype_1, missing_rate = missing_rate, sample_list = test_sample_list)\n"
   ]
  },
  {
   "cell_type": "code",
   "execution_count": 11,
   "metadata": {},
   "outputs": [
    {
     "name": "stdout",
     "output_type": "stream",
     "text": [
      "34.247188599495495\n"
     ]
    }
   ],
   "source": [
    "print(mm_mse)"
   ]
  },
  {
   "cell_type": "code",
   "execution_count": 12,
   "metadata": {
    "collapsed": true
   },
   "outputs": [],
   "source": [
    "##  actual benchmarking run \n",
    "# testing with high correlation weight1 and length1 \n",
    "# initialization for the benchmark run\n",
    "phenotype_1 = \"weight1\"\n",
    "phenotype_2 = \"length1\"\n",
    "\n",
    "missing_rates = [0.1, 0.15, 0.2, 0.25, 0.3, 0.35, 0.4, 0.45, 0.5, 0.6, 0.7, 0.8, 0.9]\n",
    "\n",
    "num_runs = 10\n",
    "\n",
    "result_list = [] "
   ]
  },
  {
   "cell_type": "code",
   "execution_count": 13,
   "metadata": {},
   "outputs": [
    {
     "name": "stdout",
     "output_type": "stream",
     "text": [
      "Running missing rate 0.100000 run 0\n",
      "The correlation between length1 and weight1 is 0.819920\n",
      "These samples are missing phenotypes:\n",
      "[]\n",
      "(77725, 187)\n",
      "(5145, 187)\n",
      "(187, 2)\n",
      "These samples are missing phenotypes:\n",
      "[]\n",
      "(77725, 187)\n",
      "(5145, 187)\n",
      "(187, 1)\n",
      "The correlation between length1 and weight1 is 0.819920\n",
      "These samples are missing phenotypes:\n",
      "[]\n",
      "(77725, 187)\n",
      "(5145, 187)\n",
      "(187, 2)\n",
      "Running missing rate 0.100000 run 1\n",
      "The correlation between length1 and weight1 is 0.819920\n",
      "These samples are missing phenotypes:\n",
      "[]\n",
      "(77725, 187)\n",
      "(5145, 187)\n",
      "(187, 2)\n",
      "These samples are missing phenotypes:\n",
      "[]\n",
      "(77725, 187)\n",
      "(5145, 187)\n",
      "(187, 1)\n",
      "The correlation between length1 and weight1 is 0.819920\n",
      "These samples are missing phenotypes:\n",
      "[]\n",
      "(77725, 187)\n",
      "(5145, 187)\n",
      "(187, 2)\n",
      "Running missing rate 0.100000 run 2\n",
      "The correlation between length1 and weight1 is 0.819920\n",
      "These samples are missing phenotypes:\n",
      "[]\n",
      "(77725, 187)\n",
      "(5145, 187)\n",
      "(187, 2)\n",
      "These samples are missing phenotypes:\n",
      "[]\n",
      "(77725, 187)\n",
      "(5145, 187)\n",
      "(187, 1)\n",
      "The correlation between length1 and weight1 is 0.819920\n",
      "These samples are missing phenotypes:\n",
      "[]\n",
      "(77725, 187)\n",
      "(5145, 187)\n",
      "(187, 2)\n"
     ]
    },
    {
     "ename": "KeyboardInterrupt",
     "evalue": "",
     "output_type": "error",
     "traceback": [
      "\u001b[0;31m---------------------------------------------------------------------------\u001b[0m",
      "\u001b[0;31mKeyboardInterrupt\u001b[0m                         Traceback (most recent call last)",
      "\u001b[0;32m<ipython-input-13-9f258a1cee3a>\u001b[0m in \u001b[0;36m<module>\u001b[0;34m()\u001b[0m\n\u001b[1;32m     12\u001b[0m         \u001b[0mresult_list\u001b[0m\u001b[0;34m.\u001b[0m\u001b[0mappend\u001b[0m\u001b[0;34m(\u001b[0m\u001b[0mresult_geno\u001b[0m\u001b[0;34m)\u001b[0m\u001b[0;34m\u001b[0m\u001b[0m\n\u001b[1;32m     13\u001b[0m \u001b[0;34m\u001b[0m\u001b[0m\n\u001b[0;32m---> 14\u001b[0;31m         \u001b[0mmm_mse\u001b[0m\u001b[0;34m,\u001b[0m \u001b[0m_sample_list\u001b[0m \u001b[0;34m=\u001b[0m \u001b[0mbaseline_mixed_model_analysis\u001b[0m\u001b[0;34m(\u001b[0m\u001b[0mgeno_df\u001b[0m\u001b[0;34m,\u001b[0m \u001b[0mpheno_df\u001b[0m\u001b[0;34m,\u001b[0m \u001b[0mphenotype_2\u001b[0m\u001b[0;34m,\u001b[0m \u001b[0mphenotype_1\u001b[0m\u001b[0;34m,\u001b[0m \u001b[0mmissing_rate\u001b[0m \u001b[0;34m=\u001b[0m \u001b[0mmissing_rate\u001b[0m\u001b[0;34m,\u001b[0m \u001b[0msample_list\u001b[0m \u001b[0;34m=\u001b[0m \u001b[0mtest_sample_list\u001b[0m\u001b[0;34m)\u001b[0m\u001b[0;34m\u001b[0m\u001b[0m\n\u001b[0m\u001b[1;32m     15\u001b[0m         \u001b[0mresult_mm\u001b[0m \u001b[0;34m=\u001b[0m \u001b[0mpd\u001b[0m\u001b[0;34m.\u001b[0m\u001b[0mDataFrame\u001b[0m\u001b[0;34m(\u001b[0m\u001b[0;34m[\u001b[0m\u001b[0mmissing_rate\u001b[0m\u001b[0;34m,\u001b[0m \u001b[0mi\u001b[0m\u001b[0;34m,\u001b[0m \u001b[0mmm_mse\u001b[0m\u001b[0;34m,\u001b[0m \u001b[0;34m\"Baseline_mixed_model\"\u001b[0m\u001b[0;34m]\u001b[0m\u001b[0;34m)\u001b[0m\u001b[0;34m\u001b[0m\u001b[0m\n\u001b[1;32m     16\u001b[0m         \u001b[0mresult_list\u001b[0m\u001b[0;34m.\u001b[0m\u001b[0mappend\u001b[0m\u001b[0;34m(\u001b[0m\u001b[0mresult_mm\u001b[0m\u001b[0;34m)\u001b[0m\u001b[0;34m\u001b[0m\u001b[0m\n",
      "\u001b[0;32m~/Documents/Research/Class/CS229/cm-229/baseline_mixed_model.py\u001b[0m in \u001b[0;36mbaseline_mixed_model_analysis\u001b[0;34m(geno_df, pheno_df, phenotype_1, phenotype_2, missing_rate, sample_list, verbose)\u001b[0m\n\u001b[1;32m     46\u001b[0m         \u001b[0mresiduals\u001b[0m \u001b[0;34m=\u001b[0m \u001b[0mpheno_tr\u001b[0m\u001b[0;34m[\u001b[0m\u001b[0mphenotype_2\u001b[0m\u001b[0;34m]\u001b[0m \u001b[0;34m-\u001b[0m \u001b[0mlm\u001b[0m\u001b[0;34m.\u001b[0m\u001b[0mpredict\u001b[0m\u001b[0;34m(\u001b[0m\u001b[0mpheno_tr\u001b[0m\u001b[0;34m[\u001b[0m\u001b[0mphenotype_1\u001b[0m\u001b[0;34m]\u001b[0m\u001b[0;34m)\u001b[0m\u001b[0;34m\u001b[0m\u001b[0m\n\u001b[1;32m     47\u001b[0m \u001b[0;34m\u001b[0m\u001b[0m\n\u001b[0;32m---> 48\u001b[0;31m         \u001b[0mlm_re\u001b[0m \u001b[0;34m=\u001b[0m \u001b[0msm\u001b[0m\u001b[0;34m.\u001b[0m\u001b[0mOLS\u001b[0m\u001b[0;34m(\u001b[0m\u001b[0mendog\u001b[0m \u001b[0;34m=\u001b[0m \u001b[0mresiduals\u001b[0m\u001b[0;34m,\u001b[0m \u001b[0mexog\u001b[0m \u001b[0;34m=\u001b[0m \u001b[0mgeno_tr\u001b[0m\u001b[0;34m.\u001b[0m\u001b[0mtranspose\u001b[0m\u001b[0;34m(\u001b[0m\u001b[0;34m)\u001b[0m\u001b[0;34m)\u001b[0m\u001b[0;34m.\u001b[0m\u001b[0mfit_regularized\u001b[0m\u001b[0;34m(\u001b[0m\u001b[0;34m)\u001b[0m\u001b[0;34m\u001b[0m\u001b[0m\n\u001b[0m\u001b[1;32m     49\u001b[0m \u001b[0;34m\u001b[0m\u001b[0m\n\u001b[1;32m     50\u001b[0m         \u001b[0;32mif\u001b[0m \u001b[0mverbose\u001b[0m\u001b[0;34m:\u001b[0m\u001b[0;34m\u001b[0m\u001b[0m\n",
      "\u001b[0;32m~/anaconda3/lib/python3.6/site-packages/statsmodels/regression/linear_model.py\u001b[0m in \u001b[0;36mfit_regularized\u001b[0;34m(self, method, alpha, L1_wt, start_params, profile_scale, refit, **kwargs)\u001b[0m\n\u001b[1;32m    998\u001b[0m                               \u001b[0mrefit\u001b[0m\u001b[0;34m=\u001b[0m\u001b[0mrefit\u001b[0m\u001b[0;34m,\u001b[0m\u001b[0;34m\u001b[0m\u001b[0m\n\u001b[1;32m    999\u001b[0m                               \u001b[0mcheck_step\u001b[0m\u001b[0;34m=\u001b[0m\u001b[0;32mFalse\u001b[0m\u001b[0;34m,\u001b[0m\u001b[0;34m\u001b[0m\u001b[0m\n\u001b[0;32m-> 1000\u001b[0;31m                               **defaults)\n\u001b[0m\u001b[1;32m   1001\u001b[0m \u001b[0;34m\u001b[0m\u001b[0m\n\u001b[1;32m   1002\u001b[0m     \u001b[0mfit_regularized\u001b[0m\u001b[0;34m.\u001b[0m\u001b[0m__doc__\u001b[0m \u001b[0;34m=\u001b[0m \u001b[0m_fit_regularized_doc\u001b[0m\u001b[0;34m\u001b[0m\u001b[0m\n",
      "\u001b[0;32m~/anaconda3/lib/python3.6/site-packages/statsmodels/base/elastic_net.py\u001b[0m in \u001b[0;36mfit_elasticnet\u001b[0;34m(model, method, maxiter, alpha, L1_wt, start_params, cnvrg_tol, zero_tol, refit, check_step, loglike_kwds, score_kwds, hess_kwds)\u001b[0m\n\u001b[1;32m    188\u001b[0m             \u001b[0;31m# Create a one-variable model for optimization.\u001b[0m\u001b[0;34m\u001b[0m\u001b[0;34m\u001b[0m\u001b[0m\n\u001b[1;32m    189\u001b[0m             model_1var = model.__class__(\n\u001b[0;32m--> 190\u001b[0;31m                 model.endog, model.exog[:, k], offset=offset, **init_args)\n\u001b[0m\u001b[1;32m    191\u001b[0m \u001b[0;34m\u001b[0m\u001b[0m\n\u001b[1;32m    192\u001b[0m             \u001b[0;31m# Do the one-dimensional optimization.\u001b[0m\u001b[0;34m\u001b[0m\u001b[0;34m\u001b[0m\u001b[0m\n",
      "\u001b[0;32m~/anaconda3/lib/python3.6/site-packages/statsmodels/regression/linear_model.py\u001b[0m in \u001b[0;36m__init__\u001b[0;34m(self, endog, exog, missing, hasconst, **kwargs)\u001b[0m\n\u001b[1;32m    815\u001b[0m                  **kwargs):\n\u001b[1;32m    816\u001b[0m         super(OLS, self).__init__(endog, exog, missing=missing,\n\u001b[0;32m--> 817\u001b[0;31m                                   hasconst=hasconst, **kwargs)\n\u001b[0m\u001b[1;32m    818\u001b[0m         \u001b[0;32mif\u001b[0m \u001b[0;34m\"weights\"\u001b[0m \u001b[0;32min\u001b[0m \u001b[0mself\u001b[0m\u001b[0;34m.\u001b[0m\u001b[0m_init_keys\u001b[0m\u001b[0;34m:\u001b[0m\u001b[0;34m\u001b[0m\u001b[0m\n\u001b[1;32m    819\u001b[0m             \u001b[0mself\u001b[0m\u001b[0;34m.\u001b[0m\u001b[0m_init_keys\u001b[0m\u001b[0;34m.\u001b[0m\u001b[0mremove\u001b[0m\u001b[0;34m(\u001b[0m\u001b[0;34m\"weights\"\u001b[0m\u001b[0;34m)\u001b[0m\u001b[0;34m\u001b[0m\u001b[0m\n",
      "\u001b[0;32m~/anaconda3/lib/python3.6/site-packages/statsmodels/regression/linear_model.py\u001b[0m in \u001b[0;36m__init__\u001b[0;34m(self, endog, exog, weights, missing, hasconst, **kwargs)\u001b[0m\n\u001b[1;32m    661\u001b[0m             \u001b[0mweights\u001b[0m \u001b[0;34m=\u001b[0m \u001b[0mweights\u001b[0m\u001b[0;34m.\u001b[0m\u001b[0msqueeze\u001b[0m\u001b[0;34m(\u001b[0m\u001b[0;34m)\u001b[0m\u001b[0;34m\u001b[0m\u001b[0m\n\u001b[1;32m    662\u001b[0m         super(WLS, self).__init__(endog, exog, missing=missing,\n\u001b[0;32m--> 663\u001b[0;31m                                   weights=weights, hasconst=hasconst, **kwargs)\n\u001b[0m\u001b[1;32m    664\u001b[0m         \u001b[0mnobs\u001b[0m \u001b[0;34m=\u001b[0m \u001b[0mself\u001b[0m\u001b[0;34m.\u001b[0m\u001b[0mexog\u001b[0m\u001b[0;34m.\u001b[0m\u001b[0mshape\u001b[0m\u001b[0;34m[\u001b[0m\u001b[0;36m0\u001b[0m\u001b[0;34m]\u001b[0m\u001b[0;34m\u001b[0m\u001b[0m\n\u001b[1;32m    665\u001b[0m         \u001b[0mweights\u001b[0m \u001b[0;34m=\u001b[0m \u001b[0mself\u001b[0m\u001b[0;34m.\u001b[0m\u001b[0mweights\u001b[0m\u001b[0;34m\u001b[0m\u001b[0m\n",
      "\u001b[0;32m~/anaconda3/lib/python3.6/site-packages/statsmodels/regression/linear_model.py\u001b[0m in \u001b[0;36m__init__\u001b[0;34m(self, endog, exog, **kwargs)\u001b[0m\n\u001b[1;32m    177\u001b[0m     \"\"\"\n\u001b[1;32m    178\u001b[0m     \u001b[0;32mdef\u001b[0m \u001b[0m__init__\u001b[0m\u001b[0;34m(\u001b[0m\u001b[0mself\u001b[0m\u001b[0;34m,\u001b[0m \u001b[0mendog\u001b[0m\u001b[0;34m,\u001b[0m \u001b[0mexog\u001b[0m\u001b[0;34m,\u001b[0m \u001b[0;34m**\u001b[0m\u001b[0mkwargs\u001b[0m\u001b[0;34m)\u001b[0m\u001b[0;34m:\u001b[0m\u001b[0;34m\u001b[0m\u001b[0m\n\u001b[0;32m--> 179\u001b[0;31m         \u001b[0msuper\u001b[0m\u001b[0;34m(\u001b[0m\u001b[0mRegressionModel\u001b[0m\u001b[0;34m,\u001b[0m \u001b[0mself\u001b[0m\u001b[0;34m)\u001b[0m\u001b[0;34m.\u001b[0m\u001b[0m__init__\u001b[0m\u001b[0;34m(\u001b[0m\u001b[0mendog\u001b[0m\u001b[0;34m,\u001b[0m \u001b[0mexog\u001b[0m\u001b[0;34m,\u001b[0m \u001b[0;34m**\u001b[0m\u001b[0mkwargs\u001b[0m\u001b[0;34m)\u001b[0m\u001b[0;34m\u001b[0m\u001b[0m\n\u001b[0m\u001b[1;32m    180\u001b[0m         \u001b[0mself\u001b[0m\u001b[0;34m.\u001b[0m\u001b[0m_data_attr\u001b[0m\u001b[0;34m.\u001b[0m\u001b[0mextend\u001b[0m\u001b[0;34m(\u001b[0m\u001b[0;34m[\u001b[0m\u001b[0;34m'pinv_wexog'\u001b[0m\u001b[0;34m,\u001b[0m \u001b[0;34m'wendog'\u001b[0m\u001b[0;34m,\u001b[0m \u001b[0;34m'wexog'\u001b[0m\u001b[0;34m,\u001b[0m \u001b[0;34m'weights'\u001b[0m\u001b[0;34m]\u001b[0m\u001b[0;34m)\u001b[0m\u001b[0;34m\u001b[0m\u001b[0m\n\u001b[1;32m    181\u001b[0m \u001b[0;34m\u001b[0m\u001b[0m\n",
      "\u001b[0;32m~/anaconda3/lib/python3.6/site-packages/statsmodels/base/model.py\u001b[0m in \u001b[0;36m__init__\u001b[0;34m(self, endog, exog, **kwargs)\u001b[0m\n\u001b[1;32m    210\u001b[0m \u001b[0;34m\u001b[0m\u001b[0m\n\u001b[1;32m    211\u001b[0m     \u001b[0;32mdef\u001b[0m \u001b[0m__init__\u001b[0m\u001b[0;34m(\u001b[0m\u001b[0mself\u001b[0m\u001b[0;34m,\u001b[0m \u001b[0mendog\u001b[0m\u001b[0;34m,\u001b[0m \u001b[0mexog\u001b[0m\u001b[0;34m=\u001b[0m\u001b[0;32mNone\u001b[0m\u001b[0;34m,\u001b[0m \u001b[0;34m**\u001b[0m\u001b[0mkwargs\u001b[0m\u001b[0;34m)\u001b[0m\u001b[0;34m:\u001b[0m\u001b[0;34m\u001b[0m\u001b[0m\n\u001b[0;32m--> 212\u001b[0;31m         \u001b[0msuper\u001b[0m\u001b[0;34m(\u001b[0m\u001b[0mLikelihoodModel\u001b[0m\u001b[0;34m,\u001b[0m \u001b[0mself\u001b[0m\u001b[0;34m)\u001b[0m\u001b[0;34m.\u001b[0m\u001b[0m__init__\u001b[0m\u001b[0;34m(\u001b[0m\u001b[0mendog\u001b[0m\u001b[0;34m,\u001b[0m \u001b[0mexog\u001b[0m\u001b[0;34m,\u001b[0m \u001b[0;34m**\u001b[0m\u001b[0mkwargs\u001b[0m\u001b[0;34m)\u001b[0m\u001b[0;34m\u001b[0m\u001b[0m\n\u001b[0m\u001b[1;32m    213\u001b[0m         \u001b[0mself\u001b[0m\u001b[0;34m.\u001b[0m\u001b[0minitialize\u001b[0m\u001b[0;34m(\u001b[0m\u001b[0;34m)\u001b[0m\u001b[0;34m\u001b[0m\u001b[0m\n\u001b[1;32m    214\u001b[0m \u001b[0;34m\u001b[0m\u001b[0m\n",
      "\u001b[0;32m~/anaconda3/lib/python3.6/site-packages/statsmodels/base/model.py\u001b[0m in \u001b[0;36m__init__\u001b[0;34m(self, endog, exog, **kwargs)\u001b[0m\n\u001b[1;32m     65\u001b[0m         \u001b[0mself\u001b[0m\u001b[0;34m.\u001b[0m\u001b[0mk_constant\u001b[0m \u001b[0;34m=\u001b[0m \u001b[0mself\u001b[0m\u001b[0;34m.\u001b[0m\u001b[0mdata\u001b[0m\u001b[0;34m.\u001b[0m\u001b[0mk_constant\u001b[0m\u001b[0;34m\u001b[0m\u001b[0m\n\u001b[1;32m     66\u001b[0m         \u001b[0mself\u001b[0m\u001b[0;34m.\u001b[0m\u001b[0mexog\u001b[0m \u001b[0;34m=\u001b[0m \u001b[0mself\u001b[0m\u001b[0;34m.\u001b[0m\u001b[0mdata\u001b[0m\u001b[0;34m.\u001b[0m\u001b[0mexog\u001b[0m\u001b[0;34m\u001b[0m\u001b[0m\n\u001b[0;32m---> 67\u001b[0;31m         \u001b[0mself\u001b[0m\u001b[0;34m.\u001b[0m\u001b[0mendog\u001b[0m \u001b[0;34m=\u001b[0m \u001b[0mself\u001b[0m\u001b[0;34m.\u001b[0m\u001b[0mdata\u001b[0m\u001b[0;34m.\u001b[0m\u001b[0mendog\u001b[0m\u001b[0;34m\u001b[0m\u001b[0m\n\u001b[0m\u001b[1;32m     68\u001b[0m         \u001b[0mself\u001b[0m\u001b[0;34m.\u001b[0m\u001b[0m_data_attr\u001b[0m \u001b[0;34m=\u001b[0m \u001b[0;34m[\u001b[0m\u001b[0;34m]\u001b[0m\u001b[0;34m\u001b[0m\u001b[0m\n\u001b[1;32m     69\u001b[0m         \u001b[0mself\u001b[0m\u001b[0;34m.\u001b[0m\u001b[0m_data_attr\u001b[0m\u001b[0;34m.\u001b[0m\u001b[0mextend\u001b[0m\u001b[0;34m(\u001b[0m\u001b[0;34m[\u001b[0m\u001b[0;34m'exog'\u001b[0m\u001b[0;34m,\u001b[0m \u001b[0;34m'endog'\u001b[0m\u001b[0;34m,\u001b[0m \u001b[0;34m'data.exog'\u001b[0m\u001b[0;34m,\u001b[0m \u001b[0;34m'data.endog'\u001b[0m\u001b[0;34m]\u001b[0m\u001b[0;34m)\u001b[0m\u001b[0;34m\u001b[0m\u001b[0m\n",
      "\u001b[0;31mKeyboardInterrupt\u001b[0m: "
     ]
    }
   ],
   "source": [
    "for missing_rate in missing_rates:\n",
    "    for i in range(num_runs):\n",
    "        \n",
    "        print(\"Running missing rate %f run %i\" % (missing_rate, i))\n",
    "\n",
    "        mse, test_sample_list = phenotype_correlation_analysis(geno_df, pheno_df, phenotype_2, phenotype_1, missing_rate = missing_rate)\n",
    "        result_pheno = pd.DataFrame([missing_rate, i, mse, \"Phenotype_correlation\"])\n",
    "        result_list.append(result_pheno)\n",
    "\n",
    "        genotype_ridge_mse, _sample_list = genotype_correlation_analysis_ridge(geno_df, pheno_df, phenotype_1, missing_rate = missing_rate, sample_list = test_sample_list)\n",
    "        result_geno = pd.DataFrame([missing_rate, i, genotype_ridge_mse, \"Genotype_correlation\"])\n",
    "        result_list.append(result_geno)\n",
    "        \n",
    "        mm_mse, _sample_list = baseline_mixed_model_analysis(geno_df, pheno_df, phenotype_2, phenotype_1, missing_rate = missing_rate, sample_list = test_sample_list)\n",
    "        result_mm = pd.DataFrame([missing_rate, i, mm_mse, \"Baseline_mixed_model\"])\n",
    "        result_list.append(result_mm)\n",
    "        "
   ]
  },
  {
   "cell_type": "code",
   "execution_count": 19,
   "metadata": {},
   "outputs": [],
   "source": [
    "result_df = pd.concat(result_list, axis = 1).transpose()\n",
    "result_df.columns = [\"missing_rate\", \"run\", \"MSE\", \"method\"]"
   ]
  },
  {
   "cell_type": "code",
   "execution_count": 21,
   "metadata": {},
   "outputs": [],
   "source": [
    "result_df.to_csv('./result.csv', index = False)"
   ]
  },
  {
   "cell_type": "code",
   "execution_count": null,
   "metadata": {
    "collapsed": true
   },
   "outputs": [],
   "source": []
  }
 ],
 "metadata": {
  "kernelspec": {
   "display_name": "Python 3",
   "language": "python",
   "name": "python3"
  },
  "language_info": {
   "codemirror_mode": {
    "name": "ipython",
    "version": 3
   },
   "file_extension": ".py",
   "mimetype": "text/x-python",
   "name": "python",
   "nbconvert_exporter": "python",
   "pygments_lexer": "ipython3",
   "version": "3.6.4"
  }
 },
 "nbformat": 4,
 "nbformat_minor": 2
}
